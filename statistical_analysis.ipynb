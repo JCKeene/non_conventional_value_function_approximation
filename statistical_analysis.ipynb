{
 "cells": [
  {
   "cell_type": "code",
   "execution_count": 1,
   "source": [
    "from scipy.stats import ttest_ind\n",
    "import numpy as np\n",
    "import matplotlib.pyplot as plt\n",
    "import matplotlib"
   ],
   "outputs": [],
   "metadata": {}
  },
  {
   "cell_type": "code",
   "execution_count": 2,
   "source": [
    "environment = \"windygrid\"\n",
    "\n",
    "legends = [\"Neural Network\", \"Linear Model\", \"Decision Tree (FQI)\", \"Random Forest (FQI)\", \"Support Vectors (FQI)\", \"K-Neighbours (FQI)\", \"Gaussian Process (FQI)\", \"Gaussian Process (Online)\"]\n",
    "models = [\"Neural Network\", \"Linear Model\", \"Decision Tree\", \"Random Forest\", \"Support Vectors\", \"K-Neighbours\", \"Gaussian Process\", \"Gaussian Process Online\"]\n",
    "n = len(legends)\n",
    "\n",
    "data = []\n",
    "for i in range(len(legends)):\n",
    "    a = np.genfromtxt(f'results/{environment}/eval_returns/{environment}_eval_{models[i]}.csv', delimiter=',')\n",
    "    data.append(a[:,-1])"
   ],
   "outputs": [],
   "metadata": {}
  },
  {
   "cell_type": "code",
   "execution_count": 8,
   "source": [
    "p_values = np.zeros((n,n))\n",
    "\n",
    "for i in range(n):\n",
    "    for j in range(n):\n",
    "        p = ttest_ind(data[i], data[j], equal_var=False).pvalue\n",
    "        # print(p)\n",
    "        p_values[i][j] += p\n",
    "        "
   ],
   "outputs": [],
   "metadata": {}
  },
  {
   "cell_type": "code",
   "execution_count": 9,
   "source": [
    "data"
   ],
   "outputs": [
    {
     "output_type": "execute_result",
     "data": {
      "text/plain": [
       "[array([-15., -15., -15., -15., -15., -15., -15., -15., -18., -15., -15.,\n",
       "        -15., -15., -15., -15., -15., -15., -15., -15., -15., -15., -15.,\n",
       "        -15., -15., -15., -15., -15., -15., -15., -15.]),\n",
       " array([-15., -15., -15., -15., -15., -15., -15., -15., -15., -15., -15.,\n",
       "        -15., -15., -15., -15., -15., -15., -15., -15., -15., -15., -15.,\n",
       "        -15., -15., -15., -15., -15., -15., -15., -15.]),\n",
       " array([ -15.,  -15., -500.,  -17.,  -15.,  -15.,  -15.,  -15., -500.,\n",
       "         -15.,  -15.,  -15., -500.,  -17.,  -15.,  -15.,  -15., -500.,\n",
       "         -15.,  -15.,  -15.,  -15., -500.,  -17.,  -15.,  -15.,  -15.,\n",
       "         -15., -500.,  -15.]),\n",
       " array([ -15.,  -15., -500.,  -15.,  -15.,  -15.,  -15., -500.,  -15.,\n",
       "         -15.,  -15.,  -15., -500.,  -15.,  -15.,  -15.,  -15., -500.,\n",
       "         -15.,  -15., -500., -500.,  -15.,  -15.,  -15.,  -15.,  -15.,\n",
       "         -15.,  -15.,  -15.]),\n",
       " array([-500., -500., -500., -500., -500., -500., -500., -500., -500.,\n",
       "        -500., -500., -500., -500., -500., -500., -500., -500., -500.,\n",
       "        -500., -500., -500., -500., -500., -500., -500., -500., -500.,\n",
       "        -500., -500., -500.]),\n",
       " array([ -15.,  -15., -500., -500., -500., -500., -500., -500.,  -16.,\n",
       "         -15.,  -15.,  -15., -500., -500., -500., -500., -500., -500.,\n",
       "         -16.,  -15.,  -15.,  -15., -500., -500., -500., -500., -500.,\n",
       "        -500.,  -16.,  -15.]),\n",
       " array([-500., -500., -500., -500., -500., -500., -500., -500., -500.,\n",
       "        -500., -500., -500., -500., -500., -500., -500., -500., -500.,\n",
       "        -500., -500., -500., -500., -500., -500., -500., -500., -500.,\n",
       "        -500., -500., -500.]),\n",
       " array([-500., -500., -500., -500., -500., -500., -500., -500., -500.,\n",
       "        -500., -500., -500., -500., -500., -500., -500., -500., -500.,\n",
       "        -500., -500., -500., -500., -500., -500., -500., -500., -500.,\n",
       "        -500., -500., -500.])]"
      ]
     },
     "metadata": {},
     "execution_count": 9
    }
   ],
   "metadata": {}
  },
  {
   "cell_type": "code",
   "execution_count": 21,
   "source": [
    "p_values[7][6] = 1.1"
   ],
   "outputs": [],
   "metadata": {
    "scrolled": true
   }
  },
  {
   "cell_type": "code",
   "execution_count": 11,
   "source": [
    "def heatmap(data, row_labels, col_labels, ax=None,\n",
    "            cbar_kw={}, cbarlabel=\"\", **kwargs):\n",
    "    \"\"\"\n",
    "    Create a heatmap from a numpy array and two lists of labels.\n",
    "\n",
    "    Parameters\n",
    "    ----------\n",
    "    data\n",
    "        A 2D numpy array of shape (N, M).\n",
    "    row_labels\n",
    "        A list or array of length N with the labels for the rows.\n",
    "    col_labels\n",
    "        A list or array of length M with the labels for the columns.\n",
    "    ax\n",
    "        A `matplotlib.axes.Axes` instance to which the heatmap is plotted.  If\n",
    "        not provided, use current axes or create a new one.  Optional.\n",
    "    cbar_kw\n",
    "        A dictionary with arguments to `matplotlib.Figure.colorbar`.  Optional.\n",
    "    cbarlabel\n",
    "        The label for the colorbar.  Optional.\n",
    "    **kwargs\n",
    "        All other arguments are forwarded to `imshow`.\n",
    "    \"\"\"\n",
    "\n",
    "    if not ax:\n",
    "        ax = plt.gca()\n",
    "\n",
    "    # Plot the heatmap\n",
    "    im = ax.imshow(data, **kwargs)\n",
    "\n",
    "    # Create colorbar\n",
    "    cbar = ax.figure.colorbar(im, ax=ax, **cbar_kw)\n",
    "    cbar.ax.set_ylabel(cbarlabel, rotation=-90, va=\"bottom\")\n",
    "\n",
    "    # We want to show all ticks...\n",
    "    ax.set_xticks(np.arange(data.shape[1]))\n",
    "    ax.set_yticks(np.arange(data.shape[0]))\n",
    "    # ... and label them with the respective list entries.\n",
    "    ax.set_xticklabels(col_labels)\n",
    "    ax.set_yticklabels(row_labels)\n",
    "\n",
    "    # Let the horizontal axes labeling appear on top.\n",
    "    ax.tick_params(top=True, bottom=False,\n",
    "                   labeltop=True, labelbottom=False)\n",
    "\n",
    "    # Rotate the tick labels and set their alignment.\n",
    "    plt.setp(ax.get_xticklabels(), rotation=-40, ha=\"right\",\n",
    "             rotation_mode=\"anchor\")\n",
    "\n",
    "    # Turn spines off and create white grid.\n",
    "    ax.spines[:].set_visible(False)\n",
    "\n",
    "    ax.set_xticks(np.arange(data.shape[1]+1)-.5, minor=True)\n",
    "    ax.set_yticks(np.arange(data.shape[0]+1)-.5, minor=True)\n",
    "    ax.grid(which=\"minor\", color=\"w\", linestyle='-', linewidth=3)\n",
    "    ax.tick_params(which=\"minor\", bottom=False, left=False)\n",
    "\n",
    "    return im, cbar\n",
    "\n",
    "\n",
    "def annotate_heatmap(im, data=None, valfmt=\"{x:.2f}\",\n",
    "                     textcolors=(\"black\", \"white\"),\n",
    "                     threshold=None, **textkw):\n",
    "    \"\"\"\n",
    "    A function to annotate a heatmap.\n",
    "\n",
    "    Parameters\n",
    "    ----------\n",
    "    im\n",
    "        The AxesImage to be labeled.\n",
    "    data\n",
    "        Data used to annotate.  If None, the image's data is used.  Optional.\n",
    "    valfmt\n",
    "        The format of the annotations inside the heatmap.  This should either\n",
    "        use the string format method, e.g. \"$ {x:.2f}\", or be a\n",
    "        `matplotlib.ticker.Formatter`.  Optional.\n",
    "    textcolors\n",
    "        A pair of colors.  The first is used for values below a threshold,\n",
    "        the second for those above.  Optional.\n",
    "    threshold\n",
    "        Value in data units according to which the colors from textcolors are\n",
    "        applied.  If None (the default) uses the middle of the colormap as\n",
    "        separation.  Optional.\n",
    "    **kwargs\n",
    "        All other arguments are forwarded to each call to `text` used to create\n",
    "        the text labels.\n",
    "    \"\"\"\n",
    "\n",
    "    if not isinstance(data, (list, np.ndarray)):\n",
    "        data = im.get_array()\n",
    "\n",
    "    # Normalize the threshold to the images color range.\n",
    "    if threshold is not None:\n",
    "        threshold = im.norm(threshold)\n",
    "    else:\n",
    "        threshold = im.norm(data.max())/2.\n",
    "\n",
    "    # Set default alignment to center, but allow it to be\n",
    "    # overwritten by textkw.\n",
    "    kw = dict(horizontalalignment=\"center\",\n",
    "              verticalalignment=\"center\")\n",
    "    kw.update(textkw)\n",
    "\n",
    "    # Get the formatter in case a string is supplied\n",
    "    if isinstance(valfmt, str):\n",
    "        valfmt = matplotlib.ticker.StrMethodFormatter(valfmt)\n",
    "\n",
    "    # Loop over the data and create a `Text` for each \"pixel\".\n",
    "    # Change the text's color depending on the data.\n",
    "    texts = []\n",
    "    for i in range(data.shape[0]):\n",
    "        for j in range(data.shape[1]):\n",
    "            kw.update(color=textcolors[int(im.norm(data[i, j]) < threshold)])\n",
    "            text = im.axes.text(j, i, valfmt(data[i, j], None), **kw)\n",
    "            texts.append(text)\n",
    "\n",
    "    return texts"
   ],
   "outputs": [],
   "metadata": {}
  },
  {
   "cell_type": "code",
   "execution_count": 22,
   "source": [
    "fig, ax = plt.subplots(figsize=(8,5))\n",
    "\n",
    "im, cbar = heatmap(p_values, legends, legends, ax=ax,\n",
    "                   cmap=\"YlGn_r\", cbarlabel=\"p-value\")\n",
    "# texts = annotate_heatmap(im, valfmt=\"{x:.3f}\")\n",
    "\n",
    "def func(x, pos):\n",
    "    return \"{:.3f}\".format(x).replace(\"0.\", \".\").replace(\"1.000\", \"\").replace(\"1.100\", \"1.000\")\n",
    "\n",
    "annotate_heatmap(im, valfmt=matplotlib.ticker.FuncFormatter(func), size=7)\n",
    "\n",
    "fig.tight_layout()\n",
    "plt.savefig(f\"{environment}_ttest_pvalues.pdf\", format=\"pdf\", bbox_inches=\"tight\")"
   ],
   "outputs": [
    {
     "output_type": "display_data",
     "data": {
      "text/plain": [
       "<Figure size 576x360 with 2 Axes>"
      ],
      "image/png": "[encoded data removed]"
     },
     "metadata": {
      "needs_background": "light"
     }
    }
   ],
   "metadata": {}
  },
  {
   "cell_type": "code",
   "execution_count": null,
   "source": [],
   "outputs": [],
   "metadata": {}
  }
 ],
 "metadata": {
  "interpreter": {
   "hash": "916dbcbb3f70747c44a77c7bcd40155683ae19c65e1c03b4aa3499c5328201f1"
  },
  "kernelspec": {
   "name": "python3",
   "display_name": "Python 3.8.10 64-bit"
  },
  "language_info": {
   "codemirror_mode": {
    "name": "ipython",
    "version": 3
   },
   "file_extension": ".py",
   "mimetype": "text/x-python",
   "name": "python",
   "nbconvert_exporter": "python",
   "pygments_lexer": "ipython3",
   "version": "3.8.10"
  }
 },
 "nbformat": 4,
 "nbformat_minor": 2
}