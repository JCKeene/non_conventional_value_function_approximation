{
 "metadata": {
  "language_info": {
   "codemirror_mode": {
    "name": "ipython",
    "version": 3
   },
   "file_extension": ".py",
   "mimetype": "text/x-python",
   "name": "python",
   "nbconvert_exporter": "python",
   "pygments_lexer": "ipython3",
   "version": "3.8.8"
  },
  "orig_nbformat": 2,
  "kernelspec": {
   "name": "python3",
   "display_name": "Python 3.8.8 64-bit ('rl_vfa_venv': venv)"
  },
  "interpreter": {
   "hash": "22a4fa19595f02a13987d52fdee973c5ab514be50202bb6cec211f6ae6538c08"
  }
 },
 "nbformat": 4,
 "nbformat_minor": 2,
 "cells": [
  {
   "cell_type": "code",
   "execution_count": 1,
   "source": [
    "## Imports\n",
    "\n",
    "import gym \n",
    "import numpy as np\n",
    "\n",
    "from function_approximators.function_approximators import NeuralNetwork, LinearModel, DecisionTree, RandomForest, SupportVectorRegressor, KNeighboursRegressor, GaussianProcess, OnlineGaussianProcess\n",
    "from sklearn.gaussian_process.kernels import RBF\n",
    "from sklearn.metrics.pairwise import rbf_kernel\n",
    "\n",
    "from utils.train_utils import train, solve, train_time\n",
    "\n",
    "from agents.agents import DQNAgent, LinearAgent, FQIAgent, OnlineGaussianProccessAgent\n",
    "import operator\n"
   ],
   "outputs": [],
   "metadata": {}
  },
  {
   "cell_type": "code",
   "execution_count": 2,
   "source": [
    "## Environment\n",
    "\n",
    "function_approximators = [NeuralNetwork, LinearModel, DecisionTree, RandomForest, SupportVectorRegressor, KNeighboursRegressor, GaussianProcess, OnlineGaussianProcess]\n",
    "\n",
    "agents = [DQNAgent, LinearAgent, *[FQIAgent]*5, OnlineGaussianProccessAgent]\n",
    "\n",
    "RENDER = False\n",
    "env = gym.make(\"LunarLander-v2\")\n",
    "environment = \"lunarlander\""
   ],
   "outputs": [],
   "metadata": {}
  },
  {
   "cell_type": "code",
   "execution_count": 5,
   "source": [
    "# DQN Config\n",
    "CONFIG_DQN = {\n",
    "    \"episode_length\": 500,\n",
    "    \"max_timesteps\": 200000,\n",
    "    \"max_time\": 30 * 60,\n",
    "    \"eval_freq\": 10000, \n",
    "    \"eval_episodes\": 10,\n",
    "    \"learning_rate\": 0.0015,\n",
    "    \"hidden_size\": (256,128),\n",
    "    \"target_update_freq\": 100,\n",
    "    \"batch_size\": 64,\n",
    "    \"gamma\": 0.99,\n",
    "    \"buffer_capacity\": int(1e6),\n",
    "    \"plot_loss\": False,\n",
    "    \"epsilon\": 1,\n",
    "    \"max_deduct\": 0.95,\n",
    "    \"decay\": 0.1,\n",
    "    \"lr_step_size\": 1000,\n",
    "    \"lr_gamma\": 0.99,\n",
    "    \"max_steps\": 500,\n",
    "    \"non_param\": False,\n",
    "}\n",
    "\n",
    "# Linear Config\n",
    "CONFIG_LINEAR = {\n",
    "    \"episode_length\": 500,\n",
    "    \"max_timesteps\": 200000,\n",
    "    \"max_time\": 30 * 60,\n",
    "    \"eval_freq\": 10000, \n",
    "    \"eval_episodes\": 10,\n",
    "    \"learning_rate\": 0.02,\n",
    "    \"target_update_freq\": 50,\n",
    "    \"batch_size\": 64,\n",
    "    \"gamma\": 0.99,\n",
    "    \"buffer_capacity\": int(1e5),\n",
    "    \"plot_loss\": False,\n",
    "    \"epsilon\": 1,\n",
    "    \"max_steps\": 500,\n",
    "    \"poly_degree\": 4,\n",
    "    \"max_deduct\": 0.95,\n",
    "    \"decay\": 0.1,\n",
    "    \"lr_step_size\": 1000,\n",
    "    \"lr_gamma\": 0.99,\n",
    "    \"non_param\": False,\n",
    "}\n",
    "\n",
    "# Decision Tree Config\n",
    "CONFIG_DT = {\n",
    "    \"episode_length\": 500,\n",
    "    \"max_timesteps\": 200000,\n",
    "    \"max_time\": 30 * 60,\n",
    "    \"eval_freq\": 10000, \n",
    "    \"eval_episodes\": 10,\n",
    "    \"model_save_freq\": 0,\n",
    "    \"model_save_capacity\": 0,\n",
    "    \"update_freq\": 1,\n",
    "    \"batch_size\": 128,\n",
    "    \"gamma\": 0.99,\n",
    "    \"buffer_capacity\": int(1e6),\n",
    "    \"epsilon\": 1,\n",
    "    \"max_deduct\": 0.9,\n",
    "    \"decay\": 0.4,\n",
    "    \"max_steps\": 500,\n",
    "    \"non_param\": True,\n",
    "    \"model_params\": {\"criterion\":\"mse\",\"max_depth\": 20, \"min_samples_split\": 20, \"min_samples_leaf\": 5},\n",
    "    \"feature_names\": [\"Cart Position\", \"Cart Velocity\", \"Pole Angle\", \"Pole Angular Velocity\", \"Action: Push Left\", \"Action: Push Right\"],\n",
    "    \"plot_name\": \"dt_depth=8\",\n",
    "}\n",
    "\n",
    "# Random Forest Config\n",
    "CONFIG_RF = {\n",
    "    \"episode_length\": 500,\n",
    "    \"max_timesteps\": 200000,\n",
    "    \"max_time\": 30 * 1000,\n",
    "    \"eval_freq\": 10000, \n",
    "    \"eval_episodes\": 10,\n",
    "    \"model_save_freq\": 0,\n",
    "    \"model_save_capacity\": 0,\n",
    "    \"update_freq\": 10,\n",
    "    \"batch_size\": 128,\n",
    "    \"gamma\": 0.99,\n",
    "    \"buffer_capacity\": int(1e6),\n",
    "    \"epsilon\": 1,\n",
    "    \"max_deduct\": 0.9,\n",
    "    \"decay\": 0.4,\n",
    "    \"max_steps\": 500,\n",
    "    \"non_param\": True,\n",
    "    \"model_params\": {\"n_estimators\": 10,\"max_depth\": 20, \"min_samples_split\": 20, \"min_samples_leaf\": 5},\n",
    "}\n",
    "\n",
    "# Support Vector Regressor Config\n",
    "CONFIG_SVR = {\n",
    "    \"episode_length\": 500,\n",
    "    \"max_timesteps\": 200000,\n",
    "    \"max_time\": 30 * 1000,\n",
    "    \"eval_freq\": 10000, \n",
    "    \"eval_episodes\": 10,\n",
    "    \"model_save_freq\": 0,\n",
    "    \"model_save_capacity\": 0,\n",
    "    \"update_freq\": 200,\n",
    "    \"batch_size\": 128,\n",
    "    \"gamma\": 0.99,\n",
    "    \"buffer_capacity\": int(1e6),\n",
    "    \"epsilon\": 1,\n",
    "    \"max_deduct\": 0.95,\n",
    "    \"decay\": 0.3,\n",
    "    \"max_steps\": 500,\n",
    "    \"non_param\": True,\n",
    "    \"model_params\": {\"kernel\":\"rbf\", \"degree\": 2, \"C\": 1.2},\n",
    "}\n",
    "\n",
    "\n",
    "# K-Neighbors Regressor Config\n",
    "CONFIG_KNR = {\n",
    "    \"episode_length\": 500,\n",
    "    \"max_timesteps\": 200000,\n",
    "    \"max_time\": 30 * 1000,\n",
    "    \"eval_freq\": 10000, \n",
    "    \"eval_episodes\": 10,\n",
    "    \"model_save_freq\": 0,\n",
    "    \"model_save_capacity\": 0,\n",
    "    \"update_freq\": 100,\n",
    "    \"batch_size\": 128,\n",
    "    \"gamma\": 0.99,\n",
    "    \"buffer_capacity\": int(1e6),\n",
    "    \"epsilon\": 1,\n",
    "    \"max_deduct\": 0.93,\n",
    "    \"decay\": 0.4,\n",
    "    \"max_steps\": 500,\n",
    "    \"non_param\": True,\n",
    "    \"model_params\": {\"n_neighbors\":10, \"weights\": \"distance\", \"algorithm\": \"auto\", \"leaf_size\": 30},\n",
    "}\n",
    "\n",
    "# Gaussian Process Config\n",
    "CONFIG_GP = {\n",
    "    \"episode_length\": 500,\n",
    "    \"max_timesteps\": 200000,\n",
    "    \"max_time\": 30 * 1000,\n",
    "    \"eval_freq\": 10000, \n",
    "    \"eval_episodes\": 10,\n",
    "    \"model_save_freq\": 0,\n",
    "    \"model_save_capacity\": 0,\n",
    "    \"update_freq\": 100,\n",
    "    \"batch_size\": 128,\n",
    "    \"gamma\": 0.99,\n",
    "    \"buffer_capacity\": int(1e6),\n",
    "    \"epsilon\": 1,\n",
    "    \"max_deduct\": 0.9,\n",
    "    \"decay\": 0.4,\n",
    "    \"max_steps\": 500,\n",
    "    \"non_param\": True,\n",
    "    \"model_params\": {\"alpha\": 1e-10, \"normalize_y\": False, \"kernel\":  RBF(length_scale=0.3, length_scale_bounds=\"fixed\")},\n",
    "}\n",
    "\n",
    "# Online Gaussian Process Config\n",
    "CONFIG_GP_Online = {\n",
    "    \"episode_length\": 500,\n",
    "    \"max_timesteps\": 200000,\n",
    "    \"max_time\": 30 * 1000,\n",
    "    \"eval_freq\": 10000, \n",
    "    \"eval_episodes\": 10,\n",
    "    \"gamma\": 0.99,\n",
    "    \"buffer_capacity\": int(1e6),\n",
    "    \"batch_size\": 32,\n",
    "    \"epsilon\": 1,\n",
    "    \"max_deduct\": 0.93,\n",
    "    \"decay\": 0.4,\n",
    "    \"max_steps\": 500,\n",
    "    \"non_param\": True,\n",
    "    \"model_params\": {\"sigma_0\": 0.3, \"init\": 0, \"kernel\":  rbf_kernel, \"epsilon_tol\": 0.075, \"basis_limit\": 1000},\n",
    "}\n",
    "\n",
    "CONFIGS = [CONFIG_DQN, CONFIG_LINEAR, CONFIG_DT, CONFIG_RF, CONFIG_SVR, CONFIG_KNR, CONFIG_GP, CONFIG_GP_Online]\n",
    "onlines = [False, False, False, False, False, False, False, True]\n",
    "models = [\"Neural Network\", \"Linear Model\", \"Decision Tree\", \"Random Forest\", \"Support Vectors\", \"K-Neighbours\", \"Gaussian Process\", \"Gaussian Process Online\"]"
   ],
   "outputs": [],
   "metadata": {}
  },
  {
   "cell_type": "code",
   "execution_count": 4,
   "source": [
    "## Performance Evaluation\n",
    "\n",
    "returns = []\n",
    "train_returns = []\n",
    "train_times = []\n",
    "n_seeds=30\n",
    "\n",
    "j=4\n",
    "for i in range(n_seeds):\n",
    "    print(f\"\\n Run: {i+1} \\n\")\n",
    "    r, _, t, times = train(env, \n",
    "            CONFIGS[j], \n",
    "            fa=function_approximators[j], \n",
    "            agent = agents[j], \n",
    "            render=RENDER,\n",
    "            online=onlines[j],\n",
    "            threshold = 0.25)\n",
    "    env.close()\n",
    "    returns.append(r)\n",
    "    train_returns.append(t)\n",
    "    train_times.append(times)\n",
    "    \n"
   ],
   "outputs": [
    {
     "output_type": "stream",
     "name": "stderr",
     "text": [
      "  0%|          | 488/200000 [00:00<00:53, 3733.26it/s]"
     ]
    },
    {
     "output_type": "stream",
     "name": "stdout",
     "text": [
      "\n",
      " Run: 1 \n",
      "\n"
     ]
    },
    {
     "output_type": "stream",
     "name": "stderr",
     "text": [
      "  5%|▌         | 10069/200000 [00:33<23:26, 135.00it/s]"
     ]
    },
    {
     "output_type": "stream",
     "name": "stdout",
     "text": [
      "Evaluation at timestep 10069 returned a mean returns of 28.83572672831072\n",
      "Epsilon = 0.8421891666666667\n",
      "Replay Buffer count: 2007\n"
     ]
    },
    {
     "output_type": "stream",
     "name": "stderr",
     "text": [
      " 10%|█         | 20111/200000 [02:49<57:39, 52.00it/s]"
     ]
    },
    {
     "output_type": "stream",
     "name": "stdout",
     "text": [
      "Evaluation at timestep 20111 returned a mean returns of 34.19422262921398\n",
      "Epsilon = 0.6842041666666667\n",
      "Replay Buffer count: 3325\n"
     ]
    },
    {
     "output_type": "stream",
     "name": "stderr",
     "text": [
      " 15%|█▌        | 30091/200000 [07:44<1:51:54, 25.31it/s]"
     ]
    },
    {
     "output_type": "stream",
     "name": "stdout",
     "text": [
      "Evaluation at timestep 30091 returned a mean returns of -60.453579735244475\n",
      "Epsilon = 0.5257283333333334\n",
      "Replay Buffer count: 4770\n"
     ]
    },
    {
     "output_type": "stream",
     "name": "stderr",
     "text": [
      " 20%|██        | 40239/200000 [16:23<2:33:52, 17.30it/s]"
     ]
    },
    {
     "output_type": "stream",
     "name": "stdout",
     "text": [
      "Evaluation at timestep 40239 returned a mean returns of 23.193655350341015\n",
      "Epsilon = 0.36812333333333336\n",
      "Replay Buffer count: 5819\n"
     ]
    },
    {
     "output_type": "stream",
     "name": "stderr",
     "text": [
      " 25%|██▌       | 50112/200000 [27:33<3:02:32, 13.69it/s]"
     ]
    },
    {
     "output_type": "stream",
     "name": "stdout",
     "text": [
      "Evaluation at timestep 50112 returned a mean returns of -0.6440524561405092\n",
      "Epsilon = 0.21447666666666676\n",
      "Replay Buffer count: 6461\n"
     ]
    },
    {
     "output_type": "stream",
     "name": "stderr",
     "text": [
      " 26%|██▋       | 52612/200000 [31:18<1:27:43, 28.00it/s]\n"
     ]
    },
    {
     "output_type": "error",
     "ename": "KeyboardInterrupt",
     "evalue": "",
     "traceback": [
      "\u001b[0;31m---------------------------------------------------------------------------\u001b[0m",
      "\u001b[0;31mKeyboardInterrupt\u001b[0m                         Traceback (most recent call last)",
      "\u001b[0;32m<ipython-input-4-603070a6d5b9>\u001b[0m in \u001b[0;36m<module>\u001b[0;34m\u001b[0m\n\u001b[1;32m      9\u001b[0m \u001b[0;32mfor\u001b[0m \u001b[0mi\u001b[0m \u001b[0;32min\u001b[0m \u001b[0mrange\u001b[0m\u001b[0;34m(\u001b[0m\u001b[0mn_seeds\u001b[0m\u001b[0;34m)\u001b[0m\u001b[0;34m:\u001b[0m\u001b[0;34m\u001b[0m\u001b[0;34m\u001b[0m\u001b[0m\n\u001b[1;32m     10\u001b[0m     \u001b[0mprint\u001b[0m\u001b[0;34m(\u001b[0m\u001b[0;34mf\"\\n Run: {i+1} \\n\"\u001b[0m\u001b[0;34m)\u001b[0m\u001b[0;34m\u001b[0m\u001b[0;34m\u001b[0m\u001b[0m\n\u001b[0;32m---> 11\u001b[0;31m     r, _, t, times = train(env, \n\u001b[0m\u001b[1;32m     12\u001b[0m             \u001b[0mCONFIGS\u001b[0m\u001b[0;34m[\u001b[0m\u001b[0mj\u001b[0m\u001b[0;34m]\u001b[0m\u001b[0;34m,\u001b[0m\u001b[0;34m\u001b[0m\u001b[0;34m\u001b[0m\u001b[0m\n\u001b[1;32m     13\u001b[0m             \u001b[0mfa\u001b[0m\u001b[0;34m=\u001b[0m\u001b[0mfunction_approximators\u001b[0m\u001b[0;34m[\u001b[0m\u001b[0mj\u001b[0m\u001b[0;34m]\u001b[0m\u001b[0;34m,\u001b[0m\u001b[0;34m\u001b[0m\u001b[0;34m\u001b[0m\u001b[0m\n",
      "\u001b[0;32m~/rl_vfa/utils/train_utils.py\u001b[0m in \u001b[0;36mtrain\u001b[0;34m(env, config, fa, agent, output, render, online, threshold)\u001b[0m\n\u001b[1;32m    102\u001b[0m \u001b[0;34m\u001b[0m\u001b[0m\n\u001b[1;32m    103\u001b[0m             \u001b[0magent\u001b[0m\u001b[0;34m.\u001b[0m\u001b[0mschedule_hyperparameters\u001b[0m\u001b[0;34m(\u001b[0m\u001b[0mtimesteps_elapsed\u001b[0m\u001b[0;34m,\u001b[0m \u001b[0mconfig\u001b[0m\u001b[0;34m[\u001b[0m\u001b[0;34m\"max_timesteps\"\u001b[0m\u001b[0;34m]\u001b[0m\u001b[0;34m)\u001b[0m\u001b[0;34m\u001b[0m\u001b[0;34m\u001b[0m\u001b[0m\n\u001b[0;32m--> 104\u001b[0;31m             episode_timesteps, train_return, losses = play_episode(\n\u001b[0m\u001b[1;32m    105\u001b[0m                 \u001b[0menv\u001b[0m\u001b[0;34m,\u001b[0m\u001b[0;34m\u001b[0m\u001b[0;34m\u001b[0m\u001b[0m\n\u001b[1;32m    106\u001b[0m                 \u001b[0magent\u001b[0m\u001b[0;34m,\u001b[0m\u001b[0;34m\u001b[0m\u001b[0;34m\u001b[0m\u001b[0m\n",
      "\u001b[0;32m~/rl_vfa/utils/train_utils.py\u001b[0m in \u001b[0;36mplay_episode\u001b[0;34m(env, agent, replay_buffer, non_param, max_steps, online, threshold, batch_size, train, explore, render)\u001b[0m\n\u001b[1;32m     52\u001b[0m                         \u001b[0magent\u001b[0m\u001b[0;34m.\u001b[0m\u001b[0minitial_fit\u001b[0m\u001b[0;34m(\u001b[0m\u001b[0mbatch\u001b[0m\u001b[0;34m)\u001b[0m\u001b[0;34m\u001b[0m\u001b[0;34m\u001b[0m\u001b[0m\n\u001b[1;32m     53\u001b[0m                     \u001b[0;32melse\u001b[0m\u001b[0;34m:\u001b[0m\u001b[0;34m\u001b[0m\u001b[0;34m\u001b[0m\u001b[0m\n\u001b[0;32m---> 54\u001b[0;31m                         \u001b[0magent\u001b[0m\u001b[0;34m.\u001b[0m\u001b[0mupdate\u001b[0m\u001b[0;34m(\u001b[0m\u001b[0mbatch\u001b[0m\u001b[0;34m)\u001b[0m\u001b[0;34m\u001b[0m\u001b[0;34m\u001b[0m\u001b[0m\n\u001b[0m\u001b[1;32m     55\u001b[0m                 \u001b[0;32melse\u001b[0m\u001b[0;34m:\u001b[0m\u001b[0;34m\u001b[0m\u001b[0;34m\u001b[0m\u001b[0m\n\u001b[1;32m     56\u001b[0m                     \u001b[0mloss\u001b[0m \u001b[0;34m=\u001b[0m \u001b[0magent\u001b[0m\u001b[0;34m.\u001b[0m\u001b[0mupdate\u001b[0m\u001b[0;34m(\u001b[0m\u001b[0mbatch\u001b[0m\u001b[0;34m)\u001b[0m\u001b[0;34m[\u001b[0m\u001b[0;34m\"q_loss\"\u001b[0m\u001b[0;34m]\u001b[0m\u001b[0;34m\u001b[0m\u001b[0;34m\u001b[0m\u001b[0m\n",
      "\u001b[0;32m~/rl_vfa/agents/agents.py\u001b[0m in \u001b[0;36mupdate\u001b[0;34m(self, batch)\u001b[0m\n\u001b[1;32m    262\u001b[0m             \u001b[0mpreds\u001b[0m \u001b[0;34m=\u001b[0m \u001b[0mnp\u001b[0m\u001b[0;34m.\u001b[0m\u001b[0marray\u001b[0m\u001b[0;34m(\u001b[0m\u001b[0mpreds\u001b[0m\u001b[0;34m)\u001b[0m\u001b[0;34m.\u001b[0m\u001b[0mT\u001b[0m\u001b[0;34m\u001b[0m\u001b[0;34m\u001b[0m\u001b[0m\n\u001b[1;32m    263\u001b[0m             \u001b[0moutputs\u001b[0m \u001b[0;34m=\u001b[0m \u001b[0mnp\u001b[0m\u001b[0;34m.\u001b[0m\u001b[0marray\u001b[0m\u001b[0;34m(\u001b[0m\u001b[0mbatch\u001b[0m\u001b[0;34m.\u001b[0m\u001b[0mrewards\u001b[0m \u001b[0;34m+\u001b[0m \u001b[0mself\u001b[0m\u001b[0;34m.\u001b[0m\u001b[0mgamma\u001b[0m \u001b[0;34m*\u001b[0m \u001b[0;34m(\u001b[0m\u001b[0;36m1\u001b[0m\u001b[0;34m-\u001b[0m\u001b[0mbatch\u001b[0m\u001b[0;34m.\u001b[0m\u001b[0mdone\u001b[0m\u001b[0;34m)\u001b[0m \u001b[0;34m*\u001b[0m \u001b[0mnp\u001b[0m\u001b[0;34m.\u001b[0m\u001b[0mmax\u001b[0m\u001b[0;34m(\u001b[0m\u001b[0mpreds\u001b[0m\u001b[0;34m,\u001b[0m \u001b[0;36m1\u001b[0m\u001b[0;34m)\u001b[0m\u001b[0;34m.\u001b[0m\u001b[0mreshape\u001b[0m\u001b[0;34m(\u001b[0m\u001b[0;34m-\u001b[0m\u001b[0;36m1\u001b[0m\u001b[0;34m,\u001b[0m\u001b[0;36m1\u001b[0m\u001b[0;34m)\u001b[0m\u001b[0;34m)\u001b[0m\u001b[0;34m.\u001b[0m\u001b[0mreshape\u001b[0m\u001b[0;34m(\u001b[0m\u001b[0;34m-\u001b[0m\u001b[0;36m1\u001b[0m\u001b[0;34m)\u001b[0m\u001b[0;34m\u001b[0m\u001b[0;34m\u001b[0m\u001b[0m\n\u001b[0;32m--> 264\u001b[0;31m             \u001b[0mself\u001b[0m\u001b[0;34m.\u001b[0m\u001b[0mmodel\u001b[0m\u001b[0;34m.\u001b[0m\u001b[0mfit\u001b[0m\u001b[0;34m(\u001b[0m\u001b[0minputs\u001b[0m\u001b[0;34m,\u001b[0m \u001b[0moutputs\u001b[0m\u001b[0;34m)\u001b[0m\u001b[0;34m\u001b[0m\u001b[0;34m\u001b[0m\u001b[0m\n\u001b[0m\u001b[1;32m    265\u001b[0m \u001b[0;34m\u001b[0m\u001b[0m\n\u001b[1;32m    266\u001b[0m             \u001b[0;31m# check for update condition\u001b[0m\u001b[0;34m\u001b[0m\u001b[0;34m\u001b[0m\u001b[0;34m\u001b[0m\u001b[0m\n",
      "\u001b[0;32m~/rl_vfa/function_approximators/function_approximators.py\u001b[0m in \u001b[0;36mfit\u001b[0;34m(self, inputs, outputs)\u001b[0m\n\u001b[1;32m     80\u001b[0m \u001b[0;34m\u001b[0m\u001b[0m\n\u001b[1;32m     81\u001b[0m     \u001b[0;32mdef\u001b[0m \u001b[0mfit\u001b[0m\u001b[0;34m(\u001b[0m\u001b[0mself\u001b[0m\u001b[0;34m,\u001b[0m \u001b[0minputs\u001b[0m\u001b[0;34m,\u001b[0m \u001b[0moutputs\u001b[0m\u001b[0;34m)\u001b[0m\u001b[0;34m:\u001b[0m\u001b[0;34m\u001b[0m\u001b[0;34m\u001b[0m\u001b[0m\n\u001b[0;32m---> 82\u001b[0;31m         \u001b[0mself\u001b[0m\u001b[0;34m.\u001b[0m\u001b[0mmodel\u001b[0m\u001b[0;34m.\u001b[0m\u001b[0mfit\u001b[0m\u001b[0;34m(\u001b[0m\u001b[0minputs\u001b[0m\u001b[0;34m,\u001b[0m \u001b[0moutputs\u001b[0m\u001b[0;34m)\u001b[0m\u001b[0;34m\u001b[0m\u001b[0;34m\u001b[0m\u001b[0m\n\u001b[0m\u001b[1;32m     83\u001b[0m \u001b[0;34m\u001b[0m\u001b[0m\n\u001b[1;32m     84\u001b[0m \u001b[0;32mclass\u001b[0m \u001b[0mDecisionTree\u001b[0m\u001b[0;34m(\u001b[0m\u001b[0mNonParametricModel\u001b[0m\u001b[0;34m)\u001b[0m\u001b[0;34m:\u001b[0m\u001b[0;34m\u001b[0m\u001b[0;34m\u001b[0m\u001b[0m\n",
      "\u001b[0;32m~/rl_vfa_venv/lib/python3.8/site-packages/sklearn/svm/_base.py\u001b[0m in \u001b[0;36mfit\u001b[0;34m(self, X, y, sample_weight)\u001b[0m\n\u001b[1;32m    224\u001b[0m \u001b[0;34m\u001b[0m\u001b[0m\n\u001b[1;32m    225\u001b[0m         \u001b[0mseed\u001b[0m \u001b[0;34m=\u001b[0m \u001b[0mrnd\u001b[0m\u001b[0;34m.\u001b[0m\u001b[0mrandint\u001b[0m\u001b[0;34m(\u001b[0m\u001b[0mnp\u001b[0m\u001b[0;34m.\u001b[0m\u001b[0miinfo\u001b[0m\u001b[0;34m(\u001b[0m\u001b[0;34m'i'\u001b[0m\u001b[0;34m)\u001b[0m\u001b[0;34m.\u001b[0m\u001b[0mmax\u001b[0m\u001b[0;34m)\u001b[0m\u001b[0;34m\u001b[0m\u001b[0;34m\u001b[0m\u001b[0m\n\u001b[0;32m--> 226\u001b[0;31m         \u001b[0mfit\u001b[0m\u001b[0;34m(\u001b[0m\u001b[0mX\u001b[0m\u001b[0;34m,\u001b[0m \u001b[0my\u001b[0m\u001b[0;34m,\u001b[0m \u001b[0msample_weight\u001b[0m\u001b[0;34m,\u001b[0m \u001b[0msolver_type\u001b[0m\u001b[0;34m,\u001b[0m \u001b[0mkernel\u001b[0m\u001b[0;34m,\u001b[0m \u001b[0mrandom_seed\u001b[0m\u001b[0;34m=\u001b[0m\u001b[0mseed\u001b[0m\u001b[0;34m)\u001b[0m\u001b[0;34m\u001b[0m\u001b[0;34m\u001b[0m\u001b[0m\n\u001b[0m\u001b[1;32m    227\u001b[0m         \u001b[0;31m# see comment on the other call to np.iinfo in this file\u001b[0m\u001b[0;34m\u001b[0m\u001b[0;34m\u001b[0m\u001b[0;34m\u001b[0m\u001b[0m\n\u001b[1;32m    228\u001b[0m \u001b[0;34m\u001b[0m\u001b[0m\n",
      "\u001b[0;32m~/rl_vfa_venv/lib/python3.8/site-packages/sklearn/svm/_base.py\u001b[0m in \u001b[0;36m_dense_fit\u001b[0;34m(self, X, y, sample_weight, solver_type, kernel, random_seed)\u001b[0m\n\u001b[1;32m    275\u001b[0m         \u001b[0mself\u001b[0m\u001b[0;34m.\u001b[0m\u001b[0msupport_\u001b[0m\u001b[0;34m,\u001b[0m \u001b[0mself\u001b[0m\u001b[0;34m.\u001b[0m\u001b[0msupport_vectors_\u001b[0m\u001b[0;34m,\u001b[0m \u001b[0mself\u001b[0m\u001b[0;34m.\u001b[0m\u001b[0m_n_support\u001b[0m\u001b[0;34m,\u001b[0m\u001b[0;31m \u001b[0m\u001b[0;31m\\\u001b[0m\u001b[0;34m\u001b[0m\u001b[0;34m\u001b[0m\u001b[0m\n\u001b[1;32m    276\u001b[0m             \u001b[0mself\u001b[0m\u001b[0;34m.\u001b[0m\u001b[0mdual_coef_\u001b[0m\u001b[0;34m,\u001b[0m \u001b[0mself\u001b[0m\u001b[0;34m.\u001b[0m\u001b[0mintercept_\u001b[0m\u001b[0;34m,\u001b[0m \u001b[0mself\u001b[0m\u001b[0;34m.\u001b[0m\u001b[0m_probA\u001b[0m\u001b[0;34m,\u001b[0m\u001b[0;31m \u001b[0m\u001b[0;31m\\\u001b[0m\u001b[0;34m\u001b[0m\u001b[0;34m\u001b[0m\u001b[0m\n\u001b[0;32m--> 277\u001b[0;31m             self._probB, self.fit_status_ = libsvm.fit(\n\u001b[0m\u001b[1;32m    278\u001b[0m                 \u001b[0mX\u001b[0m\u001b[0;34m,\u001b[0m \u001b[0my\u001b[0m\u001b[0;34m,\u001b[0m\u001b[0;34m\u001b[0m\u001b[0;34m\u001b[0m\u001b[0m\n\u001b[1;32m    279\u001b[0m                 \u001b[0msvm_type\u001b[0m\u001b[0;34m=\u001b[0m\u001b[0msolver_type\u001b[0m\u001b[0;34m,\u001b[0m \u001b[0msample_weight\u001b[0m\u001b[0;34m=\u001b[0m\u001b[0msample_weight\u001b[0m\u001b[0;34m,\u001b[0m\u001b[0;34m\u001b[0m\u001b[0;34m\u001b[0m\u001b[0m\n",
      "\u001b[0;31mKeyboardInterrupt\u001b[0m: "
     ]
    }
   ],
   "metadata": {
    "tags": []
   }
  },
  {
   "cell_type": "code",
   "execution_count": 5,
   "source": [
    "with open(f'{environment}_eval_{models[j]}.csv', 'ab') as eval:\n",
    "    for i in range(n_seeds):\n",
    "        np.savetxt(eval, [returns[i]], delimiter=',')"
   ],
   "outputs": [
    {
     "output_type": "error",
     "ename": "IndexError",
     "evalue": "list index out of range",
     "traceback": [
      "\u001b[0;31m---------------------------------------------------------------------------\u001b[0m",
      "\u001b[0;31mIndexError\u001b[0m                                Traceback (most recent call last)",
      "\u001b[0;32m<ipython-input-5-8b9ea85759c4>\u001b[0m in \u001b[0;36m<module>\u001b[0;34m\u001b[0m\n\u001b[1;32m      1\u001b[0m \u001b[0;32mwith\u001b[0m \u001b[0mopen\u001b[0m\u001b[0;34m(\u001b[0m\u001b[0;34mf'{environment}_eval_{models[j]}.csv'\u001b[0m\u001b[0;34m,\u001b[0m \u001b[0;34m'ab'\u001b[0m\u001b[0;34m)\u001b[0m \u001b[0;32mas\u001b[0m \u001b[0meval\u001b[0m\u001b[0;34m:\u001b[0m\u001b[0;34m\u001b[0m\u001b[0;34m\u001b[0m\u001b[0m\n\u001b[1;32m      2\u001b[0m     \u001b[0;32mfor\u001b[0m \u001b[0mi\u001b[0m \u001b[0;32min\u001b[0m \u001b[0mrange\u001b[0m\u001b[0;34m(\u001b[0m\u001b[0mn_seeds\u001b[0m\u001b[0;34m)\u001b[0m\u001b[0;34m:\u001b[0m\u001b[0;34m\u001b[0m\u001b[0;34m\u001b[0m\u001b[0m\n\u001b[0;32m----> 3\u001b[0;31m         \u001b[0mnp\u001b[0m\u001b[0;34m.\u001b[0m\u001b[0msavetxt\u001b[0m\u001b[0;34m(\u001b[0m\u001b[0meval\u001b[0m\u001b[0;34m,\u001b[0m \u001b[0;34m[\u001b[0m\u001b[0mreturns\u001b[0m\u001b[0;34m[\u001b[0m\u001b[0mi\u001b[0m\u001b[0;34m]\u001b[0m\u001b[0;34m]\u001b[0m\u001b[0;34m,\u001b[0m \u001b[0mdelimiter\u001b[0m\u001b[0;34m=\u001b[0m\u001b[0;34m','\u001b[0m\u001b[0;34m)\u001b[0m\u001b[0;34m\u001b[0m\u001b[0;34m\u001b[0m\u001b[0m\n\u001b[0m",
      "\u001b[0;31mIndexError\u001b[0m: list index out of range"
     ]
    }
   ],
   "metadata": {}
  },
  {
   "cell_type": "code",
   "execution_count": 6,
   "source": [
    "with open(f'{environment}_train_{models[j]}.csv', 'ab') as train:\n",
    "    for i in range(n_seeds):\n",
    "        np.savetxt(train, [train_returns[i]], delimiter=',')\n",
    "        np.savetxt(train, [train_times[i]], delimiter=',')"
   ],
   "outputs": [
    {
     "output_type": "error",
     "ename": "IndexError",
     "evalue": "list index out of range",
     "traceback": [
      "\u001b[0;31m---------------------------------------------------------------------------\u001b[0m",
      "\u001b[0;31mIndexError\u001b[0m                                Traceback (most recent call last)",
      "\u001b[0;32m<ipython-input-6-deadea133753>\u001b[0m in \u001b[0;36m<module>\u001b[0;34m\u001b[0m\n\u001b[1;32m      1\u001b[0m \u001b[0;32mwith\u001b[0m \u001b[0mopen\u001b[0m\u001b[0;34m(\u001b[0m\u001b[0;34mf'{environment}_train_{models[j]}.csv'\u001b[0m\u001b[0;34m,\u001b[0m \u001b[0;34m'ab'\u001b[0m\u001b[0;34m)\u001b[0m \u001b[0;32mas\u001b[0m \u001b[0mtrain\u001b[0m\u001b[0;34m:\u001b[0m\u001b[0;34m\u001b[0m\u001b[0;34m\u001b[0m\u001b[0m\n\u001b[1;32m      2\u001b[0m     \u001b[0;32mfor\u001b[0m \u001b[0mi\u001b[0m \u001b[0;32min\u001b[0m \u001b[0mrange\u001b[0m\u001b[0;34m(\u001b[0m\u001b[0mn_seeds\u001b[0m\u001b[0;34m)\u001b[0m\u001b[0;34m:\u001b[0m\u001b[0;34m\u001b[0m\u001b[0;34m\u001b[0m\u001b[0m\n\u001b[0;32m----> 3\u001b[0;31m         \u001b[0mnp\u001b[0m\u001b[0;34m.\u001b[0m\u001b[0msavetxt\u001b[0m\u001b[0;34m(\u001b[0m\u001b[0mtrain\u001b[0m\u001b[0;34m,\u001b[0m \u001b[0;34m[\u001b[0m\u001b[0mtrain_returns\u001b[0m\u001b[0;34m[\u001b[0m\u001b[0mi\u001b[0m\u001b[0;34m]\u001b[0m\u001b[0;34m]\u001b[0m\u001b[0;34m,\u001b[0m \u001b[0mdelimiter\u001b[0m\u001b[0;34m=\u001b[0m\u001b[0;34m','\u001b[0m\u001b[0;34m)\u001b[0m\u001b[0;34m\u001b[0m\u001b[0;34m\u001b[0m\u001b[0m\n\u001b[0m\u001b[1;32m      4\u001b[0m         \u001b[0mnp\u001b[0m\u001b[0;34m.\u001b[0m\u001b[0msavetxt\u001b[0m\u001b[0;34m(\u001b[0m\u001b[0mtrain\u001b[0m\u001b[0;34m,\u001b[0m \u001b[0;34m[\u001b[0m\u001b[0mtrain_times\u001b[0m\u001b[0;34m[\u001b[0m\u001b[0mi\u001b[0m\u001b[0;34m]\u001b[0m\u001b[0;34m]\u001b[0m\u001b[0;34m,\u001b[0m \u001b[0mdelimiter\u001b[0m\u001b[0;34m=\u001b[0m\u001b[0;34m','\u001b[0m\u001b[0;34m)\u001b[0m\u001b[0;34m\u001b[0m\u001b[0;34m\u001b[0m\u001b[0m\n",
      "\u001b[0;31mIndexError\u001b[0m: list index out of range"
     ]
    }
   ],
   "metadata": {}
  },
  {
   "cell_type": "code",
   "execution_count": 10,
   "source": [
    "## Sample Efficiency Evaluation\n",
    "\n",
    "n_eps = []\n",
    "n_steps = []\n",
    "not_solved = []\n",
    "n_seeds=10\n",
    "\n",
    "j=4\n",
    "for i in range(n_seeds):\n",
    "    print(f\"\\n Run: {i+1} \\n\")\n",
    "    s, e, n = solve(env, \n",
    "            CONFIGS[j], \n",
    "            fa=function_approximators[j], \n",
    "            agent = agents[j],\n",
    "            target_return=100,\n",
    "            op=operator.ge, \n",
    "            render=RENDER,\n",
    "            online=onlines[j],\n",
    "            threshold=0.25)\n",
    "    env.close()\n",
    "    n_eps.append(e)\n",
    "    n_steps.append(s)\n",
    "    not_solved.append(n)"
   ],
   "outputs": [
    {
     "output_type": "stream",
     "name": "stdout",
     "text": [
      "\n",
      " Run: 1 \n",
      "\n",
      "Ep. timesteps: 500\n",
      "Total timesteps: 10455\n",
      "Total episodes: 78\n",
      "Evaluation mean return: 114.72874752385272\n",
      "\n",
      " Run: 2 \n",
      "\n",
      "Ep. timesteps: 500\n",
      "Total timesteps: 6306\n",
      "Total episodes: 54\n",
      "Evaluation mean return: 143.54222720984495\n",
      "\n",
      " Run: 3 \n",
      "\n",
      "Ep. timesteps: 494\n",
      "Total timesteps: 11736\n",
      "Total episodes: 72\n",
      "Evaluation mean return: 159.6750638685724\n",
      "\n",
      " Run: 4 \n",
      "\n",
      "Ep. timesteps: 500\n",
      "Total timesteps: 16944\n",
      "Total episodes: 93\n",
      "Evaluation mean return: 175.46025593824072\n",
      "\n",
      " Run: 5 \n",
      "\n",
      "Ep. timesteps: 387\n",
      "Total timesteps: 9434\n",
      "Total episodes: 74\n",
      "Evaluation mean return: 279.08728930953407\n",
      "\n",
      " Run: 6 \n",
      "\n",
      "Ep. timesteps: 244\n",
      "Total timesteps: 14255\n",
      "Total episodes: 87\n",
      "Evaluation mean return: 302.6887018206717\n",
      "\n",
      " Run: 7 \n",
      "\n",
      "Ep. timesteps: 500\n",
      "Total timesteps: 14544\n",
      "Total episodes: 81\n",
      "Evaluation mean return: 130.73198234143658\n",
      "\n",
      " Run: 8 \n",
      "\n",
      "Ep. timesteps: 384\n",
      "Total timesteps: 15448\n",
      "Total episodes: 89\n",
      "Evaluation mean return: 200.9778050945896\n",
      "\n",
      " Run: 9 \n",
      "\n",
      "Ep. timesteps: 452\n",
      "Total timesteps: 9004\n",
      "Total episodes: 68\n",
      "Evaluation mean return: 253.31903114885287\n",
      "\n",
      " Run: 10 \n",
      "\n",
      "Ep. timesteps: 319\n",
      "Total timesteps: 25827\n",
      "Total episodes: 112\n",
      "Evaluation mean return: 306.9790779530725\n"
     ]
    }
   ],
   "metadata": {}
  },
  {
   "cell_type": "code",
   "execution_count": 11,
   "source": [
    "with open(f'{environment}_se_{models[j]}.csv', 'ab') as se:\n",
    "    np.savetxt(se, [n_eps], delimiter=',')\n",
    "    np.savetxt(se, [n_steps], delimiter=',')\n",
    "    np.savetxt(se, [not_solved], delimiter=',')"
   ],
   "outputs": [],
   "metadata": {}
  },
  {
   "cell_type": "code",
   "execution_count": 22,
   "source": [
    "mean_eps = np.mean(n_eps)\n",
    "std_eps = np.std(n_eps)\n",
    "print(f\"Average n_eps: {mean_eps}\")\n",
    "print(f\"Std n_eps: {std_eps}\")\n",
    "print(f\"St.error n_eps: {std_eps/np.sqrt(n_seeds)}\")\n",
    "\n",
    "mean_steps = np.mean(n_steps)\n",
    "std_steps = np.std(n_steps)\n",
    "print(f\"Average n_steps: {mean_steps}0\")\n",
    "print(f\"Std n_steps: {std_steps}\")\n",
    "print(f\"St.error n_steps: {std_steps/np.sqrt(n_seeds)}\")\n",
    "\n",
    "print(f\"Not solved: {np.sum(not_solved)} runs\")"
   ],
   "outputs": [
    {
     "output_type": "stream",
     "name": "stdout",
     "text": [
      "Average n_eps: 21.633333333333333\n",
      "Std n_eps: 27.45721924902245\n",
      "St.error n_eps: 5.0129794496848845\n",
      "Average n_steps: 900.60\n",
      "Std n_steps: 1383.9435826651315\n",
      "St.error n_steps: 252.67237284673604\n",
      "Not solved: 3 runs\n"
     ]
    }
   ],
   "metadata": {}
  },
  {
   "cell_type": "code",
   "execution_count": 16,
   "source": [
    "## Training time\n",
    "\n",
    "times = []\n",
    "for j in range(2,8):\n",
    "        time = train_time(env, \n",
    "                CONFIGS[j], \n",
    "                fa=function_approximators[j], \n",
    "                agent = agents[j],\n",
    "                online=onlines[j],\n",
    "                threshold=0.45)\n",
    "        env.close()\n",
    "        times.append(time)\n",
    "\n",
    "print(time)"
   ],
   "outputs": [
    {
     "output_type": "stream",
     "name": "stderr",
     "text": [
      " 17%|█▋        | 34080/200000 [05:33<53:35, 51.59it/s]"
     ]
    }
   ],
   "metadata": {}
  },
  {
   "cell_type": "code",
   "execution_count": 13,
   "source": [
    "with open(f'{environment}_times.csv', 'ab') as t:\n",
    "    np.savetxt(t, [times], delimiter=',')"
   ],
   "outputs": [],
   "metadata": {}
  },
  {
   "cell_type": "code",
   "execution_count": null,
   "source": [],
   "outputs": [],
   "metadata": {}
  }
 ]
}