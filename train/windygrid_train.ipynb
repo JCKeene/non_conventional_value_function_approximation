{
 "metadata": {
  "language_info": {
   "codemirror_mode": {
    "name": "ipython",
    "version": 3
   },
   "file_extension": ".py",
   "mimetype": "text/x-python",
   "name": "python",
   "nbconvert_exporter": "python",
   "pygments_lexer": "ipython3",
   "version": "3.8.8"
  },
  "orig_nbformat": 2,
  "kernelspec": {
   "name": "python3",
   "display_name": "Python 3.8.8 64-bit ('rl_vfa_venv': venv)"
  },
  "interpreter": {
   "hash": "ca6e9933f728d920a33c4385152fc811e414d8d97bad348677111d3aff399912"
  }
 },
 "nbformat": 4,
 "nbformat_minor": 2,
 "cells": [
  {
   "cell_type": "code",
   "execution_count": 1,
   "source": [
    "## Imports\n",
    "\n",
    "import numpy as np\n",
    "from custom_envs.gridworlds import WindyGridworldEnv\n",
    "\n",
    "from function_approximators.function_approximators import NeuralNetwork, LinearModel, DecisionTree, RandomForest, SupportVectorRegressor, KNeighboursRegressor, GaussianProcess, OnlineGaussianProcess\n",
    "from sklearn.gaussian_process.kernels import RBF\n",
    "from sklearn.metrics.pairwise import rbf_kernel\n",
    "\n",
    "from utils.train_utils import train, solve, train_time\n",
    "from agents.agents import DQNAgent, LinearAgent, FQIAgent, OnlineGaussianProccessAgent\n",
    "import operator\n"
   ],
   "outputs": [],
   "metadata": {}
  },
  {
   "cell_type": "code",
   "execution_count": 2,
   "source": [
    "## Environment\n",
    "\n",
    "function_approximators = [NeuralNetwork, LinearModel, DecisionTree, RandomForest, SupportVectorRegressor, KNeighboursRegressor, GaussianProcess, OnlineGaussianProcess]\n",
    "\n",
    "agents = [DQNAgent, LinearAgent, *[FQIAgent]*5, OnlineGaussianProccessAgent]\n",
    "\n",
    "RENDER = False\n",
    "# env = HybridGridworldEnv()\n",
    "env = WindyGridworldEnv()\n",
    "\n",
    "environment = \"windygrid\""
   ],
   "outputs": [],
   "metadata": {}
  },
  {
   "cell_type": "code",
   "execution_count": 3,
   "source": [
    "## Configuration Files\n",
    "\n",
    "# DQN Config\n",
    "CONFIG_DQN = {\n",
    "    \"episode_length\": 500,\n",
    "    \"max_timesteps\": 20000,\n",
    "    \"max_time\": 30 * 60,\n",
    "    \"eval_freq\": 1000, \n",
    "    \"eval_episodes\": 10,\n",
    "    \"learning_rate\": 0.0007,\n",
    "    \"hidden_size\": (64,64),\n",
    "    \"target_update_freq\": 200,\n",
    "    \"batch_size\": 32,\n",
    "    \"gamma\": 0.99,\n",
    "    \"buffer_capacity\": int(1e6),\n",
    "    \"plot_loss\": False,\n",
    "    \"epsilon\": 1,\n",
    "    \"max_deduct\": 0.97,\n",
    "    \"decay\": 0.3,\n",
    "    \"lr_step_size\": 1000,\n",
    "    \"lr_gamma\": 0.95,\n",
    "    \"max_steps\": 500,\n",
    "    \"non_param\": False,\n",
    "}\n",
    "\n",
    "# Linear Config\n",
    "CONFIG_LINEAR = {\n",
    "    \"episode_length\": 500,\n",
    "    \"max_timesteps\": 20000,\n",
    "    \"max_time\": 30 * 60,\n",
    "    \"eval_freq\": 1000, \n",
    "    \"eval_episodes\": 10,\n",
    "    \"learning_rate\": 0.02,\n",
    "    \"target_update_freq\": 50,\n",
    "    \"batch_size\": 32,\n",
    "    \"gamma\": 0.99,\n",
    "    \"buffer_capacity\": int(1e7),\n",
    "    \"plot_loss\": False,\n",
    "    \"epsilon\": 1,\n",
    "    \"max_steps\": 500,\n",
    "    \"poly_degree\": 1,\n",
    "    \"max_deduct\": 0.97,\n",
    "    \"decay\": 0.5,\n",
    "    \"lr_step_size\": 1000,\n",
    "    \"lr_gamma\": 0.99,\n",
    "    \"non_param\": False,\n",
    "}\n",
    "\n",
    "# Decision Tree Config\n",
    "CONFIG_DT = {\n",
    "    \"episode_length\": 500,\n",
    "    \"max_timesteps\": 20000,\n",
    "    \"max_time\": 30 * 60,\n",
    "    \"eval_freq\": 1000, \n",
    "    \"eval_episodes\": 10,\n",
    "    \"model_save_freq\": 1000,\n",
    "    \"model_save_capacity\": 20,\n",
    "    \"update_freq\": 1,\n",
    "    \"batch_size\": 128,\n",
    "    \"gamma\": 0.99,\n",
    "    \"buffer_capacity\": int(1e6),\n",
    "    \"epsilon\": 1,\n",
    "    \"max_deduct\": 0.9,\n",
    "    \"decay\": 0.4,\n",
    "    \"max_steps\": 500,\n",
    "    \"non_param\": True,\n",
    "    \"model_params\": {\"criterion\":\"mse\",\"max_depth\": 100, \"min_samples_split\": 2, \"min_samples_leaf\": 1},\n",
    "    \"feature_names\": [\"Cart Position\", \"Cart Velocity\", \"Pole Angle\", \"Pole Angular Velocity\", \"Action: Push Left\", \"Action: Push Right\"],\n",
    "    \"plot_name\": \"dt_depth=8\",\n",
    "}\n",
    "\n",
    "# Random Forest Config\n",
    "CONFIG_RF = {\n",
    "    \"episode_length\": 500,\n",
    "    \"max_timesteps\": 20000,\n",
    "    \"max_time\": 30 * 60,\n",
    "    \"eval_freq\": 1000, \n",
    "    \"eval_episodes\": 10,\n",
    "    \"model_save_freq\": 5000,\n",
    "    \"model_save_capacity\": 20,\n",
    "    \"update_freq\": 1,\n",
    "    \"batch_size\": 128,\n",
    "    \"gamma\": 0.99,\n",
    "    \"buffer_capacity\": int(1e6),\n",
    "    \"epsilon\": 1,\n",
    "    \"max_deduct\": 0.9,\n",
    "    \"decay\": 0.4,\n",
    "    \"max_steps\": 500,\n",
    "    \"non_param\": True,\n",
    "    \"model_params\": {\"n_estimators\": 5,\"max_depth\": 100, \"min_samples_split\": 2, \"min_samples_leaf\": 1},\n",
    "}\n",
    "\n",
    "# Support Vector Regressor Config\n",
    "CONFIG_SVR = {\n",
    "    \"episode_length\": 500,\n",
    "    \"max_timesteps\": 20000,\n",
    "    \"max_time\": 30 * 60,\n",
    "    \"eval_freq\": 1000, \n",
    "    \"eval_episodes\": 1,\n",
    "    \"model_save_freq\": 1000,\n",
    "    \"model_save_capacity\": 20,\n",
    "    \"update_freq\": 1,\n",
    "    \"batch_size\": 64,\n",
    "    \"gamma\": 0.99,\n",
    "    \"buffer_capacity\": 512,\n",
    "    \"epsilon\": 1,\n",
    "    \"max_deduct\": 0.95,\n",
    "    \"decay\": 0.4,\n",
    "    \"max_steps\": 500,\n",
    "    \"non_param\": True,\n",
    "    \"model_params\": {\"kernel\":\"rbf\", \"degree\": 2, \"C\": 1},\n",
    "}\n",
    "\n",
    "\n",
    "# K-Neighbors Regressor Config\n",
    "CONFIG_KNR = {\n",
    "    \"episode_length\": 500,\n",
    "    \"max_timesteps\": 20000,\n",
    "    \"max_time\": 30 * 60,\n",
    "    \"eval_freq\": 1000, \n",
    "    \"eval_episodes\": 10,\n",
    "    \"model_save_freq\": 1000,\n",
    "    \"model_save_capacity\": 20,\n",
    "    \"update_freq\": 1,\n",
    "    \"batch_size\": 64,\n",
    "    \"gamma\": 0.99,\n",
    "    \"buffer_capacity\": int(1e6),\n",
    "    \"epsilon\": 1,\n",
    "    \"max_deduct\": 0.9,\n",
    "    \"decay\": 0.4,\n",
    "    \"max_steps\": 500,\n",
    "    \"non_param\": True,\n",
    "    \"model_params\": {\"n_neighbors\":5, \"weights\": \"distance\", \"algorithm\": \"auto\", \"leaf_size\": 30},\n",
    "}\n",
    "\n",
    "# Gaussian Process Config\n",
    "CONFIG_GP = {\n",
    "    \"episode_length\": 500,\n",
    "    \"max_timesteps\": 20000,\n",
    "    \"max_time\": 30 * 60,\n",
    "    \"eval_freq\": 1000, \n",
    "    \"eval_episodes\": 10,\n",
    "    \"model_save_freq\": 1000,\n",
    "    \"model_save_capacity\": 20,\n",
    "    \"update_freq\": 10,\n",
    "    \"batch_size\": 64,\n",
    "    \"gamma\": 0.99,\n",
    "    \"buffer_capacity\": int(1e6),\n",
    "    \"epsilon\": 1,\n",
    "    \"max_deduct\": 0.9,\n",
    "    \"decay\": 0.4,\n",
    "    \"max_steps\": 500,\n",
    "    \"non_param\": True,\n",
    "    \"model_params\": {\"alpha\": 1e-10, \"normalize_y\": False, \"kernel\":  RBF(length_scale=0.5, length_scale_bounds=\"fixed\")},\n",
    "}\n",
    "\n",
    "# Online Gaussian Process Config\n",
    "CONFIG_GP_Online = {\n",
    "    \"episode_length\": 500,\n",
    "    \"max_timesteps\": 20000,\n",
    "    \"max_time\": 30 * 60,\n",
    "    \"eval_freq\": 1000, \n",
    "    \"eval_episodes\": 10,\n",
    "    \"gamma\": 0.99,\n",
    "    \"buffer_capacity\": int(1e6),\n",
    "    \"batch_size\": 32,\n",
    "    \"epsilon\": 1,\n",
    "    \"max_deduct\": 0.9,\n",
    "    \"decay\": 0.4,\n",
    "    \"max_steps\": 500,\n",
    "    \"non_param\": True,\n",
    "    \"model_params\": {\"sigma_0\": 0.5, \"init\":-200, \"kernel\":  rbf_kernel, \"epsilon_tol\": 0.045, \"basis_limit\": 1000},\n",
    "}\n",
    "\n",
    "CONFIGS = [CONFIG_DQN, CONFIG_LINEAR, CONFIG_DT, CONFIG_RF, CONFIG_SVR, CONFIG_KNR, CONFIG_GP, CONFIG_GP_Online]\n",
    "onlines = [False, False, False, False, False, False, False, True]\n",
    "models = [\"Neural Network\", \"Linear Model\", \"Decision Tree\", \"Random Forest\", \"Support Vectors\", \"K-Neighbours\", \"Gaussian Process\", \"Gaussian Process Online\"]"
   ],
   "outputs": [],
   "metadata": {}
  },
  {
   "cell_type": "code",
   "execution_count": 5,
   "source": [
    "## Performance Evaluation\n",
    "\n",
    "returns = []\n",
    "train_returns = []\n",
    "train_times = []\n",
    "n_seeds=30\n",
    "\n",
    "j=2\n",
    "for i in range(n_seeds):\n",
    "    print(f\"\\n Run: {i+1} \\n\")\n",
    "    r, _, t, times = train(env, \n",
    "            CONFIGS[j], \n",
    "            fa=function_approximators[j], \n",
    "            agent = agents[j], \n",
    "            render=RENDER,\n",
    "            online=onlines[j],\n",
    "            threshold=0)\n",
    "    env.close()\n",
    "    returns.append(r)\n",
    "    train_returns.append(t)\n",
    "    train_times.append(times)\n",
    "    \n"
   ],
   "outputs": [
    {
     "output_type": "stream",
     "name": "stderr",
     "text": [
      "  0%|          | 0/20000 [00:00<?, ?it/s]"
     ]
    },
    {
     "output_type": "stream",
     "name": "stdout",
     "text": [
      "\n",
      " Run: 1 \n",
      "\n"
     ]
    },
    {
     "output_type": "stream",
     "name": "stderr",
     "text": [
      "  5%|▌         | 1000/20000 [00:05<01:31, 206.95it/s]"
     ]
    },
    {
     "output_type": "stream",
     "name": "stdout",
     "text": [
      "Evaluation at timestep 1000 returned a mean returns of -500.0\n",
      "Epsilon = 0.94375\n",
      "Replay Buffer count: 1220\n"
     ]
    },
    {
     "output_type": "stream",
     "name": "stderr",
     "text": [
      " 10%|█         | 2034/20000 [00:14<02:32, 117.80it/s]"
     ]
    },
    {
     "output_type": "stream",
     "name": "stdout",
     "text": [
      "Evaluation at timestep 2034 returned a mean returns of -15.9999\n",
      "Epsilon = 0.7872625\n",
      "Replay Buffer count: 1490\n"
     ]
    },
    {
     "output_type": "stream",
     "name": "stderr",
     "text": [
      " 16%|█▌        | 3145/20000 [00:28<03:20, 84.19it/s]"
     ]
    },
    {
     "output_type": "stream",
     "name": "stdout",
     "text": [
      "Evaluation at timestep 3145 returned a mean returns of -15.9999\n",
      "Epsilon = 0.6629499999999999\n",
      "Replay Buffer count: 1720\n"
     ]
    },
    {
     "output_type": "stream",
     "name": "stderr",
     "text": [
      " 20%|██        | 4025/20000 [00:39<03:35, 74.02it/s]"
     ]
    },
    {
     "output_type": "stream",
     "name": "stdout",
     "text": [
      "Evaluation at timestep 4025 returned a mean returns of -15.9999\n",
      "Epsilon = 0.5505625\n",
      "Replay Buffer count: 1800\n"
     ]
    },
    {
     "output_type": "stream",
     "name": "stderr",
     "text": [
      " 25%|██▌       | 5002/20000 [00:53<03:33, 70.13it/s]"
     ]
    },
    {
     "output_type": "stream",
     "name": "stdout",
     "text": [
      "Evaluation at timestep 5002 returned a mean returns of -15.9999\n",
      "Epsilon = 0.439975\n",
      "Replay Buffer count: 1900\n"
     ]
    },
    {
     "output_type": "stream",
     "name": "stderr",
     "text": [
      " 30%|███       | 6010/20000 [01:08<03:21, 69.26it/s]"
     ]
    },
    {
     "output_type": "stream",
     "name": "stdout",
     "text": [
      "Evaluation at timestep 6010 returned a mean returns of -15.9999\n",
      "Epsilon = 0.3257874999999999\n",
      "Replay Buffer count: 1920\n"
     ]
    },
    {
     "output_type": "stream",
     "name": "stderr",
     "text": [
      " 35%|███▌      | 7002/20000 [01:23<03:14, 66.80it/s]"
     ]
    },
    {
     "output_type": "stream",
     "name": "stdout",
     "text": [
      "Evaluation at timestep 7002 returned a mean returns of -15.9999\n",
      "Epsilon = 0.21429999999999993\n",
      "Replay Buffer count: 1960\n"
     ]
    },
    {
     "output_type": "stream",
     "name": "stderr",
     "text": [
      " 40%|████      | 8005/20000 [01:38<03:01, 66.06it/s]"
     ]
    },
    {
     "output_type": "stream",
     "name": "stdout",
     "text": [
      "Evaluation at timestep 8005 returned a mean returns of -15.9999\n",
      "Epsilon = 0.10123749999999998\n",
      "Replay Buffer count: 1960\n"
     ]
    },
    {
     "output_type": "stream",
     "name": "stderr",
     "text": [
      " 45%|████▌     | 9005/20000 [01:54<02:47, 65.75it/s]"
     ]
    },
    {
     "output_type": "stream",
     "name": "stdout",
     "text": [
      "Evaluation at timestep 9005 returned a mean returns of -15.9999\n",
      "Epsilon = 0.09999999999999998\n",
      "Replay Buffer count: 1960\n"
     ]
    },
    {
     "output_type": "stream",
     "name": "stderr",
     "text": [
      " 50%|█████     | 10006/20000 [02:09<02:34, 64.58it/s]"
     ]
    },
    {
     "output_type": "stream",
     "name": "stdout",
     "text": [
      "Evaluation at timestep 10006 returned a mean returns of -15.9999\n",
      "Epsilon = 0.09999999999999998\n",
      "Replay Buffer count: 1960\n"
     ]
    },
    {
     "output_type": "stream",
     "name": "stderr",
     "text": [
      " 51%|█████     | 10117/20000 [02:12<02:08, 76.62it/s]\n"
     ]
    },
    {
     "output_type": "error",
     "ename": "KeyboardInterrupt",
     "evalue": "",
     "traceback": [
      "\u001b[0;31m---------------------------------------------------------------------------\u001b[0m",
      "\u001b[0;31mKeyboardInterrupt\u001b[0m                         Traceback (most recent call last)",
      "\u001b[0;32m<ipython-input-5-5dc2c9aa757d>\u001b[0m in \u001b[0;36m<module>\u001b[0;34m\u001b[0m\n\u001b[1;32m      9\u001b[0m \u001b[0;32mfor\u001b[0m \u001b[0mi\u001b[0m \u001b[0;32min\u001b[0m \u001b[0mrange\u001b[0m\u001b[0;34m(\u001b[0m\u001b[0mn_seeds\u001b[0m\u001b[0;34m)\u001b[0m\u001b[0;34m:\u001b[0m\u001b[0;34m\u001b[0m\u001b[0;34m\u001b[0m\u001b[0m\n\u001b[1;32m     10\u001b[0m     \u001b[0mprint\u001b[0m\u001b[0;34m(\u001b[0m\u001b[0;34mf\"\\n Run: {i+1} \\n\"\u001b[0m\u001b[0;34m)\u001b[0m\u001b[0;34m\u001b[0m\u001b[0;34m\u001b[0m\u001b[0m\n\u001b[0;32m---> 11\u001b[0;31m     r, _, t, times = train(env, \n\u001b[0m\u001b[1;32m     12\u001b[0m             \u001b[0mCONFIGS\u001b[0m\u001b[0;34m[\u001b[0m\u001b[0mj\u001b[0m\u001b[0;34m]\u001b[0m\u001b[0;34m,\u001b[0m\u001b[0;34m\u001b[0m\u001b[0;34m\u001b[0m\u001b[0m\n\u001b[1;32m     13\u001b[0m             \u001b[0mfa\u001b[0m\u001b[0;34m=\u001b[0m\u001b[0mfunction_approximators\u001b[0m\u001b[0;34m[\u001b[0m\u001b[0mj\u001b[0m\u001b[0;34m]\u001b[0m\u001b[0;34m,\u001b[0m\u001b[0;34m\u001b[0m\u001b[0;34m\u001b[0m\u001b[0m\n",
      "\u001b[0;32m~/rl_vfa/utils/train_utils.py\u001b[0m in \u001b[0;36mtrain\u001b[0;34m(env, config, fa, agent, output, render, online, threshold)\u001b[0m\n\u001b[1;32m    138\u001b[0m \u001b[0;34m\u001b[0m\u001b[0m\n\u001b[1;32m    139\u001b[0m             \u001b[0magent\u001b[0m\u001b[0;34m.\u001b[0m\u001b[0mschedule_hyperparameters\u001b[0m\u001b[0;34m(\u001b[0m\u001b[0mtimesteps_elapsed\u001b[0m\u001b[0;34m,\u001b[0m \u001b[0mconfig\u001b[0m\u001b[0;34m[\u001b[0m\u001b[0;34m\"max_timesteps\"\u001b[0m\u001b[0;34m]\u001b[0m\u001b[0;34m)\u001b[0m\u001b[0;34m\u001b[0m\u001b[0;34m\u001b[0m\u001b[0m\n\u001b[0;32m--> 140\u001b[0;31m             episode_timesteps, train_return, losses = play_episode(\n\u001b[0m\u001b[1;32m    141\u001b[0m                 \u001b[0menv\u001b[0m\u001b[0;34m,\u001b[0m\u001b[0;34m\u001b[0m\u001b[0;34m\u001b[0m\u001b[0m\n\u001b[1;32m    142\u001b[0m                 \u001b[0magent\u001b[0m\u001b[0;34m,\u001b[0m\u001b[0;34m\u001b[0m\u001b[0;34m\u001b[0m\u001b[0m\n",
      "\u001b[0;32m~/rl_vfa/utils/train_utils.py\u001b[0m in \u001b[0;36mplay_episode\u001b[0;34m(env, agent, replay_buffer, non_param, max_steps, online, batch_size, train, explore, render)\u001b[0m\n\u001b[1;32m     88\u001b[0m                         \u001b[0magent\u001b[0m\u001b[0;34m.\u001b[0m\u001b[0minitial_fit\u001b[0m\u001b[0;34m(\u001b[0m\u001b[0mbatch\u001b[0m\u001b[0;34m)\u001b[0m\u001b[0;34m\u001b[0m\u001b[0;34m\u001b[0m\u001b[0m\n\u001b[1;32m     89\u001b[0m                     \u001b[0;32melse\u001b[0m\u001b[0;34m:\u001b[0m\u001b[0;34m\u001b[0m\u001b[0;34m\u001b[0m\u001b[0m\n\u001b[0;32m---> 90\u001b[0;31m                         \u001b[0magent\u001b[0m\u001b[0;34m.\u001b[0m\u001b[0mupdate\u001b[0m\u001b[0;34m(\u001b[0m\u001b[0mbatch\u001b[0m\u001b[0;34m)\u001b[0m\u001b[0;34m\u001b[0m\u001b[0;34m\u001b[0m\u001b[0m\n\u001b[0m\u001b[1;32m     91\u001b[0m                 \u001b[0;32melse\u001b[0m\u001b[0;34m:\u001b[0m\u001b[0;34m\u001b[0m\u001b[0;34m\u001b[0m\u001b[0m\n\u001b[1;32m     92\u001b[0m                     \u001b[0mloss\u001b[0m \u001b[0;34m=\u001b[0m \u001b[0magent\u001b[0m\u001b[0;34m.\u001b[0m\u001b[0mupdate\u001b[0m\u001b[0;34m(\u001b[0m\u001b[0mbatch\u001b[0m\u001b[0;34m)\u001b[0m\u001b[0;34m[\u001b[0m\u001b[0;34m\"q_loss\"\u001b[0m\u001b[0;34m]\u001b[0m\u001b[0;34m\u001b[0m\u001b[0;34m\u001b[0m\u001b[0m\n",
      "\u001b[0;32m~/rl_vfa/agents/ad_agents.py\u001b[0m in \u001b[0;36mupdate\u001b[0;34m(self, batch)\u001b[0m\n\u001b[1;32m    268\u001b[0m         \u001b[0;32mif\u001b[0m \u001b[0mself\u001b[0m\u001b[0;34m.\u001b[0m\u001b[0mstep_counter\u001b[0m \u001b[0;34m%\u001b[0m \u001b[0mself\u001b[0m\u001b[0;34m.\u001b[0m\u001b[0mupdate_freq\u001b[0m \u001b[0;34m==\u001b[0m \u001b[0;36m0\u001b[0m\u001b[0;34m:\u001b[0m\u001b[0;34m\u001b[0m\u001b[0;34m\u001b[0m\u001b[0m\n\u001b[1;32m    269\u001b[0m \u001b[0;34m\u001b[0m\u001b[0m\n\u001b[0;32m--> 270\u001b[0;31m             \u001b[0minputs\u001b[0m \u001b[0;34m=\u001b[0m \u001b[0mnp\u001b[0m\u001b[0;34m.\u001b[0m\u001b[0mconcatenate\u001b[0m\u001b[0;34m(\u001b[0m\u001b[0;34m[\u001b[0m\u001b[0mbatch\u001b[0m\u001b[0;34m.\u001b[0m\u001b[0mstates\u001b[0m\u001b[0;34m,\u001b[0m \u001b[0;34m[\u001b[0m\u001b[0mself\u001b[0m\u001b[0;34m.\u001b[0m\u001b[0mencoded_actions\u001b[0m\u001b[0;34m[\u001b[0m\u001b[0mint\u001b[0m\u001b[0;34m(\u001b[0m\u001b[0mi\u001b[0m\u001b[0;34m.\u001b[0m\u001b[0mitem\u001b[0m\u001b[0;34m(\u001b[0m\u001b[0;34m)\u001b[0m\u001b[0;34m)\u001b[0m\u001b[0;34m]\u001b[0m \u001b[0;32mfor\u001b[0m \u001b[0mi\u001b[0m \u001b[0;32min\u001b[0m \u001b[0mbatch\u001b[0m\u001b[0;34m.\u001b[0m\u001b[0mactions\u001b[0m\u001b[0;34m]\u001b[0m\u001b[0;34m]\u001b[0m\u001b[0;34m,\u001b[0m \u001b[0;34m-\u001b[0m\u001b[0;36m1\u001b[0m\u001b[0;34m)\u001b[0m\u001b[0;34m\u001b[0m\u001b[0;34m\u001b[0m\u001b[0m\n\u001b[0m\u001b[1;32m    271\u001b[0m             \u001b[0mpreds\u001b[0m \u001b[0;34m=\u001b[0m \u001b[0;34m[\u001b[0m\u001b[0;34m]\u001b[0m\u001b[0;34m\u001b[0m\u001b[0;34m\u001b[0m\u001b[0m\n\u001b[1;32m    272\u001b[0m \u001b[0;34m\u001b[0m\u001b[0m\n",
      "\u001b[0;32m~/rl_vfa_venv/lib/python3.8/site-packages/torch/tensor.py\u001b[0m in \u001b[0;36m__iter__\u001b[0;34m(self)\u001b[0m\n\u001b[1;32m    589\u001b[0m                           \u001b[0;34m'iterations executed (and might lead to errors or silently give '\u001b[0m\u001b[0;34m\u001b[0m\u001b[0;34m\u001b[0m\u001b[0m\n\u001b[1;32m    590\u001b[0m                           'incorrect results).', category=RuntimeWarning)\n\u001b[0;32m--> 591\u001b[0;31m         \u001b[0;32mreturn\u001b[0m \u001b[0miter\u001b[0m\u001b[0;34m(\u001b[0m\u001b[0mself\u001b[0m\u001b[0;34m.\u001b[0m\u001b[0munbind\u001b[0m\u001b[0;34m(\u001b[0m\u001b[0;36m0\u001b[0m\u001b[0;34m)\u001b[0m\u001b[0;34m)\u001b[0m\u001b[0;34m\u001b[0m\u001b[0;34m\u001b[0m\u001b[0m\n\u001b[0m\u001b[1;32m    592\u001b[0m \u001b[0;34m\u001b[0m\u001b[0m\n\u001b[1;32m    593\u001b[0m     \u001b[0;32mdef\u001b[0m \u001b[0m__hash__\u001b[0m\u001b[0;34m(\u001b[0m\u001b[0mself\u001b[0m\u001b[0;34m)\u001b[0m\u001b[0;34m:\u001b[0m\u001b[0;34m\u001b[0m\u001b[0;34m\u001b[0m\u001b[0m\n",
      "\u001b[0;31mKeyboardInterrupt\u001b[0m: "
     ]
    }
   ],
   "metadata": {
    "tags": []
   }
  },
  {
   "cell_type": "code",
   "execution_count": 5,
   "source": [
    "with open(f'windygrid_eval_{models[j]}.csv', 'ab') as eval:\n",
    "    for i in range(n_seeds):\n",
    "        np.savetxt(eval, [returns[i]], delimiter=',')"
   ],
   "outputs": [],
   "metadata": {}
  },
  {
   "cell_type": "code",
   "execution_count": 6,
   "source": [
    "with open(f'windygrid_train_{models[j]}.csv', 'ab') as train:\n",
    "    for i in range(n_seeds):\n",
    "        np.savetxt(train, [train_returns[i]], delimiter=',')\n",
    "        np.savetxt(train, [train_times[i]], delimiter=',')"
   ],
   "outputs": [],
   "metadata": {}
  },
  {
   "cell_type": "code",
   "execution_count": 5,
   "source": [
    "## Sample Efficiency Evaluation\n",
    "\n",
    "n_eps = []\n",
    "n_steps = []\n",
    "not_solved = []\n",
    "n_seeds=30\n",
    "\n",
    "j=3\n",
    "for i in range(n_seeds):\n",
    "    print(f\"\\n Run: {i+1} \\n\")\n",
    "    s, e, n = solve(env, \n",
    "            CONFIGS[j], \n",
    "            fa=function_approximators[j], \n",
    "            agent = agents[j],\n",
    "            target_return=-16,\n",
    "            op=operator.ge, \n",
    "            render=RENDER,\n",
    "            online=onlines[j],\n",
    "            threshold=0)\n",
    "    env.close()\n",
    "    n_eps.append(e)\n",
    "    n_steps.append(s)\n",
    "    not_solved.append(n)"
   ],
   "outputs": [
    {
     "output_type": "stream",
     "name": "stdout",
     "text": [
      "\n",
      " Run: 1 \n",
      "\n",
      "Ep. timesteps: 16\n",
      "Total timesteps: 2135\n",
      "Total episodes: 6\n",
      "Evaluation mean return: -15.9999\n",
      "\n",
      " Run: 2 \n",
      "\n",
      "Ep. timesteps: 15\n",
      "Total timesteps: 4444\n",
      "Total episodes: 10\n",
      "Evaluation mean return: -14.999900000000002\n",
      "\n",
      " Run: 3 \n",
      "\n",
      "Ep. timesteps: 16\n",
      "Total timesteps: 3372\n",
      "Total episodes: 8\n",
      "Evaluation mean return: -15.9999\n",
      "\n",
      " Run: 4 \n",
      "\n",
      "Ep. timesteps: 16\n",
      "Total timesteps: 4397\n",
      "Total episodes: 10\n",
      "Evaluation mean return: -15.9999\n",
      "\n",
      " Run: 5 \n",
      "\n",
      "\n",
      " Run: 6 \n",
      "\n",
      "\n",
      " Run: 7 \n",
      "\n",
      "Ep. timesteps: 16\n",
      "Total timesteps: 1966\n",
      "Total episodes: 5\n",
      "Evaluation mean return: -15.9999\n",
      "\n",
      " Run: 8 \n",
      "\n",
      "Ep. timesteps: 16\n",
      "Total timesteps: 1745\n",
      "Total episodes: 4\n",
      "Evaluation mean return: -15.9999\n",
      "\n",
      " Run: 9 \n",
      "\n",
      "Ep. timesteps: 16\n",
      "Total timesteps: 2573\n",
      "Total episodes: 6\n",
      "Evaluation mean return: -15.9999\n",
      "\n",
      " Run: 10 \n",
      "\n",
      "Ep. timesteps: 16\n",
      "Total timesteps: 1587\n",
      "Total episodes: 4\n",
      "Evaluation mean return: -15.9999\n",
      "\n",
      " Run: 11 \n",
      "\n",
      "Ep. timesteps: 15\n",
      "Total timesteps: 1629\n",
      "Total episodes: 4\n",
      "Evaluation mean return: -14.999900000000002\n",
      "\n",
      " Run: 12 \n",
      "\n",
      "Ep. timesteps: 16\n",
      "Total timesteps: 1837\n",
      "Total episodes: 5\n",
      "Evaluation mean return: -15.9999\n",
      "\n",
      " Run: 13 \n",
      "\n",
      "Ep. timesteps: 16\n",
      "Total timesteps: 2206\n",
      "Total episodes: 5\n",
      "Evaluation mean return: -15.9999\n",
      "\n",
      " Run: 14 \n",
      "\n",
      "\n",
      " Run: 15 \n",
      "\n",
      "Ep. timesteps: 16\n",
      "Total timesteps: 1640\n",
      "Total episodes: 4\n",
      "Evaluation mean return: -15.9999\n",
      "\n",
      " Run: 16 \n",
      "\n",
      "Ep. timesteps: 16\n",
      "Total timesteps: 413\n",
      "Total episodes: 2\n",
      "Evaluation mean return: -15.9999\n",
      "\n",
      " Run: 17 \n",
      "\n",
      "Ep. timesteps: 16\n",
      "Total timesteps: 2031\n",
      "Total episodes: 5\n",
      "Evaluation mean return: -15.9999\n",
      "\n",
      " Run: 18 \n",
      "\n",
      "\n",
      " Run: 19 \n",
      "\n",
      "Ep. timesteps: 16\n",
      "Total timesteps: 3418\n",
      "Total episodes: 8\n",
      "Evaluation mean return: -15.9999\n",
      "\n",
      " Run: 20 \n",
      "\n",
      "\n",
      " Run: 21 \n",
      "\n",
      "Ep. timesteps: 16\n",
      "Total timesteps: 2343\n",
      "Total episodes: 5\n",
      "Evaluation mean return: -15.9999\n",
      "\n",
      " Run: 22 \n",
      "\n",
      "Ep. timesteps: 15\n",
      "Total timesteps: 1860\n",
      "Total episodes: 5\n",
      "Evaluation mean return: -14.999900000000002\n",
      "\n",
      " Run: 23 \n",
      "\n",
      "\n",
      " Run: 24 \n",
      "\n",
      "\n",
      " Run: 25 \n",
      "\n",
      "\n",
      " Run: 26 \n",
      "\n",
      "Ep. timesteps: 15\n",
      "Total timesteps: 3587\n",
      "Total episodes: 9\n",
      "Evaluation mean return: -14.999900000000002\n",
      "\n",
      " Run: 27 \n",
      "\n",
      "Ep. timesteps: 16\n",
      "Total timesteps: 2551\n",
      "Total episodes: 6\n",
      "Evaluation mean return: -15.9999\n",
      "\n",
      " Run: 28 \n",
      "\n",
      "Ep. timesteps: 15\n",
      "Total timesteps: 4115\n",
      "Total episodes: 10\n",
      "Evaluation mean return: -14.999900000000002\n",
      "\n",
      " Run: 29 \n",
      "\n",
      "Ep. timesteps: 16\n",
      "Total timesteps: 12475\n",
      "Total episodes: 26\n",
      "Evaluation mean return: -15.9999\n",
      "\n",
      " Run: 30 \n",
      "\n",
      "Ep. timesteps: 16\n",
      "Total timesteps: 1068\n",
      "Total episodes: 3\n",
      "Evaluation mean return: -15.9999\n"
     ]
    }
   ],
   "metadata": {}
  },
  {
   "cell_type": "code",
   "execution_count": 6,
   "source": [
    "with open(f'{environment}_se_{models[j]}.csv', 'ab') as se:\n",
    "    np.savetxt(se, [n_eps], delimiter=',')\n",
    "    np.savetxt(se, [n_steps], delimiter=',')\n",
    "    np.savetxt(se, [not_solved], delimiter=',')"
   ],
   "outputs": [],
   "metadata": {}
  },
  {
   "cell_type": "code",
   "execution_count": 22,
   "source": [
    "mean_eps = np.mean(n_eps)\n",
    "std_eps = np.std(n_eps)\n",
    "print(f\"Average n_eps: {mean_eps}\")\n",
    "print(f\"Std n_eps: {std_eps}\")\n",
    "print(f\"St.error n_eps: {std_eps/np.sqrt(n_seeds)}\")\n",
    "\n",
    "mean_steps = np.mean(n_steps)\n",
    "std_steps = np.std(n_steps)\n",
    "print(f\"Average n_steps: {mean_steps}0\")\n",
    "print(f\"Std n_steps: {std_steps}\")\n",
    "print(f\"St.error n_steps: {std_steps/np.sqrt(n_seeds)}\")\n",
    "\n",
    "print(f\"Not solved: {np.sum(not_solved)} runs\")"
   ],
   "outputs": [
    {
     "output_type": "stream",
     "name": "stdout",
     "text": [
      "Average n_eps: 21.633333333333333\n",
      "Std n_eps: 27.45721924902245\n",
      "St.error n_eps: 5.0129794496848845\n",
      "Average n_steps: 900.60\n",
      "Std n_steps: 1383.9435826651315\n",
      "St.error n_steps: 252.67237284673604\n",
      "Not solved: 3 runs\n"
     ]
    }
   ],
   "metadata": {}
  },
  {
   "cell_type": "code",
   "execution_count": 6,
   "source": [
    "## Training time\n",
    "\n",
    "times = []\n",
    "for j in range(2,8):\n",
    "        time = train_time(env, \n",
    "                CONFIGS[j], \n",
    "                fa=function_approximators[j], \n",
    "                agent = agents[j],\n",
    "                online=onlines[j],\n",
    "                threshold=0)\n",
    "        env.close()\n",
    "        times.append(time)\n",
    "\n",
    "print(time)"
   ],
   "outputs": [
    {
     "output_type": "stream",
     "name": "stderr",
     "text": [
      "20466it [00:33, 608.90it/s]\n",
      "  0%|          | 0/20000 [00:00<?, ?it/s]"
     ]
    },
    {
     "output_type": "stream",
     "name": "stdout",
     "text": [
      "-500\n"
     ]
    },
    {
     "output_type": "stream",
     "name": "stderr",
     "text": [
      "100%|██████████| 20000/20000 [02:58<00:00, 111.84it/s]\n",
      "  0%|          | 0/20000 [00:00<?, ?it/s]"
     ]
    },
    {
     "output_type": "stream",
     "name": "stdout",
     "text": [
      "-500\n"
     ]
    },
    {
     "output_type": "stream",
     "name": "stderr",
     "text": [
      "100%|██████████| 20000/20000 [00:24<00:00, 807.87it/s]\n",
      "  0%|          | 0/20000 [00:00<?, ?it/s]"
     ]
    },
    {
     "output_type": "stream",
     "name": "stdout",
     "text": [
      "-500\n"
     ]
    },
    {
     "output_type": "stream",
     "name": "stderr",
     "text": [
      "20036it [02:14, 149.31it/s]\n",
      "  0%|          | 0/20000 [00:00<?, ?it/s]"
     ]
    },
    {
     "output_type": "stream",
     "name": "stdout",
     "text": [
      "-500\n"
     ]
    },
    {
     "output_type": "stream",
     "name": "stderr",
     "text": [
      "20130it [00:25, 785.00it/s]\n",
      "  0%|          | 0/20000 [00:00<?, ?it/s]"
     ]
    },
    {
     "output_type": "stream",
     "name": "stdout",
     "text": [
      "-499.9996000000001\n"
     ]
    },
    {
     "output_type": "stream",
     "name": "stderr",
     "text": [
      "100%|██████████| 20000/20000 [04:19<00:00, 77.06it/s]"
     ]
    },
    {
     "output_type": "stream",
     "name": "stdout",
     "text": [
      "-500\n",
      "259.5355157852173\n"
     ]
    },
    {
     "output_type": "stream",
     "name": "stderr",
     "text": [
      "\n"
     ]
    }
   ],
   "metadata": {}
  },
  {
   "cell_type": "code",
   "execution_count": 7,
   "source": [
    "with open(f'{environment}_times.csv', 'ab') as t:\n",
    "    np.savetxt(t, [times], delimiter=',')"
   ],
   "outputs": [],
   "metadata": {}
  }
 ]
}