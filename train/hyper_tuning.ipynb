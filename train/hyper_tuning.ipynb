{
 "metadata": {
  "language_info": {
   "codemirror_mode": {
    "name": "ipython",
    "version": 3
   },
   "file_extension": ".py",
   "mimetype": "text/x-python",
   "name": "python",
   "nbconvert_exporter": "python",
   "pygments_lexer": "ipython3",
   "version": "3.8.8"
  },
  "orig_nbformat": 2,
  "kernelspec": {
   "name": "python3",
   "display_name": "Python 3.8.8 64-bit ('rl_vfa_venv': venv)"
  },
  "interpreter": {
   "hash": "ca6e9933f728d920a33c4385152fc811e414d8d97bad348677111d3aff399912"
  }
 },
 "nbformat": 4,
 "nbformat_minor": 2,
 "cells": [
  {
   "cell_type": "code",
   "execution_count": 1,
   "metadata": {},
   "outputs": [],
   "source": [
    "import gym \n",
    "import numpy as np\n",
    "from custom_envs.windy_gridworld import WindyGridworldEnv\n",
    "\n",
    "from function_approximators.function_approximators import NeuralNetwork, LinearModel, DecisionTree, RandomForest, ExtraTrees, SupportVectorRegressor\n",
    "from train_utils import train\n",
    "\n",
    "from agents.agents import DQNAgent, LinearAgent, NonParametricAgent\n"
   ]
  },
  {
   "cell_type": "code",
   "execution_count": 14,
   "metadata": {},
   "outputs": [],
   "source": [
    "function_approximators = [NeuralNetwork, LinearModel, DecisionTree, RandomForest, ExtraTrees, SupportVectorRegressor]\n",
    "agents = [DQNAgent, LinearAgent, *[NonParametricAgent]*4]\n",
    "\n",
    "RENDER = False\n",
    "# env = gym.make(\"CartPole-v1\")\n",
    "# env = gym.make(\"MountainCar-v0\")\n",
    "# env = WindyGridworldEnv()\n",
    "env = gym.make(\"LunarLander-v2\")"
   ]
  },
  {
   "cell_type": "code",
   "execution_count": 18,
   "metadata": {
    "tags": []
   },
   "outputs": [
    {
     "output_type": "stream",
     "name": "stderr",
     "text": [
      "  0%|          | 0/20000 [00:00<?, ?it/s]\n",
      " Run: 1 \n",
      "\n",
      "  5%|▌         | 1070/20000 [00:02<00:43, 432.77it/s]Evaluation at timestep 1070 returned a mean returns of -110.19485100989804\n",
      "Epsilon = 0.9102250000000001\n",
      " 10%|█         | 2044/20000 [00:06<01:10, 254.73it/s]Evaluation at timestep 2044 returned a mean returns of -184.6938895536644\n",
      "Epsilon = 0.817885\n",
      " 15%|█▌        | 3000/20000 [00:10<01:17, 219.60it/s]Evaluation at timestep 3000 returned a mean returns of -117.97104435854963\n",
      "Epsilon = 0.72526\n",
      " 20%|██        | 4067/20000 [00:15<01:20, 198.35it/s]Evaluation at timestep 4067 returned a mean returns of -131.35452090822457\n",
      "Epsilon = 0.62323\n",
      " 25%|██▌       | 5012/20000 [00:21<01:29, 167.01it/s]Evaluation at timestep 5012 returned a mean returns of -183.96528725949454\n",
      "Epsilon = 0.535165\n",
      " 30%|███       | 6081/20000 [00:28<01:31, 152.04it/s]Evaluation at timestep 6081 returned a mean returns of -215.6313602766418\n",
      "Epsilon = 0.44130500000000006\n",
      " 35%|███▌      | 7066/20000 [00:36<01:29, 144.31it/s]Evaluation at timestep 7066 returned a mean returns of -173.48988661560372\n",
      "Epsilon = 0.33604500000000004\n",
      " 40%|████      | 8027/20000 [00:43<01:32, 129.07it/s]Evaluation at timestep 8027 returned a mean returns of -174.69925859704912\n",
      "Epsilon = 0.24646\n",
      " 45%|████▌     | 9004/20000 [00:52<01:30, 121.01it/s]Evaluation at timestep 9004 returned a mean returns of -156.13009141461032\n",
      "Epsilon = 0.15278999999999998\n",
      " 50%|█████     | 10055/20000 [01:01<01:31, 108.58it/s]Evaluation at timestep 10055 returned a mean returns of -135.61155388170155\n",
      "Epsilon = 0.057600000000000096\n",
      " 55%|█████▌    | 11065/20000 [01:12<01:31, 97.95it/s]Evaluation at timestep 11065 returned a mean returns of -250.31093655287415\n",
      "Epsilon = 0.050000000000000044\n",
      " 60%|██████    | 12008/20000 [01:23<01:23, 95.14it/s]Evaluation at timestep 12008 returned a mean returns of -220.49279440822693\n",
      "Epsilon = 0.050000000000000044\n",
      " 65%|██████▌   | 13085/20000 [01:35<01:15, 91.55it/s]Evaluation at timestep 13085 returned a mean returns of -220.54828172379172\n",
      "Epsilon = 0.050000000000000044\n",
      " 70%|███████   | 14017/20000 [01:47<01:10, 85.19it/s]Evaluation at timestep 14017 returned a mean returns of -247.86527972416417\n",
      "Epsilon = 0.050000000000000044\n",
      " 75%|███████▌  | 15019/20000 [02:01<01:03, 78.96it/s]Evaluation at timestep 15019 returned a mean returns of -468.5814700393956\n",
      "Epsilon = 0.050000000000000044\n",
      " 80%|████████  | 16033/20000 [02:15<00:50, 78.29it/s]Evaluation at timestep 16033 returned a mean returns of -151.02287210112675\n",
      "Epsilon = 0.050000000000000044\n",
      " 85%|████████▌ | 17062/20000 [02:30<00:39, 74.27it/s]Evaluation at timestep 17062 returned a mean returns of -211.75794449891828\n",
      "Epsilon = 0.050000000000000044\n",
      " 90%|█████████ | 18021/20000 [02:44<00:28, 70.42it/s]Evaluation at timestep 18021 returned a mean returns of -173.83782639366027\n",
      "Epsilon = 0.050000000000000044\n",
      " 95%|█████████▌| 19067/20000 [03:01<00:13, 67.76it/s]Evaluation at timestep 19067 returned a mean returns of -187.13361914177085\n",
      "Epsilon = 0.050000000000000044\n",
      "20012it [03:17, 101.57it/s]Evaluation at timestep 20012 returned a mean returns of -263.13285248371227\n",
      "Epsilon = 0.050000000000000044\n",
      "Mean returns: -263.13285248371227\n",
      "Std returns: 0.0\n",
      "\n"
     ]
    }
   ],
   "source": [
    "\n",
    "# for lr in np.linspace(0.0005,0.005,10):\n",
    "\n",
    "returns = []\n",
    "n_seeds=1\n",
    "\n",
    "for i in range(n_seeds):\n",
    "\n",
    "    print(f\"\\n Run: {i+1} \\n\")\n",
    "\n",
    "    CONFIG = {\n",
    "        \"episode_length\": 200,\n",
    "        \"max_timesteps\": 20000,\n",
    "        \"max_time\": 30 * 60,\n",
    "        \"eval_freq\": 1000, \n",
    "        \"eval_episodes\": 3,\n",
    "        \"model_save_freq\": 1000,\n",
    "        \"model_save_capacity\": 20,\n",
    "        \"model_update_freq\": 1,\n",
    "        \"batch_size\": 512,\n",
    "        \"gamma\": 0.99,\n",
    "        \"buffer_capacity\": int(1e6),\n",
    "        \"epsilon\": 1,\n",
    "        \"max_deduct\": 0.95,\n",
    "        \"decay\": 0.5,\n",
    "        \"max_steps\": 200,\n",
    "        \"non_param\": True,\n",
    "        \"model_params\": {\"max_depth\": 15, \"min_samples_split\": 20, \"min_samples_leaf\": 5},\n",
    "        # \"model_params\": {\"kernel\":\"rbf\", \"degree\": 2, \"C\": 1},\n",
    "    }\n",
    "    r, _ = train(env, \n",
    "            CONFIG, \n",
    "            fa=function_approximators[2], \n",
    "            agent = agents[2], \n",
    "            render=RENDER)\n",
    "    env.close()\n",
    "    returns.append(r[-1])\n",
    "\n",
    "print(f\"Mean returns: {np.mean(returns)}\")\n",
    "print(f\"Std returns: {np.std(returns)}\")"
   ]
  },
  {
   "cell_type": "code",
   "execution_count": 9,
   "metadata": {},
   "outputs": [
    {
     "output_type": "execute_result",
     "data": {
      "text/plain": [
       "[function_approximators.function_approximators.SupportVectorRegressor,\n",
       " function_approximators.function_approximators.SupportVectorRegressor]"
      ]
     },
     "metadata": {},
     "execution_count": 9
    }
   ],
   "source": [
    "a=[*[SupportVectorRegressor]*2]\n",
    "a"
   ]
  }
 ]
}