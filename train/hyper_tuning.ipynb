{
 "metadata": {
  "language_info": {
   "codemirror_mode": {
    "name": "ipython",
    "version": 3
   },
   "file_extension": ".py",
   "mimetype": "text/x-python",
   "name": "python",
   "nbconvert_exporter": "python",
   "pygments_lexer": "ipython3",
   "version": "3.8.8"
  },
  "orig_nbformat": 2,
  "kernelspec": {
   "name": "python388jvsc74a57bd022a4fa19595f02a13987d52fdee973c5ab514be50202bb6cec211f6ae6538c08",
   "display_name": "Python 3.8.8 64-bit ('rl_vfa_venv': venv)"
  }
 },
 "nbformat": 4,
 "nbformat_minor": 2,
 "cells": [
  {
   "cell_type": "code",
   "execution_count": 2,
   "metadata": {},
   "outputs": [],
   "source": [
    "import gym \n",
    "import numpy as np\n",
    "\n",
    "from function_approximators.function_approximators import NeuralNetwork, LinearModel\n",
    "from train_utils import train\n",
    "\n",
    "from agents.agents import DQNAgent, LinearAgent\n",
    "\n",
    "RENDER = False\n",
    "env = gym.make(\"CartPole-v1\")"
   ]
  },
  {
   "cell_type": "code",
   "execution_count": 3,
   "metadata": {},
   "outputs": [],
   "source": [
    "function_approximators = [NeuralNetwork, LinearModel]\n",
    "agents = [DQNAgent, LinearAgent]"
   ]
  },
  {
   "cell_type": "code",
   "execution_count": 1,
   "metadata": {
    "tags": []
   },
   "outputs": [
    {
     "output_type": "stream",
     "name": "stdout",
     "text": [
      "\n Run: 1 \n\n"
     ]
    },
    {
     "output_type": "error",
     "ename": "NameError",
     "evalue": "name 'train' is not defined",
     "traceback": [
      "\u001b[0;31m---------------------------------------------------------------------------\u001b[0m",
      "\u001b[0;31mNameError\u001b[0m                                 Traceback (most recent call last)",
      "\u001b[0;32m<ipython-input-1-a2ae52ffd09c>\u001b[0m in \u001b[0;36m<module>\u001b[0;34m\u001b[0m\n\u001b[1;32m     31\u001b[0m         \u001b[0;34m\"max_steps\"\u001b[0m\u001b[0;34m:\u001b[0m \u001b[0;36m200\u001b[0m\u001b[0;34m,\u001b[0m\u001b[0;34m\u001b[0m\u001b[0;34m\u001b[0m\u001b[0m\n\u001b[1;32m     32\u001b[0m     }\n\u001b[0;32m---> 33\u001b[0;31m     r, _ = train(env, \n\u001b[0m\u001b[1;32m     34\u001b[0m             \u001b[0mCONFIG\u001b[0m\u001b[0;34m,\u001b[0m\u001b[0;34m\u001b[0m\u001b[0;34m\u001b[0m\u001b[0m\n\u001b[1;32m     35\u001b[0m             \u001b[0mfa\u001b[0m\u001b[0;34m=\u001b[0m\u001b[0mfunction_approximators\u001b[0m\u001b[0;34m[\u001b[0m\u001b[0;36m0\u001b[0m\u001b[0;34m]\u001b[0m\u001b[0;34m,\u001b[0m\u001b[0;34m\u001b[0m\u001b[0;34m\u001b[0m\u001b[0m\n",
      "\u001b[0;31mNameError\u001b[0m: name 'train' is not defined"
     ]
    }
   ],
   "source": [
    "\n",
    "# for lr in np.linspace(0.005,0.05,5):\n",
    "\n",
    "returns = []\n",
    "n_seeds=10\n",
    "\n",
    "for i in range(n_seeds):\n",
    "\n",
    "    print(f\"\\n Run: {i+1} \\n\")\n",
    "\n",
    "    # print(f\"Learning rate: {lr}\")\n",
    "    # Linear Config\n",
    "    # DQN Config\n",
    "    CONFIG = {\n",
    "        \"episode_length\": 200,\n",
    "        \"max_timesteps\": 20000,\n",
    "        \"max_time\": 30 * 60,\n",
    "        \"eval_freq\": 2000, \n",
    "        \"eval_episodes\": 10,\n",
    "        \"learning_rate\": 0.0002,\n",
    "        \"hidden_size\": (64,128),\n",
    "        \"target_update_freq\": 200,\n",
    "        \"batch_size\": 32,\n",
    "        \"gamma\": 0.98,\n",
    "        \"buffer_capacity\": int(1e7),\n",
    "        \"plot_loss\": False,\n",
    "        \"epsilon\": 1,\n",
    "        \"max_deduct\": 0.95,\n",
    "        \"decay\": 0.2,\n",
    "        \"lr_step_size\": 1000,\n",
    "        \"lr_gamma\": 0.99,\n",
    "        \"max_steps\": 200,\n",
    "    }\n",
    "    r, _ = train(env, \n",
    "            CONFIG, \n",
    "            fa=function_approximators[0], \n",
    "            agent = agents[0], \n",
    "            render=RENDER)\n",
    "    env.close()\n",
    "    returns.append(r[-1])\n",
    "\n",
    "print(f\"Mean returns: {np.mean(returns)}\")\n",
    "print(f\"Std returns: {np.std(returns)}\")"
   ]
  },
  {
   "cell_type": "code",
   "execution_count": null,
   "metadata": {},
   "outputs": [],
   "source": []
  }
 ]
}