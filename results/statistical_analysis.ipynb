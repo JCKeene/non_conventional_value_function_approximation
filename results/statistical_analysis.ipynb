{
 "metadata": {
  "language_info": {
   "codemirror_mode": {
    "name": "ipython",
    "version": 3
   },
   "file_extension": ".py",
   "mimetype": "text/x-python",
   "name": "python",
   "nbconvert_exporter": "python",
   "pygments_lexer": "ipython3",
   "version": "3.8.8"
  },
  "orig_nbformat": 4,
  "kernelspec": {
   "name": "python3",
   "display_name": "Python 3.8.8 64-bit ('rl_vfa_venv': venv)"
  },
  "interpreter": {
   "hash": "ca6e9933f728d920a33c4385152fc811e414d8d97bad348677111d3aff399912"
  }
 },
 "nbformat": 4,
 "nbformat_minor": 2,
 "cells": [
  {
   "cell_type": "code",
   "execution_count": 2,
   "metadata": {},
   "outputs": [],
   "source": [
    "import numpy as np\n",
    "from scipy.stats import ttest_ind"
   ]
  },
  {
   "cell_type": "code",
   "execution_count": 21,
   "metadata": {},
   "outputs": [
    {
     "output_type": "execute_result",
     "data": {
      "text/plain": [
       "0.306"
      ]
     },
     "metadata": {},
     "execution_count": 21
    }
   ],
   "source": [
    "environment = \"cartpole\"\n",
    "\n",
    "# legends = [\"Decision Tree, Depth=10\", \"Random Forest\", \"Extra Trees\", \"Support Vectors\", \"K-Neighbours\", \"Gaussian Process\"]\n",
    "# legends = [\"Decision Tree, Depth=6\",\"Decision Tree, Depth=8\",\"Decision Tree, Depth=10\", \"Decision Tree, Depth=12\", \"Decision Tree, Depth=14\"]\n",
    "legends = [\"Neural Network\", \"Linear Model\", \"Decision Tree\", \"Random Forest\", \"Support Vectors\", \"K-Neighbours\", \"Gaussian Process\"]\n",
    "returns = []\n",
    "for i in range(len(legends)):\n",
    "    a = np.genfromtxt(f'{environment}/eval_returns/{environment}_eval_{legends[i]}.csv', delimiter=',')\n",
    "    returns.append(a[:,-1])\n",
    "\n",
    "ttest_ind(returns[2], returns[6], equal_var=False).pvalue.round(3)"
   ]
  },
  {
   "cell_type": "code",
   "execution_count": 6,
   "metadata": {},
   "outputs": [
    {
     "output_type": "execute_result",
     "data": {
      "text/plain": [
       "array([197.2, 144. , 167.8, 176.4, 189.4, 181.4, 119.6, 185. , 181.2,\n",
       "       195.6, 200. , 163.2, 171.8, 194.2, 192. , 178. , 176.2, 148. ,\n",
       "       166.6, 187. , 179.8, 153. , 184.4, 175. , 113. , 176.4, 200. ,\n",
       "       173.4, 195. , 193.6])"
      ]
     },
     "metadata": {},
     "execution_count": 6
    }
   ],
   "source": [
    "a[:,-1]"
   ]
  }
 ]
}