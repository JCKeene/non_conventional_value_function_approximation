{
 "metadata": {
  "language_info": {
   "codemirror_mode": {
    "name": "ipython",
    "version": 3
   },
   "file_extension": ".py",
   "mimetype": "text/x-python",
   "name": "python",
   "nbconvert_exporter": "python",
   "pygments_lexer": "ipython3",
   "version": "3.8.8"
  },
  "orig_nbformat": 2,
  "kernelspec": {
   "name": "python388jvsc74a57bd022a4fa19595f02a13987d52fdee973c5ab514be50202bb6cec211f6ae6538c08",
   "display_name": "Python 3.8.8 64-bit ('rl_vfa_venv': venv)"
  }
 },
 "nbformat": 4,
 "nbformat_minor": 2,
 "cells": [
  {
   "cell_type": "code",
   "execution_count": 13,
   "metadata": {},
   "outputs": [],
   "source": [
    "import torch.nn as nn\n",
    "import numpy as np \n",
    "import torch\n",
    "\n",
    "class FA_model(nn.Module):\n",
    "\n",
    "    def __init__(self):\n",
    "        super().__init__()\n",
    "\n",
    "    def hard_update(self, target_net):\n",
    "        \n",
    "        for param, target_param in zip(self.parameters(), target_net.parameters()):\n",
    "            param.data.copy_(target_param.data)\n",
    "\n",
    "class NeuralNetwork(FA_model):\n",
    "\n",
    "    def __init__(self, layer_dims):\n",
    "\n",
    "        super().__init__()\n",
    "        self.model = self._compile_fcn(layer_dims)\n",
    "\n",
    "    def _compile_fcn(self, dims):\n",
    "        \n",
    "        layers = []\n",
    "        for i in range(len(dims) - 1):\n",
    "            layers.append(nn.Linear(dims[i], dims[i+1], bias=False))\n",
    "            if (i < len(dims) - 2):\n",
    "                layers.append(nn.BatchNorm1d(dims[i+1]))\n",
    "                layers.append(nn.ReLU())\n",
    "\n",
    "        model = nn.Sequential(*layers)\n",
    "        return model\n",
    "\n",
    "    def forward(self, x): \n",
    "        return self.model(x)"
   ]
  },
  {
   "cell_type": "code",
   "execution_count": 14,
   "metadata": {},
   "outputs": [
    {
     "output_type": "stream",
     "name": "stdout",
     "text": [
      "4\nNeuralNetwork(\n  (model): Sequential(\n    (0): Linear(in_features=2, out_features=4, bias=False)\n    (1): BatchNorm1d(4, eps=1e-05, momentum=0.1, affine=True, track_running_stats=True)\n    (2): ReLU()\n    (3): Linear(in_features=4, out_features=4, bias=False)\n    (4): BatchNorm1d(4, eps=1e-05, momentum=0.1, affine=True, track_running_stats=True)\n    (5): ReLU()\n    (6): Linear(in_features=4, out_features=2, bias=False)\n  )\n)\n"
     ]
    }
   ],
   "source": [
    "dims = (2,*(4,4),2)\n",
    "print(len(dims))\n",
    "\n",
    "m = NeuralNetwork(dims)\n",
    "print(m)"
   ]
  },
  {
   "cell_type": "code",
   "execution_count": null,
   "metadata": {},
   "outputs": [],
   "source": []
  }
 ]
}