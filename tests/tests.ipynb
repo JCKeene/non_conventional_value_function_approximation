{
 "metadata": {
  "language_info": {
   "codemirror_mode": {
    "name": "ipython",
    "version": 3
   },
   "file_extension": ".py",
   "mimetype": "text/x-python",
   "name": "python",
   "nbconvert_exporter": "python",
   "pygments_lexer": "ipython3",
   "version": "3.8.8"
  },
  "orig_nbformat": 2,
  "kernelspec": {
   "name": "python388jvsc74a57bd022a4fa19595f02a13987d52fdee973c5ab514be50202bb6cec211f6ae6538c08",
   "display_name": "Python 3.8.8 64-bit ('rl_vfa_venv': venv)"
  }
 },
 "nbformat": 4,
 "nbformat_minor": 2,
 "cells": [
  {
   "cell_type": "code",
   "execution_count": 1,
   "metadata": {},
   "outputs": [],
   "source": [
    "import torch\n",
    "import numpy as np\n",
    "import gym\n",
    "\n",
    "env = gym.make(\"CartPole-v1\")"
   ]
  },
  {
   "cell_type": "code",
   "execution_count": 19,
   "metadata": {},
   "outputs": [],
   "source": [
    "def _create_grid(lower, upper, bins, offsets):\n",
    "    return [np.linspace(lower[dim], upper[dim], bins[dim] + 1)[1:-1] + offsets[dim] for dim in range(len(bins))]\n",
    "\n",
    "def _create_tilings(lower, upper, specs):\n",
    "    return [_create_grid(lower, upper, bins, offsets) for bins, offsets in specs]\n",
    "\n",
    "def _discretize(sample, grid):\n",
    "    return tuple(int(np.digitize(s, g)) for s, g in zip(sample, grid))\n",
    "\n",
    "def _tile_encoding(sample, tilings):\n",
    "    return [_discretize(sample, grid) for grid in tilings]\n",
    "\n",
    "def _get_indices(tile_encoding):\n",
    "    n_bins = 5\n",
    "    n_tilings = len(tile_encoding)\n",
    "\n",
    "    indices = [i*n_bins + j + n*(n_bins**2) for n, (i, j) in enumerate(tile_encoding)]\n",
    "    print(indices)\n",
    "    features = np.zeros(n_bins**2*n_tilings)\n",
    "    features[indices]=1\n",
    "\n",
    "    return features\n",
    "\n",
    "def _tiling_features(x, lower, upper, specs):\n",
    "\n",
    "    tilings = _create_tilings(lower, upper, specs)\n",
    "    print(tilings)\n",
    "    \n",
    "    if len(x.size()) == 1:\n",
    "        tile_encoding = _tile_encoding(x[[0,2]], tilings)\n",
    "        features = _get_indices(tile_encoding)\n",
    "        \n",
    "        return torch.cat([x[[1,3]],torch.Tensor(features)], -1)\n",
    "    \n",
    "    elif len(x.size()) == 2:       \n",
    "        features = []\n",
    "        for xi in x:\n",
    "            tile_encoding = _tile_encoding(xi[[0,2]], tilings)\n",
    "            print(tile_encoding)\n",
    "            features.append(_get_indices(tile_encoding))\n",
    "\n",
    "        return torch.cat([x[:,[1,3]],torch.Tensor(features)], -1)\n",
    "\n"
   ]
  },
  {
   "cell_type": "code",
   "execution_count": 4,
   "metadata": {},
   "outputs": [
    {
     "output_type": "execute_result",
     "data": {
      "text/plain": [
       "2"
      ]
     },
     "metadata": {},
     "execution_count": 4
    }
   ],
   "source": [
    "x = torch.Tensor([[1,0,3,1],[1,2,3,0],[2,3,1,1]])\n",
    "x1 = torch.Tensor([1,2,3,4])\n",
    "len(x.size())"
   ]
  },
  {
   "cell_type": "code",
   "execution_count": 21,
   "metadata": {},
   "outputs": [
    {
     "output_type": "stream",
     "name": "stdout",
     "text": [
      "[[array([-1.8, -0.6,  0.6,  1.8]), array([-0.18, -0.06,  0.06,  0.18])], [array([-1.6, -0.4,  0.8,  2. ]), array([-0.16, -0.04,  0.08,  0.2 ])], [array([-2. , -0.8,  0.4,  1.6]), array([-0.2 , -0.08,  0.04,  0.16])]]\n[(3, 4), (3, 4), (3, 4)]\n[19, 44, 69]\n[(3, 4), (3, 4), (3, 4)]\n[19, 44, 69]\n[(4, 4), (4, 4), (4, 4)]\n[24, 49, 74]\ntensor([[0., 1., 0., 0., 0., 0., 0., 0., 0., 0., 0., 0., 0., 0., 0., 0., 0., 0.,\n         0., 0., 0., 1., 0., 0., 0., 0., 0., 0., 0., 0., 0., 0., 0., 0., 0., 0.,\n         0., 0., 0., 0., 0., 0., 0., 0., 0., 0., 1., 0., 0., 0., 0., 0., 0., 0.,\n         0., 0., 0., 0., 0., 0., 0., 0., 0., 0., 0., 0., 0., 0., 0., 0., 0., 1.,\n         0., 0., 0., 0., 0.],\n        [2., 0., 0., 0., 0., 0., 0., 0., 0., 0., 0., 0., 0., 0., 0., 0., 0., 0.,\n         0., 0., 0., 1., 0., 0., 0., 0., 0., 0., 0., 0., 0., 0., 0., 0., 0., 0.,\n         0., 0., 0., 0., 0., 0., 0., 0., 0., 0., 1., 0., 0., 0., 0., 0., 0., 0.,\n         0., 0., 0., 0., 0., 0., 0., 0., 0., 0., 0., 0., 0., 0., 0., 0., 0., 1.,\n         0., 0., 0., 0., 0.],\n        [3., 1., 0., 0., 0., 0., 0., 0., 0., 0., 0., 0., 0., 0., 0., 0., 0., 0.,\n         0., 0., 0., 0., 0., 0., 0., 0., 1., 0., 0., 0., 0., 0., 0., 0., 0., 0.,\n         0., 0., 0., 0., 0., 0., 0., 0., 0., 0., 0., 0., 0., 0., 0., 1., 0., 0.,\n         0., 0., 0., 0., 0., 0., 0., 0., 0., 0., 0., 0., 0., 0., 0., 0., 0., 0.,\n         0., 0., 0., 0., 1.]])\n"
     ]
    }
   ],
   "source": [
    "print(_tiling_features(x, lower=[-3,-0.3], upper=[3,0.3], specs=[([5,5],[0,0]),([5,5],[0.2,0.02]),([5,5],[-0.2,-0.02])]))"
   ]
  },
  {
   "cell_type": "code",
   "execution_count": 76,
   "metadata": {},
   "outputs": [
    {
     "output_type": "execute_result",
     "data": {
      "text/plain": [
       "array([-4.8000002e+00, -3.4028235e+38, -4.1887903e-01, -3.4028235e+38],\n",
       "      dtype=float32)"
      ]
     },
     "metadata": {},
     "execution_count": 76
    }
   ],
   "source": [
    "env.observation_space.low"
   ]
  }
 ]
}