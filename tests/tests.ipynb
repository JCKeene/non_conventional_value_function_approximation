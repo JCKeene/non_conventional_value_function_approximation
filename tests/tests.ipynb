{
 "metadata": {
  "language_info": {
   "codemirror_mode": {
    "name": "ipython",
    "version": 3
   },
   "file_extension": ".py",
   "mimetype": "text/x-python",
   "name": "python",
   "nbconvert_exporter": "python",
   "pygments_lexer": "ipython3",
   "version": "3.8.8"
  },
  "orig_nbformat": 2,
  "kernelspec": {
   "name": "python388jvsc74a57bd022a4fa19595f02a13987d52fdee973c5ab514be50202bb6cec211f6ae6538c08",
   "display_name": "Python 3.8.8 64-bit ('rl_vfa_venv': venv)"
  }
 },
 "nbformat": 4,
 "nbformat_minor": 2,
 "cells": [
  {
   "cell_type": "code",
   "execution_count": 1,
   "metadata": {},
   "outputs": [],
   "source": [
    "import torch\n",
    "import numpy as np\n",
    "import gym\n",
    "\n",
    "env = gym.make(\"CartPole-v1\")"
   ]
  },
  {
   "cell_type": "code",
   "execution_count": 2,
   "metadata": {},
   "outputs": [],
   "source": [
    "def _tilings_features(env, n_tilings, bin_sizes, offsets):\n",
    "\n",
    "    tilings = []\n",
    "\n",
    "    upper_bounds = env.observation_space.high\n",
    "    lower_bounds = env.observation_space.low\n",
    "    n_features = env.observation_space.shape[0]\n",
    "\n",
    "    for i in range(n_tilings):\n",
    "        bin = bin_sizes[i]\n",
    "        offset = offsets[i]\n",
    "        tiling = []\n",
    "\n",
    "        for j in range(n_features):\n",
    "            f_tiling = np.linspace(lower_bounds[i], upper_bounds[i], bin[j]+1)[1:-1] + offset[j]\n",
    "            tiling.append(f_tiling)\n",
    "        \n",
    "        tilings.append(tiling)\n",
    "\n",
    "    return np.array(tilings)\n"
   ]
  },
  {
   "source": [
    "x=torch.Tensor([0.02231883,  0.19944809, -0.02742709, -0.31805503])\n",
    "print(x)\n",
    "print(torch.cat([x ** i for i in range(1, 3)],-1))"
   ],
   "cell_type": "code",
   "metadata": {},
   "execution_count": 9,
   "outputs": [
    {
     "output_type": "stream",
     "name": "stdout",
     "text": [
      "tensor([ 0.0223,  0.1994, -0.0274, -0.3181])\ntensor([ 0.0223,  0.1994, -0.0274, -0.3181,  0.0005,  0.0398,  0.0008,  0.1012])\n"
     ]
    }
   ]
  },
  {
   "cell_type": "code",
   "execution_count": 4,
   "metadata": {},
   "outputs": [
    {
     "output_type": "stream",
     "name": "stdout",
     "text": [
      "[4.8000002e+00 3.4028235e+38 4.1887903e-01 3.4028235e+38]\n"
     ]
    }
   ],
   "source": [
    "print(env.observation_space.high)"
   ]
  },
  {
   "cell_type": "code",
   "execution_count": 24,
   "metadata": {},
   "outputs": [
    {
     "output_type": "stream",
     "name": "stdout",
     "text": [
      "625\n"
     ]
    }
   ],
   "source": [
    "custom_tilings = [[-3,-1,1,3],[-5,-1,1,5],[-0.3,-0.1,-0.01,0.01,0.1,0.3],[-5,-1,1,5]]\n",
    "n_tilings = 5**4\n",
    "print(n_tilings)"
   ]
  },
  {
   "cell_type": "code",
   "execution_count": 25,
   "metadata": {},
   "outputs": [
    {
     "output_type": "stream",
     "name": "stdout",
     "text": [
      "4\n2\n3\n2\n"
     ]
    }
   ],
   "source": [
    "x=torch.Tensor([5,  0.19944809, 0.000742709, -0.31805503])\n",
    "\n",
    "for i, num in enumerate(x):\n",
    "    print(np.digitize(num,custom_tilings[i]))\n",
    "\n"
   ]
  },
  {
   "cell_type": "code",
   "execution_count": 99,
   "metadata": {},
   "outputs": [],
   "source": [
    "def _tiling_features(x):\n",
    "    tiling_coords = [-0.3,-0.1,-0.01,0.01,0.1,0.3]\n",
    "    \n",
    "    \n",
    "    try:\n",
    "        f_tiling = np.digitize(x[:,2], tiling_coords)\n",
    "        \n",
    "        new_features = np.zeros((x.shape[0],len(tiling_coords)+1))\n",
    "        new_features[np.arange(x.shape[0]),f_tiling]=1\n",
    "        \n",
    "        return torch.cat([x[:,[0,1,3]],torch.Tensor(new_features)], -1)\n",
    "\n",
    "    except:\n",
    "        f_tiling = np.digitize(x[2], tiling_coords)\n",
    "        \n",
    "        new_features = np.zeros(len(tiling_coords)+1)\n",
    "        new_features[f_tiling]=1\n",
    "        \n",
    "        return torch.cat([x[[0,1,3]],torch.Tensor(new_features)], -1)\n",
    "    \n",
    "    \n",
    "\n",
    "def _polynomial_features(x):\n",
    "    return torch.cat([x ** i for i in range(1, 3)], -1)\n",
    "\n"
   ]
  },
  {
   "cell_type": "code",
   "execution_count": 100,
   "metadata": {},
   "outputs": [
    {
     "output_type": "stream",
     "name": "stdout",
     "text": [
      "tensor([[ 5.0000e+00,  1.9945e-01,  2.7427e-02, -3.1806e-01,  2.5000e+01,\n          3.9780e-02,  7.5225e-04,  1.0116e-01],\n        [ 5.0000e+00,  1.9945e-01,  7.4271e-04, -3.1806e-01,  2.5000e+01,\n          3.9780e-02,  5.5162e-07,  1.0116e-01]])\ntensor([[ 5.0000e+00,  1.9945e-01,  2.7427e-02, -3.1806e-01,  0.0000e+00,\n          0.0000e+00,  0.0000e+00,  0.0000e+00,  1.0000e+00,  0.0000e+00,\n          0.0000e+00],\n        [ 5.0000e+00,  1.9945e-01,  7.4271e-04, -3.1806e-01,  0.0000e+00,\n          0.0000e+00,  0.0000e+00,  1.0000e+00,  0.0000e+00,  0.0000e+00,\n          0.0000e+00]])\n"
     ]
    }
   ],
   "source": [
    "x=torch.Tensor([[5,  0.19944809, 0.02742709, -0.31805503], [5,  0.19944809, 0.000742709, -0.31805503]])\n",
    "print(_polynomial_features(x))\n",
    "print(_tiling_features(x))"
   ]
  },
  {
   "cell_type": "code",
   "execution_count": 87,
   "metadata": {},
   "outputs": [],
   "source": [
    "x=torch.Tensor([5,  0.19944809, 0.02742709, -0.31805503])\n",
    "x1=torch.Tensor([[5,  0.19944809, 0.02742709, -0.31805503], [5,  0.19944809, 0.000742709, -0.31805503]])\n"
   ]
  },
  {
   "cell_type": "code",
   "execution_count": 90,
   "metadata": {},
   "outputs": [
    {
     "output_type": "execute_result",
     "data": {
      "text/plain": [
       "torch.Size([2, 4])"
      ]
     },
     "metadata": {},
     "execution_count": 90
    }
   ],
   "source": [
    "x1.shape"
   ]
  },
  {
   "cell_type": "code",
   "execution_count": null,
   "metadata": {},
   "outputs": [],
   "source": []
  }
 ]
}