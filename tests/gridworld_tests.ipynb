{
 "cells": [
  {
   "cell_type": "code",
   "execution_count": 1,
   "metadata": {},
   "outputs": [],
   "source": [
    "import gym\n",
    "# import gym_minigrid\n",
    "# import gym_gridworlds\n",
    "# from gym_minigrid.wrappers import *\n",
    "import numpy as np\n",
    "# import Gridworld\n",
    "\n",
    "from custom_envs.gridworlds import WindyGridworldEnv, WindyGridworldEnvNoEncode\n"
   ]
  },
  {
   "cell_type": "code",
   "execution_count": 2,
   "metadata": {},
   "outputs": [
    {
     "name": "stdout",
     "output_type": "stream",
     "text": [
      "Discrete(70)\n",
      "2\n"
     ]
    }
   ],
   "source": [
    "# env1 = gym.make(\"WindyGridworld-v0\")\n",
    "# env2 = gym.make(\"CartPole-v1\")\n",
    "# env3 = gym.make(\"MiniGrid-Empty-5x5-v0\")\n",
    "# env4 = WindyGridworldEnv()\n",
    "\n",
    "\n",
    "env = WindyGridworldEnvNoEncode()\n",
    "env2 = WindyGridworldEnv()\n",
    "print(env2.observation_space)\n",
    "print(len(env.observation_space.spaces))\n",
    "# env3 = FlatObsWrapper(env3)\n",
    "# print(env4.observation_space)\n",
    "# print(env4.action_space.n)\n",
    "\n",
    "# print(sum([i.n for i in env1.observation_space]))"
   ]
  },
  {
   "cell_type": "code",
   "execution_count": 3,
   "metadata": {
    "tags": []
   },
   "outputs": [
    {
     "name": "stdout",
     "output_type": "stream",
     "text": [
      "[2 0]\n",
      "[1 0]\n",
      "[0 0]\n",
      "[0 0]\n",
      "[0 0]\n",
      "[0 0]\n",
      "[0 0]\n",
      "[0 0]\n",
      "[0 0]\n",
      "[0 0]\n",
      "-10 10\n"
     ]
    }
   ],
   "source": [
    "env = env\n",
    "\n",
    "env.reset() \n",
    "done = False\n",
    "rr = 0\n",
    "i = 0\n",
    "while not done:\n",
    "    s, r, done, next_s = env.step(0)\n",
    "    print(s)\n",
    "    rr += r\n",
    "    i += 1\n",
    "    if i == 10:\n",
    "        done = True\n",
    "print(rr, i)\n",
    "# env1.render()\n",
    "\n"
   ]
  },
  {
   "cell_type": "code",
   "execution_count": 31,
   "metadata": {},
   "outputs": [],
   "source": [
    "def _one_hot(sample):\n",
    "    index = sample[0]*10 + sample[1]\n",
    "    features = np.zeros(70)\n",
    "    features[index]=1\n",
    "\n",
    "    return features\n"
   ]
  },
  {
   "cell_type": "code",
   "execution_count": 33,
   "metadata": {},
   "outputs": [
    {
     "data": {
      "text/plain": [
       "array([0., 0., 0., 0., 0., 0., 0., 0., 0., 0., 0., 0., 0., 0., 0., 0., 0.,\n",
       "       0., 0., 0., 0., 0., 0., 0., 0., 0., 0., 0., 0., 0., 0., 0., 0., 0.,\n",
       "       0., 0., 0., 0., 0., 0., 0., 0., 0., 0., 1., 0., 0., 0., 0., 0., 0.,\n",
       "       0., 0., 0., 0., 0., 0., 0., 0., 0., 0., 0., 0., 0., 0., 0., 0., 0.,\n",
       "       0., 0.])"
      ]
     },
     "execution_count": 33,
     "metadata": {},
     "output_type": "execute_result"
    }
   ],
   "source": [
    "x = (4,4)\n",
    "_one_hot(x)"
   ]
  },
  {
   "cell_type": "code",
   "execution_count": 15,
   "metadata": {},
   "outputs": [],
   "source": [
    "env = gym.make(\"CartPole-v1\")\n",
    "environment = \"cartpole\"\n"
   ]
  },
  {
   "cell_type": "code",
   "execution_count": 16,
   "metadata": {},
   "outputs": [
    {
     "name": "stdout",
     "output_type": "stream",
     "text": [
      "[ 0.01761609 -0.16308955  0.01155363  0.28634518]\n",
      "[ 0.0143543  -0.35837435  0.01728054  0.58264952]\n",
      "[ 0.00718681 -0.55373409  0.02893353  0.8807256 ]\n",
      "[-0.00388787 -0.74923689  0.04654804  1.18236234]\n",
      "[-0.01887261 -0.94493098  0.07019529  1.4892657 ]\n",
      "[-0.03777123 -1.14083405  0.0999806   1.80301711]\n",
      "[-0.06058791 -1.33692082  0.13604094  2.12502375]\n",
      "[-0.08732632 -1.53310828  0.17854142  2.45645878]\n",
      "[-0.11798849 -1.72923858  0.22767059  2.79819037]\n",
      "9.0 9\n"
     ]
    }
   ],
   "source": [
    "env.reset() \n",
    "done = False\n",
    "rr = 0\n",
    "i = 0\n",
    "while not done:\n",
    "    s, r, done, next_s = env.step(0)\n",
    "    print(s)\n",
    "    rr += r\n",
    "    i += 1\n",
    "    if i == 10:\n",
    "        done = True\n",
    "print(rr, i)\n",
    "# env1.render()"
   ]
  }
 ],
 "metadata": {
  "kernelspec": {
   "display_name": "UoERL",
   "language": "python",
   "name": "uoerl"
  },
  "language_info": {
   "codemirror_mode": {
    "name": "ipython",
    "version": 3
   },
   "file_extension": ".py",
   "mimetype": "text/x-python",
   "name": "python",
   "nbconvert_exporter": "python",
   "pygments_lexer": "ipython3",
   "version": "3.7.9"
  },
  "orig_nbformat": 2
 },
 "nbformat": 4,
 "nbformat_minor": 2
}
