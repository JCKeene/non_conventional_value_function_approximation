{
 "metadata": {
  "language_info": {
   "codemirror_mode": {
    "name": "ipython",
    "version": 3
   },
   "file_extension": ".py",
   "mimetype": "text/x-python",
   "name": "python",
   "nbconvert_exporter": "python",
   "pygments_lexer": "ipython3",
   "version": "3.8.8"
  },
  "orig_nbformat": 2,
  "kernelspec": {
   "name": "python3",
   "display_name": "Python 3.8.8 64-bit ('rl_vfa_venv': venv)"
  },
  "interpreter": {
   "hash": "22a4fa19595f02a13987d52fdee973c5ab514be50202bb6cec211f6ae6538c08"
  }
 },
 "nbformat": 4,
 "nbformat_minor": 2,
 "cells": [
  {
   "cell_type": "code",
   "execution_count": 1,
   "source": [
    "## Imports\n",
    "\n",
    "import gym \n",
    "import numpy as np\n",
    "\n",
    "from function_approximators.function_approximators import NeuralNetwork, LinearModel, DecisionTree, RandomForest, SupportVectorRegressor, KNeighboursRegressor, GaussianProcess, OnlineGaussianProcess\n",
    "from sklearn.gaussian_process.kernels import RBF\n",
    "from sklearn.metrics.pairwise import rbf_kernel\n",
    "\n",
    "from utils.train_utils import train, solve, train_time\n",
    "\n",
    "from agents.agents import DQNAgent, LinearAgent, FQIAgent, OnlineGaussianProccessAgent\n",
    "import operator\n"
   ],
   "outputs": [],
   "metadata": {}
  },
  {
   "cell_type": "code",
   "execution_count": 2,
   "source": [
    "## Environment\n",
    "\n",
    "function_approximators = [NeuralNetwork, LinearModel, DecisionTree, RandomForest, SupportVectorRegressor, KNeighboursRegressor, GaussianProcess, OnlineGaussianProcess]\n",
    "\n",
    "agents = [DQNAgent, LinearAgent, *[FQIAgent]*5, OnlineGaussianProccessAgent]\n",
    "\n",
    "RENDER = False\n",
    "env = gym.make(\"LunarLander-v2\")\n",
    "environment = \"lunarlander\""
   ],
   "outputs": [],
   "metadata": {}
  },
  {
   "cell_type": "code",
   "execution_count": 3,
   "source": [
    "# DQN Config\n",
    "CONFIG_DQN = {\n",
    "    \"episode_length\": 500,\n",
    "    \"max_timesteps\": 200000,\n",
    "    \"max_time\": 30 * 60,\n",
    "    \"eval_freq\": 10000, \n",
    "    \"eval_episodes\": 5,\n",
    "    \"learning_rate\": 0.0015,\n",
    "    \"hidden_size\": (256,128),\n",
    "    \"target_update_freq\": 100,\n",
    "    \"batch_size\": 64,\n",
    "    \"gamma\": 0.99,\n",
    "    \"buffer_capacity\": int(1e6),\n",
    "    \"plot_loss\": False,\n",
    "    \"epsilon\": 1,\n",
    "    \"max_deduct\": 0.95,\n",
    "    \"decay\": 0.1,\n",
    "    \"lr_step_size\": 1000,\n",
    "    \"lr_gamma\": 0.99,\n",
    "    \"max_steps\": 500,\n",
    "    \"non_param\": False,\n",
    "}\n",
    "\n",
    "# Linear Config\n",
    "CONFIG_LINEAR = {\n",
    "    \"episode_length\": 500,\n",
    "    \"max_timesteps\": 200000,\n",
    "    \"max_time\": 30 * 60,\n",
    "    \"eval_freq\": 10000, \n",
    "    \"eval_episodes\": 5,\n",
    "    \"learning_rate\": 0.02,\n",
    "    \"target_update_freq\": 50,\n",
    "    \"batch_size\": 64,\n",
    "    \"gamma\": 0.99,\n",
    "    \"buffer_capacity\": int(1e5),\n",
    "    \"plot_loss\": False,\n",
    "    \"epsilon\": 1,\n",
    "    \"max_steps\": 500,\n",
    "    \"poly_degree\": 4,\n",
    "    \"max_deduct\": 0.95,\n",
    "    \"decay\": 0.1,\n",
    "    \"lr_step_size\": 1000,\n",
    "    \"lr_gamma\": 0.99,\n",
    "    \"non_param\": False,\n",
    "}\n",
    "\n",
    "# Decision Tree Config\n",
    "CONFIG_DT = {\n",
    "    \"episode_length\": 500,\n",
    "    \"max_timesteps\": 200000,\n",
    "    \"max_time\": 30 * 60,\n",
    "    \"eval_freq\": 10000, \n",
    "    \"eval_episodes\": 5,\n",
    "    \"model_save_freq\": 0,\n",
    "    \"model_save_capacity\": 0,\n",
    "    \"update_freq\": 100,\n",
    "    \"batch_size\": 128,\n",
    "    \"gamma\": 0.99,\n",
    "    \"buffer_capacity\": int(1e6),\n",
    "    \"epsilon\": 1,\n",
    "    \"max_deduct\": 0.9,\n",
    "    \"decay\": 0.4,\n",
    "    \"max_steps\": 500,\n",
    "    \"non_param\": True,\n",
    "    \"model_params\": {\"criterion\":\"mse\",\"max_depth\": 20, \"min_samples_split\": 20, \"min_samples_leaf\": 5},\n",
    "    \"feature_names\": [\"Cart Position\", \"Cart Velocity\", \"Pole Angle\", \"Pole Angular Velocity\", \"Action: Push Left\", \"Action: Push Right\"],\n",
    "    \"plot_name\": \"dt_depth=8\",\n",
    "}\n",
    "\n",
    "# Random Forest Config\n",
    "CONFIG_RF = {\n",
    "    \"episode_length\": 500,\n",
    "    \"max_timesteps\": 200000,\n",
    "    \"max_time\": 30 * 1000,\n",
    "    \"eval_freq\": 10000, \n",
    "    \"eval_episodes\": 5,\n",
    "    \"model_save_freq\": 0,\n",
    "    \"model_save_capacity\": 0,\n",
    "    \"update_freq\": 100,\n",
    "    \"batch_size\": 128,\n",
    "    \"gamma\": 0.99,\n",
    "    \"buffer_capacity\": int(1e6),\n",
    "    \"epsilon\": 1,\n",
    "    \"max_deduct\": 0.9,\n",
    "    \"decay\": 0.4,\n",
    "    \"max_steps\": 500,\n",
    "    \"non_param\": True,\n",
    "    \"model_params\": {\"n_estimators\": 10,\"max_depth\": 20, \"min_samples_split\": 20, \"min_samples_leaf\": 5},\n",
    "}\n",
    "\n",
    "# Support Vector Regressor Config\n",
    "CONFIG_SVR = {\n",
    "    \"episode_length\": 500,\n",
    "    \"max_timesteps\": 50000,\n",
    "    \"max_time\": 30 * 1000,\n",
    "    \"eval_freq\": 2500, \n",
    "    \"eval_episodes\": 10,\n",
    "    \"model_save_freq\": 0,\n",
    "    \"model_save_capacity\": 0,\n",
    "    \"update_freq\": 200,\n",
    "    \"batch_size\": 128,\n",
    "    \"gamma\": 0.99,\n",
    "    \"buffer_capacity\": int(1e6),\n",
    "    \"epsilon\": 1,\n",
    "    \"max_deduct\": 0.95,\n",
    "    \"decay\": 0.3,\n",
    "    \"max_steps\": 500,\n",
    "    \"non_param\": True,\n",
    "    \"model_params\": {\"kernel\":\"rbf\", \"degree\": 2, \"C\": 1.2},\n",
    "}\n",
    "\n",
    "\n",
    "# K-Neighbors Regressor Config\n",
    "CONFIG_KNR = {\n",
    "    \"episode_length\": 500,\n",
    "    \"max_timesteps\": 50000,\n",
    "    \"max_time\": 30 * 1000,\n",
    "    \"eval_freq\": 5000, \n",
    "    \"eval_episodes\": 5,\n",
    "    \"model_save_freq\": 0,\n",
    "    \"model_save_capacity\": 0,\n",
    "    \"update_freq\": 100,\n",
    "    \"batch_size\": 128,\n",
    "    \"gamma\": 0.99,\n",
    "    \"buffer_capacity\": int(1e6),\n",
    "    \"epsilon\": 1,\n",
    "    \"max_deduct\": 0.93,\n",
    "    \"decay\": 0.4,\n",
    "    \"max_steps\": 500,\n",
    "    \"non_param\": True,\n",
    "    \"model_params\": {\"n_neighbors\":10, \"weights\": \"distance\", \"algorithm\": \"auto\", \"leaf_size\": 30},\n",
    "}\n",
    "\n",
    "# Gaussian Process Config\n",
    "CONFIG_GP = {\n",
    "    \"episode_length\": 500,\n",
    "    \"max_timesteps\": 50000,\n",
    "    \"max_time\": 30 * 1000,\n",
    "    \"eval_freq\": 10000, \n",
    "    \"eval_episodes\": 5,\n",
    "    \"model_save_freq\": 0,\n",
    "    \"model_save_capacity\": 0,\n",
    "    \"update_freq\": 100,\n",
    "    \"batch_size\": 128,\n",
    "    \"gamma\": 0.99,\n",
    "    \"buffer_capacity\": int(1e6),\n",
    "    \"epsilon\": 1,\n",
    "    \"max_deduct\": 0.9,\n",
    "    \"decay\": 0.4,\n",
    "    \"max_steps\": 500,\n",
    "    \"non_param\": True,\n",
    "    \"model_params\": {\"alpha\": 1e-10, \"normalize_y\": False, \"kernel\":  RBF(length_scale=0.3, length_scale_bounds=\"fixed\")},\n",
    "}\n",
    "\n",
    "# Online Gaussian Process Config\n",
    "CONFIG_GP_Online = {\n",
    "    \"episode_length\": 500,\n",
    "    \"max_timesteps\": 50000,\n",
    "    \"max_time\": 30 * 1000,\n",
    "    \"eval_freq\": 10000, \n",
    "    \"eval_episodes\": 5,\n",
    "    \"gamma\": 0.99,\n",
    "    \"buffer_capacity\": int(1e6),\n",
    "    \"batch_size\": 32,\n",
    "    \"epsilon\": 1,\n",
    "    \"max_deduct\": 0.93,\n",
    "    \"decay\": 0.4,\n",
    "    \"max_steps\": 500,\n",
    "    \"non_param\": True,\n",
    "    \"model_params\": {\"sigma_0\": 0.3, \"init\": 0, \"kernel\":  rbf_kernel, \"epsilon_tol\": 0.075, \"basis_limit\": 1000},\n",
    "}\n",
    "\n",
    "CONFIGS = [CONFIG_DQN, CONFIG_LINEAR, CONFIG_DT, CONFIG_RF, CONFIG_SVR, CONFIG_KNR, CONFIG_GP, CONFIG_GP_Online]\n",
    "onlines = [False, False, False, False, False, False, False, True]\n",
    "models = [\"Neural Network\", \"Linear Model\", \"Decision Tree\", \"Random Forest\", \"Support Vectors\", \"K-Neighbours\", \"Gaussian Process\", \"Gaussian Process Online\"]"
   ],
   "outputs": [],
   "metadata": {}
  },
  {
   "cell_type": "code",
   "execution_count": 4,
   "source": [
    "## Performance Evaluation\n",
    "\n",
    "returns = []\n",
    "train_returns = []\n",
    "train_times = []\n",
    "n_seeds=11\n",
    "\n",
    "j=4\n",
    "for i in range(n_seeds):\n",
    "    print(f\"\\n Run: {i+1} \\n\")\n",
    "    r, _, t, times = train(env, \n",
    "            CONFIGS[j], \n",
    "            fa=function_approximators[j], \n",
    "            agent = agents[j], \n",
    "            render=RENDER,\n",
    "            online=onlines[j],\n",
    "            threshold = 0.2)\n",
    "    env.close()\n",
    "    returns.append(r)\n",
    "    train_returns.append(t)\n",
    "    train_times.append(times)\n",
    "    \n"
   ],
   "outputs": [
    {
     "output_type": "stream",
     "name": "stderr",
     "text": [
      "  1%|          | 404/50000 [00:00<00:13, 3559.81it/s]"
     ]
    },
    {
     "output_type": "stream",
     "name": "stdout",
     "text": [
      "\n",
      " Run: 1 \n",
      "\n"
     ]
    },
    {
     "output_type": "stream",
     "name": "stderr",
     "text": [
      "  5%|▌         | 2603/50000 [00:06<00:35, 1334.26it/s]"
     ]
    },
    {
     "output_type": "stream",
     "name": "stdout",
     "text": [
      "Evaluation at timestep 2603 returned a mean returns of -98.6351366753515\n",
      "Epsilon = 0.8419833333333333\n",
      "Replay Buffer count: 899\n"
     ]
    },
    {
     "output_type": "stream",
     "name": "stderr",
     "text": [
      " 10%|█         | 5057/50000 [00:16<02:06, 355.75it/s]"
     ]
    },
    {
     "output_type": "stream",
     "name": "stdout",
     "text": [
      "Evaluation at timestep 5057 returned a mean returns of -32.189830203053084\n",
      "Epsilon = 0.6854233333333333\n",
      "Replay Buffer count: 1630\n"
     ]
    },
    {
     "output_type": "stream",
     "name": "stderr",
     "text": [
      " 15%|█▌        | 7635/50000 [00:30<03:10, 222.96it/s]"
     ]
    },
    {
     "output_type": "stream",
     "name": "stdout",
     "text": [
      "Evaluation at timestep 7635 returned a mean returns of -55.48689743098798\n",
      "Epsilon = 0.52918\n",
      "Replay Buffer count: 2219\n"
     ]
    },
    {
     "output_type": "stream",
     "name": "stderr",
     "text": [
      " 20%|██        | 10128/50000 [00:52<05:18, 125.10it/s]"
     ]
    },
    {
     "output_type": "stream",
     "name": "stdout",
     "text": [
      "Evaluation at timestep 10128 returned a mean returns of -30.529813716463124\n",
      "Epsilon = 0.36812333333333336\n",
      "Replay Buffer count: 2814\n"
     ]
    },
    {
     "output_type": "stream",
     "name": "stderr",
     "text": [
      " 26%|██▌       | 12878/50000 [01:23<06:05, 101.67it/s]"
     ]
    },
    {
     "output_type": "stream",
     "name": "stdout",
     "text": [
      "Evaluation at timestep 12878 returned a mean returns of 14.76060906443245\n",
      "Epsilon = 0.21606000000000003\n",
      "Replay Buffer count: 3354\n"
     ]
    },
    {
     "output_type": "stream",
     "name": "stderr",
     "text": [
      " 30%|███       | 15039/50000 [01:53<07:26, 78.37it/s]"
     ]
    },
    {
     "output_type": "stream",
     "name": "stdout",
     "text": [
      "Evaluation at timestep 15039 returned a mean returns of -16.83055963201993\n",
      "Epsilon = 0.06095666666666666\n",
      "Replay Buffer count: 3805\n"
     ]
    },
    {
     "output_type": "stream",
     "name": "stderr",
     "text": [
      " 35%|███▌      | 17529/50000 [02:35<09:26, 57.33it/s]"
     ]
    },
    {
     "output_type": "stream",
     "name": "stdout",
     "text": [
      "Evaluation at timestep 17529 returned a mean returns of -7.529410282472616\n",
      "Epsilon = 0.050000000000000044\n",
      "Replay Buffer count: 4317\n"
     ]
    },
    {
     "output_type": "stream",
     "name": "stderr",
     "text": [
      " 40%|████      | 20094/50000 [03:25<08:17, 60.07it/s]"
     ]
    },
    {
     "output_type": "stream",
     "name": "stdout",
     "text": [
      "Evaluation at timestep 20094 returned a mean returns of 1.7883750597641483\n",
      "Epsilon = 0.050000000000000044\n",
      "Replay Buffer count: 4746\n"
     ]
    },
    {
     "output_type": "stream",
     "name": "stderr",
     "text": [
      " 46%|████▌     | 22911/50000 [04:39<11:42, 38.57it/s]"
     ]
    },
    {
     "output_type": "stream",
     "name": "stdout",
     "text": [
      "Evaluation at timestep 22911 returned a mean returns of -0.021092603363531026\n",
      "Epsilon = 0.050000000000000044\n",
      "Replay Buffer count: 5156\n"
     ]
    },
    {
     "output_type": "stream",
     "name": "stderr",
     "text": [
      " 50%|█████     | 25054/50000 [05:34<09:57, 41.76it/s]"
     ]
    },
    {
     "output_type": "stream",
     "name": "stdout",
     "text": [
      "Evaluation at timestep 25054 returned a mean returns of 61.6261133418823\n",
      "Epsilon = 0.050000000000000044\n",
      "Replay Buffer count: 5489\n"
     ]
    },
    {
     "output_type": "stream",
     "name": "stderr",
     "text": [
      " 56%|█████▌    | 27782/50000 [07:01<11:28, 32.26it/s]"
     ]
    },
    {
     "output_type": "stream",
     "name": "stdout",
     "text": [
      "Evaluation at timestep 27782 returned a mean returns of 71.30701684637992\n",
      "Epsilon = 0.050000000000000044\n",
      "Replay Buffer count: 5862\n"
     ]
    },
    {
     "output_type": "stream",
     "name": "stderr",
     "text": [
      " 60%|██████    | 30048/50000 [08:19<10:45, 30.90it/s]"
     ]
    },
    {
     "output_type": "stream",
     "name": "stdout",
     "text": [
      "Evaluation at timestep 30048 returned a mean returns of 135.88219426721577\n",
      "Epsilon = 0.050000000000000044\n",
      "Replay Buffer count: 6069\n"
     ]
    },
    {
     "output_type": "stream",
     "name": "stderr",
     "text": [
      " 65%|██████▌   | 32597/50000 [09:55<10:46, 26.91it/s]"
     ]
    },
    {
     "output_type": "stream",
     "name": "stdout",
     "text": [
      "Evaluation at timestep 32597 returned a mean returns of 60.392442202472054\n",
      "Epsilon = 0.050000000000000044\n",
      "Replay Buffer count: 6341\n"
     ]
    },
    {
     "output_type": "stream",
     "name": "stderr",
     "text": [
      " 70%|███████   | 35017/50000 [11:28<09:38, 25.88it/s]"
     ]
    },
    {
     "output_type": "stream",
     "name": "stdout",
     "text": [
      "Evaluation at timestep 35017 returned a mean returns of 124.329245203934\n",
      "Epsilon = 0.050000000000000044\n",
      "Replay Buffer count: 6560\n"
     ]
    },
    {
     "output_type": "stream",
     "name": "stderr",
     "text": [
      " 76%|███████▌  | 37917/50000 [13:35<08:54, 22.60it/s]"
     ]
    },
    {
     "output_type": "stream",
     "name": "stdout",
     "text": [
      "Evaluation at timestep 37917 returned a mean returns of 107.97010140360555\n",
      "Epsilon = 0.050000000000000044\n",
      "Replay Buffer count: 6725\n"
     ]
    },
    {
     "output_type": "stream",
     "name": "stderr",
     "text": [
      " 80%|████████  | 40162/50000 [15:13<07:15, 22.58it/s]"
     ]
    },
    {
     "output_type": "stream",
     "name": "stdout",
     "text": [
      "Evaluation at timestep 40162 returned a mean returns of 43.45245807371996\n",
      "Epsilon = 0.050000000000000044\n",
      "Replay Buffer count: 6957\n"
     ]
    },
    {
     "output_type": "stream",
     "name": "stderr",
     "text": [
      " 86%|████████▌ | 42973/50000 [17:24<05:39, 20.67it/s]"
     ]
    },
    {
     "output_type": "stream",
     "name": "stdout",
     "text": [
      "Evaluation at timestep 42973 returned a mean returns of 99.6300001102436\n",
      "Epsilon = 0.050000000000000044\n",
      "Replay Buffer count: 7112\n"
     ]
    },
    {
     "output_type": "stream",
     "name": "stderr",
     "text": [
      " 90%|█████████ | 45125/50000 [19:13<04:22, 18.57it/s]"
     ]
    },
    {
     "output_type": "stream",
     "name": "stdout",
     "text": [
      "Evaluation at timestep 45125 returned a mean returns of 120.54943452370279\n",
      "Epsilon = 0.050000000000000044\n",
      "Replay Buffer count: 7291\n"
     ]
    },
    {
     "output_type": "stream",
     "name": "stderr",
     "text": [
      " 95%|█████████▌| 47618/50000 [21:16<01:52, 21.11it/s]"
     ]
    },
    {
     "output_type": "stream",
     "name": "stdout",
     "text": [
      "Evaluation at timestep 47618 returned a mean returns of 93.82107401080873\n",
      "Epsilon = 0.050000000000000044\n",
      "Replay Buffer count: 7433\n"
     ]
    },
    {
     "output_type": "stream",
     "name": "stderr",
     "text": [
      "50205it [23:36, 35.44it/s]\n",
      "  1%|          | 484/50000 [00:00<00:13, 3808.45it/s]"
     ]
    },
    {
     "output_type": "stream",
     "name": "stdout",
     "text": [
      "Evaluation at timestep 50205 returned a mean returns of 69.57562090381623\n",
      "Epsilon = 0.050000000000000044\n",
      "Replay Buffer count: 7604\n",
      "\n",
      " Run: 2 \n",
      "\n"
     ]
    },
    {
     "output_type": "stream",
     "name": "stderr",
     "text": [
      "  5%|▌         | 2710/50000 [00:03<02:29, 317.36it/s] "
     ]
    },
    {
     "output_type": "stream",
     "name": "stdout",
     "text": [
      "Evaluation at timestep 2560 returned a mean returns of -231.281429335382\n",
      "Epsilon = 0.8435033333333333\n",
      "Replay Buffer count: 827\n"
     ]
    },
    {
     "output_type": "stream",
     "name": "stderr",
     "text": [
      " 10%|█         | 5082/50000 [00:12<01:34, 477.66it/s]"
     ]
    },
    {
     "output_type": "stream",
     "name": "stdout",
     "text": [
      "Evaluation at timestep 5082 returned a mean returns of -82.41309810085572\n",
      "Epsilon = 0.6884633333333333\n",
      "Replay Buffer count: 1600\n"
     ]
    },
    {
     "output_type": "stream",
     "name": "stderr",
     "text": [
      " 15%|█▌        | 7538/50000 [00:25<02:40, 264.69it/s]"
     ]
    },
    {
     "output_type": "stream",
     "name": "stdout",
     "text": [
      "Evaluation at timestep 7538 returned a mean returns of -170.105379813353\n",
      "Epsilon = 0.53127\n",
      "Replay Buffer count: 2251\n"
     ]
    },
    {
     "output_type": "stream",
     "name": "stderr",
     "text": [
      " 20%|██        | 10044/50000 [00:47<04:45, 139.77it/s]"
     ]
    },
    {
     "output_type": "stream",
     "name": "stdout",
     "text": [
      "Evaluation at timestep 10044 returned a mean returns of -16.179471683853325\n",
      "Epsilon = 0.3764833333333334\n",
      "Replay Buffer count: 2852\n"
     ]
    },
    {
     "output_type": "stream",
     "name": "stderr",
     "text": [
      " 25%|██▌       | 12653/50000 [01:17<06:45, 92.11it/s]"
     ]
    },
    {
     "output_type": "stream",
     "name": "stdout",
     "text": [
      "Evaluation at timestep 12653 returned a mean returns of -49.68762489400869\n",
      "Epsilon = 0.23031000000000001\n",
      "Replay Buffer count: 3360\n"
     ]
    },
    {
     "output_type": "stream",
     "name": "stderr",
     "text": [
      " 31%|███       | 15396/50000 [01:55<07:55, 72.70it/s]"
     ]
    },
    {
     "output_type": "stream",
     "name": "stdout",
     "text": [
      "Evaluation at timestep 15396 returned a mean returns of 15.415807964112183\n",
      "Epsilon = 0.056586666666666674\n",
      "Replay Buffer count: 3737\n"
     ]
    },
    {
     "output_type": "stream",
     "name": "stderr",
     "text": [
      " 35%|███▌      | 17570/50000 [02:26<07:35, 71.19it/s]"
     ]
    },
    {
     "output_type": "stream",
     "name": "stdout",
     "text": [
      "Evaluation at timestep 17570 returned a mean returns of -9.771878200811798\n",
      "Epsilon = 0.050000000000000044\n",
      "Replay Buffer count: 4197\n"
     ]
    },
    {
     "output_type": "stream",
     "name": "stderr",
     "text": [
      " 40%|████      | 20012/50000 [03:17<10:10, 49.15it/s]"
     ]
    },
    {
     "output_type": "stream",
     "name": "stdout",
     "text": [
      "Evaluation at timestep 20012 returned a mean returns of 28.2315562387093\n",
      "Epsilon = 0.050000000000000044\n",
      "Replay Buffer count: 4640\n"
     ]
    },
    {
     "output_type": "stream",
     "name": "stderr",
     "text": [
      " 45%|████▌     | 22658/50000 [04:17<11:27, 39.76it/s]"
     ]
    },
    {
     "output_type": "stream",
     "name": "stdout",
     "text": [
      "Evaluation at timestep 22658 returned a mean returns of -96.08029106938332\n",
      "Epsilon = 0.050000000000000044\n",
      "Replay Buffer count: 5111\n"
     ]
    },
    {
     "output_type": "stream",
     "name": "stderr",
     "text": [
      " 50%|█████     | 25086/50000 [05:20<11:07, 37.30it/s]"
     ]
    },
    {
     "output_type": "stream",
     "name": "stdout",
     "text": [
      "Evaluation at timestep 25086 returned a mean returns of 43.31850837349885\n",
      "Epsilon = 0.050000000000000044\n",
      "Replay Buffer count: 5404\n"
     ]
    },
    {
     "output_type": "stream",
     "name": "stderr",
     "text": [
      " 55%|█████▌    | 27609/50000 [06:37<12:09, 30.70it/s]"
     ]
    },
    {
     "output_type": "stream",
     "name": "stdout",
     "text": [
      "Evaluation at timestep 27609 returned a mean returns of 71.82604072338914\n",
      "Epsilon = 0.050000000000000044\n",
      "Replay Buffer count: 5763\n"
     ]
    },
    {
     "output_type": "stream",
     "name": "stderr",
     "text": [
      " 60%|██████    | 30009/50000 [07:57<12:03, 27.65it/s]"
     ]
    },
    {
     "output_type": "stream",
     "name": "stdout",
     "text": [
      "Evaluation at timestep 30009 returned a mean returns of 36.67991317988685\n",
      "Epsilon = 0.050000000000000044\n",
      "Replay Buffer count: 6059\n"
     ]
    },
    {
     "output_type": "stream",
     "name": "stderr",
     "text": [
      " 66%|██████▌   | 32951/50000 [09:37<09:28, 30.01it/s]"
     ]
    },
    {
     "output_type": "stream",
     "name": "stdout",
     "text": [
      "Evaluation at timestep 32951 returned a mean returns of 139.60819654923444\n",
      "Epsilon = 0.050000000000000044\n",
      "Replay Buffer count: 6326\n"
     ]
    },
    {
     "output_type": "stream",
     "name": "stderr",
     "text": [
      " 70%|███████   | 35077/50000 [11:01<09:46, 25.44it/s]"
     ]
    },
    {
     "output_type": "stream",
     "name": "stdout",
     "text": [
      "Evaluation at timestep 35077 returned a mean returns of 34.02372335566116\n",
      "Epsilon = 0.050000000000000044\n",
      "Replay Buffer count: 6445\n"
     ]
    },
    {
     "output_type": "stream",
     "name": "stderr",
     "text": [
      " 75%|███████▌  | 37582/50000 [12:38<07:34, 27.30it/s]"
     ]
    },
    {
     "output_type": "stream",
     "name": "stdout",
     "text": [
      "Evaluation at timestep 37582 returned a mean returns of 64.55347101521258\n",
      "Epsilon = 0.050000000000000044\n",
      "Replay Buffer count: 6705\n"
     ]
    },
    {
     "output_type": "stream",
     "name": "stderr",
     "text": [
      " 80%|████████  | 40161/50000 [14:29<06:07, 26.77it/s]"
     ]
    },
    {
     "output_type": "stream",
     "name": "stdout",
     "text": [
      "Evaluation at timestep 40161 returned a mean returns of 105.09240377266235\n",
      "Epsilon = 0.050000000000000044\n",
      "Replay Buffer count: 6944\n"
     ]
    },
    {
     "output_type": "stream",
     "name": "stderr",
     "text": [
      " 85%|████████▌ | 42536/50000 [16:21<05:21, 23.22it/s]"
     ]
    },
    {
     "output_type": "stream",
     "name": "stdout",
     "text": [
      "Evaluation at timestep 42536 returned a mean returns of 108.30373670162595\n",
      "Epsilon = 0.050000000000000044\n",
      "Replay Buffer count: 7124\n"
     ]
    },
    {
     "output_type": "stream",
     "name": "stderr",
     "text": [
      " 90%|█████████ | 45049/50000 [18:24<03:56, 20.92it/s]"
     ]
    },
    {
     "output_type": "stream",
     "name": "stdout",
     "text": [
      "Evaluation at timestep 45049 returned a mean returns of 43.32838866324019\n",
      "Epsilon = 0.050000000000000044\n",
      "Replay Buffer count: 7271\n"
     ]
    },
    {
     "output_type": "stream",
     "name": "stderr",
     "text": [
      " 95%|█████████▌| 47693/50000 [20:34<01:48, 21.32it/s]"
     ]
    },
    {
     "output_type": "stream",
     "name": "stdout",
     "text": [
      "Evaluation at timestep 47693 returned a mean returns of 99.9714670648718\n",
      "Epsilon = 0.050000000000000044\n",
      "Replay Buffer count: 7450\n"
     ]
    },
    {
     "output_type": "stream",
     "name": "stderr",
     "text": [
      "50196it [22:50, 36.63it/s]\n",
      "  1%|          | 441/50000 [00:00<00:14, 3316.73it/s]"
     ]
    },
    {
     "output_type": "stream",
     "name": "stdout",
     "text": [
      "Evaluation at timestep 50196 returned a mean returns of 114.97046178606358\n",
      "Epsilon = 0.050000000000000044\n",
      "Replay Buffer count: 7614\n",
      "\n",
      " Run: 3 \n",
      "\n"
     ]
    },
    {
     "output_type": "stream",
     "name": "stderr",
     "text": [
      "  5%|▌         | 2598/50000 [00:05<00:32, 1436.82it/s]"
     ]
    },
    {
     "output_type": "stream",
     "name": "stdout",
     "text": [
      "Evaluation at timestep 2598 returned a mean returns of -82.33375941443225\n",
      "Epsilon = 0.8435666666666667\n",
      "Replay Buffer count: 882\n"
     ]
    },
    {
     "output_type": "stream",
     "name": "stderr",
     "text": [
      " 10%|█         | 5050/50000 [00:14<01:40, 448.29it/s]"
     ]
    },
    {
     "output_type": "stream",
     "name": "stdout",
     "text": [
      "Evaluation at timestep 5050 returned a mean returns of -60.756635995761144\n",
      "Epsilon = 0.68764\n",
      "Replay Buffer count: 1523\n"
     ]
    },
    {
     "output_type": "stream",
     "name": "stderr",
     "text": [
      " 15%|█▌        | 7554/50000 [00:29<03:06, 227.51it/s]"
     ]
    },
    {
     "output_type": "stream",
     "name": "stdout",
     "text": [
      "Evaluation at timestep 7554 returned a mean returns of -38.17886477617883\n",
      "Epsilon = 0.5274066666666667\n",
      "Replay Buffer count: 2124\n"
     ]
    },
    {
     "output_type": "stream",
     "name": "stderr",
     "text": [
      " 20%|██        | 10026/50000 [00:50<04:26, 150.19it/s]"
     ]
    },
    {
     "output_type": "stream",
     "name": "stdout",
     "text": [
      "Evaluation at timestep 10026 returned a mean returns of -16.937185600573397\n",
      "Epsilon = 0.39668666666666674\n",
      "Replay Buffer count: 2740\n"
     ]
    },
    {
     "output_type": "stream",
     "name": "stderr",
     "text": [
      " 26%|██▌       | 12884/50000 [01:19<05:59, 103.38it/s]"
     ]
    },
    {
     "output_type": "stream",
     "name": "stdout",
     "text": [
      "Evaluation at timestep 12884 returned a mean returns of -114.3506557783199\n",
      "Epsilon = 0.21567999999999998\n",
      "Replay Buffer count: 3411\n"
     ]
    },
    {
     "output_type": "stream",
     "name": "stderr",
     "text": [
      " 30%|███       | 15148/50000 [01:55<07:54, 73.40it/s]"
     ]
    },
    {
     "output_type": "stream",
     "name": "stdout",
     "text": [
      "Evaluation at timestep 15148 returned a mean returns of -91.11502724308882\n",
      "Epsilon = 0.05734666666666677\n",
      "Replay Buffer count: 3781\n"
     ]
    },
    {
     "output_type": "stream",
     "name": "stderr",
     "text": [
      " 35%|███▌      | 17582/50000 [02:37<08:31, 63.40it/s]"
     ]
    },
    {
     "output_type": "stream",
     "name": "stdout",
     "text": [
      "Evaluation at timestep 17582 returned a mean returns of 11.739509275663533\n",
      "Epsilon = 0.050000000000000044\n",
      "Replay Buffer count: 4137\n"
     ]
    },
    {
     "output_type": "stream",
     "name": "stderr",
     "text": [
      " 40%|████      | 20117/50000 [03:27<09:56, 50.12it/s]"
     ]
    },
    {
     "output_type": "stream",
     "name": "stdout",
     "text": [
      "Evaluation at timestep 20117 returned a mean returns of -82.20555866468065\n",
      "Epsilon = 0.050000000000000044\n",
      "Replay Buffer count: 4606\n"
     ]
    },
    {
     "output_type": "stream",
     "name": "stderr",
     "text": [
      " 46%|████▌     | 22957/50000 [04:31<11:04, 40.70it/s]"
     ]
    },
    {
     "output_type": "stream",
     "name": "stdout",
     "text": [
      "Evaluation at timestep 22957 returned a mean returns of -92.72294435408787\n",
      "Epsilon = 0.050000000000000044\n",
      "Replay Buffer count: 5100\n"
     ]
    },
    {
     "output_type": "stream",
     "name": "stderr",
     "text": [
      " 50%|█████     | 25199/50000 [05:34<10:58, 37.67it/s]"
     ]
    },
    {
     "output_type": "stream",
     "name": "stdout",
     "text": [
      "Evaluation at timestep 25199 returned a mean returns of 131.1760892818691\n",
      "Epsilon = 0.050000000000000044\n",
      "Replay Buffer count: 5465\n"
     ]
    },
    {
     "output_type": "stream",
     "name": "stderr",
     "text": [
      " 55%|█████▌    | 27689/50000 [06:53<11:56, 31.12it/s]"
     ]
    },
    {
     "output_type": "stream",
     "name": "stdout",
     "text": [
      "Evaluation at timestep 27689 returned a mean returns of 66.00967625653291\n",
      "Epsilon = 0.050000000000000044\n",
      "Replay Buffer count: 5729\n"
     ]
    },
    {
     "output_type": "stream",
     "name": "stderr",
     "text": [
      " 60%|██████    | 30031/50000 [08:07<09:57, 33.43it/s]"
     ]
    },
    {
     "output_type": "stream",
     "name": "stdout",
     "text": [
      "Evaluation at timestep 30031 returned a mean returns of 173.19114903243525\n",
      "Epsilon = 0.050000000000000044\n",
      "Replay Buffer count: 5951\n"
     ]
    },
    {
     "output_type": "stream",
     "name": "stderr",
     "text": [
      " 65%|██████▌   | 32626/50000 [09:43<09:37, 30.06it/s]"
     ]
    },
    {
     "output_type": "stream",
     "name": "stdout",
     "text": [
      "Evaluation at timestep 32626 returned a mean returns of 117.19075710291543\n",
      "Epsilon = 0.050000000000000044\n",
      "Replay Buffer count: 6220\n"
     ]
    },
    {
     "output_type": "stream",
     "name": "stderr",
     "text": [
      " 71%|███████   | 35290/50000 [11:30<09:47, 25.03it/s]"
     ]
    },
    {
     "output_type": "stream",
     "name": "stdout",
     "text": [
      "Evaluation at timestep 35290 returned a mean returns of 206.51400071234116\n",
      "Epsilon = 0.050000000000000044\n",
      "Replay Buffer count: 6456\n"
     ]
    },
    {
     "output_type": "stream",
     "name": "stderr",
     "text": [
      " 75%|███████▌  | 37520/50000 [13:01<08:29, 24.50it/s]"
     ]
    },
    {
     "output_type": "stream",
     "name": "stdout",
     "text": [
      "Evaluation at timestep 37520 returned a mean returns of 81.2062366814063\n",
      "Epsilon = 0.050000000000000044\n",
      "Replay Buffer count: 6687\n"
     ]
    },
    {
     "output_type": "stream",
     "name": "stderr",
     "text": [
      " 80%|████████  | 40079/50000 [14:44<06:13, 26.59it/s]"
     ]
    },
    {
     "output_type": "stream",
     "name": "stdout",
     "text": [
      "Evaluation at timestep 40079 returned a mean returns of 197.15637857938825\n",
      "Epsilon = 0.050000000000000044\n",
      "Replay Buffer count: 6840\n"
     ]
    },
    {
     "output_type": "stream",
     "name": "stderr",
     "text": [
      " 86%|████████▌ | 42773/50000 [16:49<05:33, 21.67it/s]"
     ]
    },
    {
     "output_type": "stream",
     "name": "stdout",
     "text": [
      "Evaluation at timestep 42773 returned a mean returns of 197.40543333952235\n",
      "Epsilon = 0.050000000000000044\n",
      "Replay Buffer count: 7036\n"
     ]
    },
    {
     "output_type": "stream",
     "name": "stderr",
     "text": [
      " 91%|█████████ | 45360/50000 [18:51<03:41, 20.99it/s]"
     ]
    },
    {
     "output_type": "stream",
     "name": "stdout",
     "text": [
      "Evaluation at timestep 45360 returned a mean returns of 48.25475790194096\n",
      "Epsilon = 0.050000000000000044\n",
      "Replay Buffer count: 7205\n"
     ]
    },
    {
     "output_type": "stream",
     "name": "stderr",
     "text": [
      " 95%|█████████▌| 47543/50000 [20:40<02:05, 19.64it/s]"
     ]
    },
    {
     "output_type": "stream",
     "name": "stdout",
     "text": [
      "Evaluation at timestep 47543 returned a mean returns of 66.23299224127469\n",
      "Epsilon = 0.050000000000000044\n",
      "Replay Buffer count: 7456\n"
     ]
    },
    {
     "output_type": "stream",
     "name": "stderr",
     "text": [
      "50225it [23:01, 36.35it/s]\n",
      "  1%|          | 422/50000 [00:00<00:12, 3950.24it/s]"
     ]
    },
    {
     "output_type": "stream",
     "name": "stdout",
     "text": [
      "Evaluation at timestep 50225 returned a mean returns of 111.82409057615793\n",
      "Epsilon = 0.050000000000000044\n",
      "Replay Buffer count: 7610\n",
      "\n",
      " Run: 4 \n",
      "\n"
     ]
    },
    {
     "output_type": "stream",
     "name": "stderr",
     "text": [
      "  5%|▌         | 2623/50000 [00:04<03:52, 204.06it/s] "
     ]
    },
    {
     "output_type": "stream",
     "name": "stdout",
     "text": [
      "Evaluation at timestep 2519 returned a mean returns of -110.24880009277015\n",
      "Epsilon = 0.8455933333333333\n",
      "Replay Buffer count: 878\n"
     ]
    },
    {
     "output_type": "stream",
     "name": "stderr",
     "text": [
      " 10%|█         | 5091/50000 [00:10<01:40, 447.27it/s]"
     ]
    },
    {
     "output_type": "stream",
     "name": "stdout",
     "text": [
      "Evaluation at timestep 5091 returned a mean returns of -115.12903456696196\n",
      "Epsilon = 0.6837133333333334\n",
      "Replay Buffer count: 1625\n"
     ]
    },
    {
     "output_type": "stream",
     "name": "stderr",
     "text": [
      " 15%|█▌        | 7593/50000 [00:26<03:15, 216.84it/s]"
     ]
    },
    {
     "output_type": "stream",
     "name": "stdout",
     "text": [
      "Evaluation at timestep 7593 returned a mean returns of -43.59637790002252\n",
      "Epsilon = 0.52633\n",
      "Replay Buffer count: 2292\n"
     ]
    },
    {
     "output_type": "stream",
     "name": "stderr",
     "text": [
      " 20%|██        | 10238/50000 [00:47<05:00, 132.29it/s]"
     ]
    },
    {
     "output_type": "stream",
     "name": "stdout",
     "text": [
      "Evaluation at timestep 10238 returned a mean returns of -104.43534039529113\n",
      "Epsilon = 0.38326000000000005\n",
      "Replay Buffer count: 2973\n"
     ]
    },
    {
     "output_type": "stream",
     "name": "stderr",
     "text": [
      " 26%|██▌       | 12766/50000 [01:19<07:25, 83.58it/s]"
     ]
    },
    {
     "output_type": "stream",
     "name": "stdout",
     "text": [
      "Evaluation at timestep 12766 returned a mean returns of -54.68576911610143\n",
      "Epsilon = 0.22315333333333343\n",
      "Replay Buffer count: 3504\n"
     ]
    },
    {
     "output_type": "stream",
     "name": "stderr",
     "text": [
      " 30%|███       | 15043/50000 [01:52<07:44, 75.20it/s]"
     ]
    },
    {
     "output_type": "stream",
     "name": "stdout",
     "text": [
      "Evaluation at timestep 15043 returned a mean returns of -51.566024237995094\n",
      "Epsilon = 0.06444000000000005\n",
      "Replay Buffer count: 3931\n"
     ]
    },
    {
     "output_type": "stream",
     "name": "stderr",
     "text": [
      " 35%|███▌      | 17579/50000 [02:37<09:50, 54.90it/s]"
     ]
    },
    {
     "output_type": "stream",
     "name": "stdout",
     "text": [
      "Evaluation at timestep 17579 returned a mean returns of -179.09281880875108\n",
      "Epsilon = 0.050000000000000044\n",
      "Replay Buffer count: 4459\n"
     ]
    },
    {
     "output_type": "stream",
     "name": "stderr",
     "text": [
      " 40%|████      | 20062/50000 [03:32<09:30, 52.46it/s]"
     ]
    },
    {
     "output_type": "stream",
     "name": "stdout",
     "text": [
      "Evaluation at timestep 20062 returned a mean returns of -1.1443313559136232\n",
      "Epsilon = 0.050000000000000044\n",
      "Replay Buffer count: 4864\n"
     ]
    },
    {
     "output_type": "stream",
     "name": "stderr",
     "text": [
      " 45%|████▌     | 22601/50000 [04:39<11:07, 41.07it/s]"
     ]
    },
    {
     "output_type": "stream",
     "name": "stdout",
     "text": [
      "Evaluation at timestep 22601 returned a mean returns of 73.39382713179396\n",
      "Epsilon = 0.050000000000000044\n",
      "Replay Buffer count: 5224\n"
     ]
    },
    {
     "output_type": "stream",
     "name": "stderr",
     "text": [
      " 50%|█████     | 25158/50000 [05:52<12:16, 33.75it/s]"
     ]
    },
    {
     "output_type": "stream",
     "name": "stdout",
     "text": [
      "Evaluation at timestep 25158 returned a mean returns of -106.22131750558054\n",
      "Epsilon = 0.050000000000000044\n",
      "Replay Buffer count: 5570\n"
     ]
    },
    {
     "output_type": "stream",
     "name": "stderr",
     "text": [
      " 55%|█████▌    | 27555/50000 [07:06<11:21, 32.91it/s]"
     ]
    },
    {
     "output_type": "stream",
     "name": "stdout",
     "text": [
      "Evaluation at timestep 27555 returned a mean returns of -37.111505916785994\n",
      "Epsilon = 0.050000000000000044\n",
      "Replay Buffer count: 5799\n"
     ]
    },
    {
     "output_type": "stream",
     "name": "stderr",
     "text": [
      " 60%|██████    | 30041/50000 [08:28<10:20, 32.14it/s]"
     ]
    },
    {
     "output_type": "stream",
     "name": "stdout",
     "text": [
      "Evaluation at timestep 30041 returned a mean returns of 104.64880733747937\n",
      "Epsilon = 0.050000000000000044\n",
      "Replay Buffer count: 6068\n"
     ]
    },
    {
     "output_type": "stream",
     "name": "stderr",
     "text": [
      " 65%|██████▌   | 32737/50000 [10:11<10:46, 26.70it/s]"
     ]
    },
    {
     "output_type": "stream",
     "name": "stdout",
     "text": [
      "Evaluation at timestep 32737 returned a mean returns of 234.2724969713907\n",
      "Epsilon = 0.050000000000000044\n",
      "Replay Buffer count: 6312\n"
     ]
    },
    {
     "output_type": "stream",
     "name": "stderr",
     "text": [
      " 70%|███████   | 35011/50000 [11:40<09:14, 27.04it/s]"
     ]
    },
    {
     "output_type": "stream",
     "name": "stdout",
     "text": [
      "Evaluation at timestep 35011 returned a mean returns of 120.91047004665462\n",
      "Epsilon = 0.050000000000000044\n",
      "Replay Buffer count: 6459\n"
     ]
    },
    {
     "output_type": "stream",
     "name": "stderr",
     "text": [
      " 76%|███████▌  | 37791/50000 [13:36<08:08, 24.99it/s]"
     ]
    },
    {
     "output_type": "stream",
     "name": "stdout",
     "text": [
      "Evaluation at timestep 37791 returned a mean returns of 198.72445772368803\n",
      "Epsilon = 0.050000000000000044\n",
      "Replay Buffer count: 6667\n"
     ]
    },
    {
     "output_type": "stream",
     "name": "stderr",
     "text": [
      " 81%|████████  | 40412/50000 [15:30<06:34, 24.33it/s]"
     ]
    },
    {
     "output_type": "stream",
     "name": "stdout",
     "text": [
      "Evaluation at timestep 40412 returned a mean returns of 201.74032198383057\n",
      "Epsilon = 0.050000000000000044\n",
      "Replay Buffer count: 6821\n"
     ]
    },
    {
     "output_type": "stream",
     "name": "stderr",
     "text": [
      " 86%|████████▌ | 42806/50000 [17:20<05:18, 22.62it/s]"
     ]
    },
    {
     "output_type": "stream",
     "name": "stdout",
     "text": [
      "Evaluation at timestep 42806 returned a mean returns of 171.6733074138637\n",
      "Epsilon = 0.050000000000000044\n",
      "Replay Buffer count: 6935\n"
     ]
    },
    {
     "output_type": "stream",
     "name": "stderr",
     "text": [
      " 90%|█████████ | 45168/50000 [19:14<03:48, 21.13it/s]"
     ]
    },
    {
     "output_type": "stream",
     "name": "stdout",
     "text": [
      "Evaluation at timestep 45168 returned a mean returns of 88.4292590257491\n",
      "Epsilon = 0.050000000000000044\n",
      "Replay Buffer count: 7103\n"
     ]
    },
    {
     "output_type": "stream",
     "name": "stderr",
     "text": [
      " 96%|█████████▌| 47842/50000 [21:23<01:37, 22.07it/s]"
     ]
    },
    {
     "output_type": "stream",
     "name": "stdout",
     "text": [
      "Evaluation at timestep 47842 returned a mean returns of 189.83148328003347\n",
      "Epsilon = 0.050000000000000044\n",
      "Replay Buffer count: 7210\n"
     ]
    },
    {
     "output_type": "stream",
     "name": "stderr",
     "text": [
      "50009it [23:14, 35.85it/s]\n",
      "  1%|          | 446/50000 [00:00<00:13, 3810.68it/s]"
     ]
    },
    {
     "output_type": "stream",
     "name": "stdout",
     "text": [
      "Evaluation at timestep 50009 returned a mean returns of 197.24330903749143\n",
      "Epsilon = 0.050000000000000044\n",
      "Replay Buffer count: 7375\n",
      "\n",
      " Run: 5 \n",
      "\n"
     ]
    },
    {
     "output_type": "stream",
     "name": "stderr",
     "text": [
      "  5%|▌         | 2685/50000 [00:05<04:49, 163.40it/s] "
     ]
    },
    {
     "output_type": "stream",
     "name": "stdout",
     "text": [
      "Evaluation at timestep 2585 returned a mean returns of -69.8443294853237\n",
      "Epsilon = 0.8450866666666667\n",
      "Replay Buffer count: 910\n"
     ]
    },
    {
     "output_type": "stream",
     "name": "stderr",
     "text": [
      " 10%|█         | 5077/50000 [00:15<01:38, 456.17it/s]"
     ]
    },
    {
     "output_type": "stream",
     "name": "stdout",
     "text": [
      "Evaluation at timestep 5077 returned a mean returns of -45.11795628345868\n",
      "Epsilon = 0.6913766666666666\n",
      "Replay Buffer count: 1640\n"
     ]
    },
    {
     "output_type": "stream",
     "name": "stderr",
     "text": [
      " 15%|█▌        | 7527/50000 [00:31<03:09, 223.79it/s]"
     ]
    },
    {
     "output_type": "stream",
     "name": "stdout",
     "text": [
      "Evaluation at timestep 7527 returned a mean returns of -49.87865368685157\n",
      "Epsilon = 0.5294966666666667\n",
      "Replay Buffer count: 2316\n"
     ]
    },
    {
     "output_type": "stream",
     "name": "stderr",
     "text": [
      " 20%|██        | 10011/50000 [00:54<05:05, 130.93it/s]"
     ]
    },
    {
     "output_type": "stream",
     "name": "stdout",
     "text": [
      "Evaluation at timestep 10011 returned a mean returns of -105.03263420429064\n",
      "Epsilon = 0.3943433333333334\n",
      "Replay Buffer count: 2837\n"
     ]
    },
    {
     "output_type": "stream",
     "name": "stderr",
     "text": [
      " 25%|██▌       | 12653/50000 [01:24<06:00, 103.64it/s]"
     ]
    },
    {
     "output_type": "stream",
     "name": "stdout",
     "text": [
      "Evaluation at timestep 12653 returned a mean returns of 18.919203619632125\n",
      "Epsilon = 0.23031000000000001\n",
      "Replay Buffer count: 3199\n"
     ]
    },
    {
     "output_type": "stream",
     "name": "stderr",
     "text": [
      " 31%|███       | 15333/50000 [01:59<07:01, 82.31it/s]"
     ]
    },
    {
     "output_type": "stream",
     "name": "stdout",
     "text": [
      "Evaluation at timestep 15333 returned a mean returns of -146.06937533393634\n",
      "Epsilon = 0.06057666666666672\n",
      "Replay Buffer count: 3677\n"
     ]
    },
    {
     "output_type": "stream",
     "name": "stderr",
     "text": [
      " 35%|███▌      | 17671/50000 [02:37<07:45, 69.48it/s]"
     ]
    },
    {
     "output_type": "stream",
     "name": "stdout",
     "text": [
      "Evaluation at timestep 17671 returned a mean returns of -15.011577934379291\n",
      "Epsilon = 0.050000000000000044\n",
      "Replay Buffer count: 4114\n"
     ]
    },
    {
     "output_type": "stream",
     "name": "stderr",
     "text": [
      " 40%|████      | 20246/50000 [03:27<09:14, 53.63it/s]"
     ]
    },
    {
     "output_type": "stream",
     "name": "stdout",
     "text": [
      "Evaluation at timestep 20246 returned a mean returns of 31.04312128158475\n",
      "Epsilon = 0.050000000000000044\n",
      "Replay Buffer count: 4532\n"
     ]
    },
    {
     "output_type": "stream",
     "name": "stderr",
     "text": [
      " 45%|████▌     | 22631/50000 [04:19<09:49, 46.41it/s]"
     ]
    },
    {
     "output_type": "stream",
     "name": "stdout",
     "text": [
      "Evaluation at timestep 22631 returned a mean returns of -70.43086490178962\n",
      "Epsilon = 0.050000000000000044\n",
      "Replay Buffer count: 4881\n"
     ]
    },
    {
     "output_type": "stream",
     "name": "stderr",
     "text": [
      " 50%|█████     | 25017/50000 [05:18<09:56, 41.88it/s]"
     ]
    },
    {
     "output_type": "stream",
     "name": "stdout",
     "text": [
      "Evaluation at timestep 25017 returned a mean returns of -5.4582755714093665\n",
      "Epsilon = 0.050000000000000044\n",
      "Replay Buffer count: 5290\n"
     ]
    },
    {
     "output_type": "stream",
     "name": "stderr",
     "text": [
      " 55%|█████▌    | 27620/50000 [06:32<11:13, 33.22it/s]"
     ]
    },
    {
     "output_type": "stream",
     "name": "stdout",
     "text": [
      "Evaluation at timestep 27620 returned a mean returns of -17.016980032117544\n",
      "Epsilon = 0.050000000000000044\n",
      "Replay Buffer count: 5599\n"
     ]
    },
    {
     "output_type": "stream",
     "name": "stderr",
     "text": [
      " 60%|██████    | 30177/50000 [07:55<11:25, 28.91it/s]"
     ]
    },
    {
     "output_type": "stream",
     "name": "stdout",
     "text": [
      "Evaluation at timestep 30177 returned a mean returns of 3.3210427347059706\n",
      "Epsilon = 0.050000000000000044\n",
      "Replay Buffer count: 5875\n"
     ]
    },
    {
     "output_type": "stream",
     "name": "stderr",
     "text": [
      " 65%|██████▌   | 32548/50000 [09:18<11:08, 26.10it/s]"
     ]
    },
    {
     "output_type": "stream",
     "name": "stdout",
     "text": [
      "Evaluation at timestep 32548 returned a mean returns of 11.14487671316027\n",
      "Epsilon = 0.050000000000000044\n",
      "Replay Buffer count: 6231\n"
     ]
    },
    {
     "output_type": "stream",
     "name": "stderr",
     "text": [
      " 70%|███████   | 35161/50000 [11:01<10:32, 23.46it/s]"
     ]
    },
    {
     "output_type": "stream",
     "name": "stdout",
     "text": [
      "Evaluation at timestep 35161 returned a mean returns of 155.6624521505724\n",
      "Epsilon = 0.050000000000000044\n",
      "Replay Buffer count: 6492\n"
     ]
    },
    {
     "output_type": "stream",
     "name": "stderr",
     "text": [
      " 76%|███████▌  | 37801/50000 [12:48<08:16, 24.59it/s]"
     ]
    },
    {
     "output_type": "stream",
     "name": "stdout",
     "text": [
      "Evaluation at timestep 37801 returned a mean returns of 9.29756123694623\n",
      "Epsilon = 0.050000000000000044\n",
      "Replay Buffer count: 6688\n"
     ]
    },
    {
     "output_type": "stream",
     "name": "stderr",
     "text": [
      " 80%|████████  | 40119/50000 [14:23<06:32, 25.16it/s]"
     ]
    },
    {
     "output_type": "stream",
     "name": "stdout",
     "text": [
      "Evaluation at timestep 40119 returned a mean returns of 88.15519040594958\n",
      "Epsilon = 0.050000000000000044\n",
      "Replay Buffer count: 6836\n"
     ]
    },
    {
     "output_type": "stream",
     "name": "stderr",
     "text": [
      " 86%|████████▌ | 42824/50000 [16:29<05:21, 22.29it/s]"
     ]
    },
    {
     "output_type": "stream",
     "name": "stdout",
     "text": [
      "Evaluation at timestep 42824 returned a mean returns of 86.39328828981847\n",
      "Epsilon = 0.050000000000000044\n",
      "Replay Buffer count: 7075\n"
     ]
    },
    {
     "output_type": "stream",
     "name": "stderr",
     "text": [
      " 90%|█████████ | 45184/50000 [18:24<04:01, 19.96it/s]"
     ]
    },
    {
     "output_type": "stream",
     "name": "stdout",
     "text": [
      "Evaluation at timestep 45184 returned a mean returns of 57.84928112032657\n",
      "Epsilon = 0.050000000000000044\n",
      "Replay Buffer count: 7210\n"
     ]
    },
    {
     "output_type": "stream",
     "name": "stderr",
     "text": [
      " 95%|█████████▌| 47522/50000 [20:12<01:45, 23.49it/s]"
     ]
    },
    {
     "output_type": "stream",
     "name": "stdout",
     "text": [
      "Evaluation at timestep 47522 returned a mean returns of 48.28409746426006\n",
      "Epsilon = 0.050000000000000044\n",
      "Replay Buffer count: 7313\n"
     ]
    },
    {
     "output_type": "stream",
     "name": "stderr",
     "text": [
      "50329it [22:34, 37.16it/s]\n",
      "  1%|          | 408/50000 [00:00<00:12, 4017.71it/s]"
     ]
    },
    {
     "output_type": "stream",
     "name": "stdout",
     "text": [
      "Evaluation at timestep 50329 returned a mean returns of 160.53561662257192\n",
      "Epsilon = 0.050000000000000044\n",
      "Replay Buffer count: 7434\n",
      "\n",
      " Run: 6 \n",
      "\n"
     ]
    },
    {
     "output_type": "stream",
     "name": "stderr",
     "text": [
      "  5%|▌         | 2617/50000 [00:05<05:13, 151.05it/s] "
     ]
    },
    {
     "output_type": "stream",
     "name": "stdout",
     "text": [
      "Evaluation at timestep 2517 returned a mean returns of -128.35804614654634\n",
      "Epsilon = 0.8467966666666666\n",
      "Replay Buffer count: 876\n"
     ]
    },
    {
     "output_type": "stream",
     "name": "stderr",
     "text": [
      " 10%|█         | 5111/50000 [00:15<01:44, 429.84it/s]"
     ]
    },
    {
     "output_type": "stream",
     "name": "stdout",
     "text": [
      "Evaluation at timestep 5111 returned a mean returns of -66.47372399773676\n",
      "Epsilon = 0.6850433333333333\n",
      "Replay Buffer count: 1590\n"
     ]
    },
    {
     "output_type": "stream",
     "name": "stderr",
     "text": [
      " 15%|█▌        | 7610/50000 [00:30<03:08, 224.29it/s]"
     ]
    },
    {
     "output_type": "stream",
     "name": "stdout",
     "text": [
      "Evaluation at timestep 7610 returned a mean returns of -34.13059640779092\n",
      "Epsilon = 0.52633\n",
      "Replay Buffer count: 2269\n"
     ]
    },
    {
     "output_type": "stream",
     "name": "stderr",
     "text": [
      " 20%|██        | 10085/50000 [00:52<04:38, 143.57it/s]"
     ]
    },
    {
     "output_type": "stream",
     "name": "stdout",
     "text": [
      "Evaluation at timestep 10085 returned a mean returns of -75.68197142101565\n",
      "Epsilon = 0.39295\n",
      "Replay Buffer count: 2834\n"
     ]
    },
    {
     "output_type": "stream",
     "name": "stderr",
     "text": [
      " 26%|██▌       | 12829/50000 [01:25<06:25, 96.36it/s]"
     ]
    },
    {
     "output_type": "stream",
     "name": "stdout",
     "text": [
      "Evaluation at timestep 12829 returned a mean returns of -21.114674256147623\n",
      "Epsilon = 0.21916333333333338\n",
      "Replay Buffer count: 3383\n"
     ]
    },
    {
     "output_type": "stream",
     "name": "stderr",
     "text": [
      " 30%|███       | 15111/50000 [01:57<07:20, 79.19it/s]"
     ]
    },
    {
     "output_type": "stream",
     "name": "stdout",
     "text": [
      "Evaluation at timestep 15111 returned a mean returns of -32.59824120118242\n",
      "Epsilon = 0.07203999999999999\n",
      "Replay Buffer count: 3834\n"
     ]
    },
    {
     "output_type": "stream",
     "name": "stderr",
     "text": [
      " 35%|███▌      | 17519/50000 [02:35<07:49, 69.23it/s]"
     ]
    },
    {
     "output_type": "stream",
     "name": "stdout",
     "text": [
      "Evaluation at timestep 17519 returned a mean returns of -53.669737691327725\n",
      "Epsilon = 0.050000000000000044\n",
      "Replay Buffer count: 4246\n"
     ]
    },
    {
     "output_type": "stream",
     "name": "stderr",
     "text": [
      " 40%|████      | 20119/50000 [03:26<09:11, 54.16it/s]"
     ]
    },
    {
     "output_type": "stream",
     "name": "stdout",
     "text": [
      "Evaluation at timestep 20119 returned a mean returns of -175.89386959080534\n",
      "Epsilon = 0.050000000000000044\n",
      "Replay Buffer count: 4816\n"
     ]
    },
    {
     "output_type": "stream",
     "name": "stderr",
     "text": [
      " 45%|████▌     | 22538/50000 [04:26<09:28, 48.29it/s]"
     ]
    },
    {
     "output_type": "stream",
     "name": "stdout",
     "text": [
      "Evaluation at timestep 22538 returned a mean returns of 142.27700837301015\n",
      "Epsilon = 0.050000000000000044\n",
      "Replay Buffer count: 5257\n"
     ]
    },
    {
     "output_type": "stream",
     "name": "stderr",
     "text": [
      " 50%|█████     | 25051/50000 [05:38<11:23, 36.53it/s]"
     ]
    },
    {
     "output_type": "stream",
     "name": "stdout",
     "text": [
      "Evaluation at timestep 25051 returned a mean returns of -29.03797795552841\n",
      "Epsilon = 0.050000000000000044\n",
      "Replay Buffer count: 5586\n"
     ]
    },
    {
     "output_type": "stream",
     "name": "stderr",
     "text": [
      " 55%|█████▌    | 27505/50000 [06:53<10:43, 34.95it/s]"
     ]
    },
    {
     "output_type": "stream",
     "name": "stdout",
     "text": [
      "Evaluation at timestep 27505 returned a mean returns of -25.080869786369284\n",
      "Epsilon = 0.050000000000000044\n",
      "Replay Buffer count: 5886\n"
     ]
    },
    {
     "output_type": "stream",
     "name": "stderr",
     "text": [
      " 60%|██████    | 30011/50000 [08:21<11:58, 27.82it/s]"
     ]
    },
    {
     "output_type": "stream",
     "name": "stdout",
     "text": [
      "Evaluation at timestep 30011 returned a mean returns of -21.299754586086635\n",
      "Epsilon = 0.050000000000000044\n",
      "Replay Buffer count: 6122\n"
     ]
    },
    {
     "output_type": "stream",
     "name": "stderr",
     "text": [
      " 65%|██████▌   | 32617/50000 [09:56<11:01, 26.28it/s]"
     ]
    },
    {
     "output_type": "stream",
     "name": "stdout",
     "text": [
      "Evaluation at timestep 32617 returned a mean returns of 27.509052855525756\n",
      "Epsilon = 0.050000000000000044\n",
      "Replay Buffer count: 6415\n"
     ]
    },
    {
     "output_type": "stream",
     "name": "stderr",
     "text": [
      " 70%|███████   | 35022/50000 [11:36<10:07, 24.66it/s]"
     ]
    },
    {
     "output_type": "stream",
     "name": "stdout",
     "text": [
      "Evaluation at timestep 35022 returned a mean returns of 91.2541354910319\n",
      "Epsilon = 0.050000000000000044\n",
      "Replay Buffer count: 6642\n"
     ]
    },
    {
     "output_type": "stream",
     "name": "stderr",
     "text": [
      " 75%|███████▌  | 37555/50000 [13:29<09:32, 21.75it/s]"
     ]
    },
    {
     "output_type": "stream",
     "name": "stdout",
     "text": [
      "Evaluation at timestep 37555 returned a mean returns of 41.520946695964675\n",
      "Epsilon = 0.050000000000000044\n",
      "Replay Buffer count: 6959\n"
     ]
    },
    {
     "output_type": "stream",
     "name": "stderr",
     "text": [
      " 80%|████████  | 40055/50000 [15:23<07:34, 21.89it/s]"
     ]
    },
    {
     "output_type": "stream",
     "name": "stdout",
     "text": [
      "Evaluation at timestep 40055 returned a mean returns of -21.228049705505576\n",
      "Epsilon = 0.050000000000000044\n",
      "Replay Buffer count: 7287\n"
     ]
    },
    {
     "output_type": "stream",
     "name": "stderr",
     "text": [
      " 85%|████████▌ | 42700/50000 [17:34<05:35, 21.77it/s]"
     ]
    },
    {
     "output_type": "stream",
     "name": "stdout",
     "text": [
      "Evaluation at timestep 42700 returned a mean returns of 47.35062797679147\n",
      "Epsilon = 0.050000000000000044\n",
      "Replay Buffer count: 7482\n"
     ]
    },
    {
     "output_type": "stream",
     "name": "stderr",
     "text": [
      " 90%|█████████ | 45171/50000 [19:52<04:40, 17.20it/s]"
     ]
    },
    {
     "output_type": "stream",
     "name": "stdout",
     "text": [
      "Evaluation at timestep 45171 returned a mean returns of 134.72835768271338\n",
      "Epsilon = 0.050000000000000044\n",
      "Replay Buffer count: 7667\n"
     ]
    },
    {
     "output_type": "stream",
     "name": "stderr",
     "text": [
      " 95%|█████████▌| 47510/50000 [21:54<01:54, 21.82it/s]"
     ]
    },
    {
     "output_type": "stream",
     "name": "stdout",
     "text": [
      "Evaluation at timestep 47510 returned a mean returns of 30.553273228883384\n",
      "Epsilon = 0.050000000000000044\n",
      "Replay Buffer count: 7867\n"
     ]
    },
    {
     "output_type": "stream",
     "name": "stderr",
     "text": [
      "50109it [24:22, 34.26it/s]\n",
      "  1%|          | 464/50000 [00:00<00:13, 3689.82it/s]"
     ]
    },
    {
     "output_type": "stream",
     "name": "stdout",
     "text": [
      "Evaluation at timestep 50109 returned a mean returns of -5.551201417089338\n",
      "Epsilon = 0.050000000000000044\n",
      "Replay Buffer count: 8001\n",
      "\n",
      " Run: 7 \n",
      "\n"
     ]
    },
    {
     "output_type": "stream",
     "name": "stderr",
     "text": [
      "  5%|▌         | 2535/50000 [00:04<00:33, 1396.75it/s]"
     ]
    },
    {
     "output_type": "stream",
     "name": "stdout",
     "text": [
      "Evaluation at timestep 2535 returned a mean returns of -115.25514999275126\n",
      "Epsilon = 0.8443266666666667\n",
      "Replay Buffer count: 887\n"
     ]
    },
    {
     "output_type": "stream",
     "name": "stderr",
     "text": [
      " 10%|█         | 5092/50000 [00:14<01:25, 525.05it/s]"
     ]
    },
    {
     "output_type": "stream",
     "name": "stdout",
     "text": [
      "Evaluation at timestep 5092 returned a mean returns of -23.143890199304927\n",
      "Epsilon = 0.68916\n",
      "Replay Buffer count: 1515\n"
     ]
    },
    {
     "output_type": "stream",
     "name": "stderr",
     "text": [
      " 15%|█▌        | 7535/50000 [00:28<02:23, 296.36it/s]"
     ]
    },
    {
     "output_type": "stream",
     "name": "stdout",
     "text": [
      "Evaluation at timestep 7535 returned a mean returns of -101.93608308185387\n",
      "Epsilon = 0.53469\n",
      "Replay Buffer count: 2178\n"
     ]
    },
    {
     "output_type": "stream",
     "name": "stderr",
     "text": [
      " 20%|██        | 10116/50000 [00:49<04:15, 156.18it/s]"
     ]
    },
    {
     "output_type": "stream",
     "name": "stdout",
     "text": [
      "Evaluation at timestep 10116 returned a mean returns of -252.3491628730473\n",
      "Epsilon = 0.37990333333333326\n",
      "Replay Buffer count: 2802\n"
     ]
    },
    {
     "output_type": "stream",
     "name": "stderr",
     "text": [
      " 26%|██▌       | 12933/50000 [01:21<06:12, 99.51it/s]"
     ]
    },
    {
     "output_type": "stream",
     "name": "stdout",
     "text": [
      "Evaluation at timestep 12933 returned a mean returns of 116.54133071849684\n",
      "Epsilon = 0.21257666666666675\n",
      "Replay Buffer count: 3457\n"
     ]
    },
    {
     "output_type": "stream",
     "name": "stderr",
     "text": [
      " 30%|███       | 15056/50000 [01:53<08:00, 72.79it/s]"
     ]
    },
    {
     "output_type": "stream",
     "name": "stdout",
     "text": [
      "Evaluation at timestep 15056 returned a mean returns of -37.46298467541851\n",
      "Epsilon = 0.056460000000000066\n",
      "Replay Buffer count: 3878\n"
     ]
    },
    {
     "output_type": "stream",
     "name": "stderr",
     "text": [
      " 35%|███▌      | 17537/50000 [02:32<07:31, 71.91it/s]"
     ]
    },
    {
     "output_type": "stream",
     "name": "stdout",
     "text": [
      "Evaluation at timestep 17537 returned a mean returns of -122.2232751429629\n",
      "Epsilon = 0.050000000000000044\n",
      "Replay Buffer count: 4328\n"
     ]
    },
    {
     "output_type": "stream",
     "name": "stderr",
     "text": [
      " 40%|████      | 20109/50000 [03:24<09:36, 51.84it/s]"
     ]
    },
    {
     "output_type": "stream",
     "name": "stdout",
     "text": [
      "Evaluation at timestep 20109 returned a mean returns of 6.674533520757606\n",
      "Epsilon = 0.050000000000000044\n",
      "Replay Buffer count: 4749\n"
     ]
    },
    {
     "output_type": "stream",
     "name": "stderr",
     "text": [
      " 46%|████▌     | 22868/50000 [04:31<10:49, 41.76it/s]"
     ]
    },
    {
     "output_type": "stream",
     "name": "stdout",
     "text": [
      "Evaluation at timestep 22868 returned a mean returns of 106.7604648896525\n",
      "Epsilon = 0.050000000000000044\n",
      "Replay Buffer count: 5216\n"
     ]
    },
    {
     "output_type": "stream",
     "name": "stderr",
     "text": [
      " 50%|█████     | 25043/50000 [05:36<10:58, 37.88it/s]"
     ]
    },
    {
     "output_type": "stream",
     "name": "stdout",
     "text": [
      "Evaluation at timestep 25043 returned a mean returns of 92.66687035765749\n",
      "Epsilon = 0.050000000000000044\n",
      "Replay Buffer count: 5527\n"
     ]
    },
    {
     "output_type": "stream",
     "name": "stderr",
     "text": [
      " 56%|█████▌    | 27772/50000 [07:05<12:31, 29.56it/s]"
     ]
    },
    {
     "output_type": "stream",
     "name": "stdout",
     "text": [
      "Evaluation at timestep 27772 returned a mean returns of 154.6965423960663\n",
      "Epsilon = 0.050000000000000044\n",
      "Replay Buffer count: 5881\n"
     ]
    },
    {
     "output_type": "stream",
     "name": "stderr",
     "text": [
      " 61%|██████    | 30305/50000 [08:29<10:26, 31.45it/s]"
     ]
    },
    {
     "output_type": "stream",
     "name": "stdout",
     "text": [
      "Evaluation at timestep 30305 returned a mean returns of 49.1976244580477\n",
      "Epsilon = 0.050000000000000044\n",
      "Replay Buffer count: 6180\n"
     ]
    },
    {
     "output_type": "stream",
     "name": "stderr",
     "text": [
      " 66%|██████▌   | 32857/50000 [10:09<10:09, 28.12it/s]"
     ]
    },
    {
     "output_type": "stream",
     "name": "stdout",
     "text": [
      "Evaluation at timestep 32857 returned a mean returns of 117.1723874288465\n",
      "Epsilon = 0.050000000000000044\n",
      "Replay Buffer count: 6464\n"
     ]
    },
    {
     "output_type": "stream",
     "name": "stderr",
     "text": [
      " 70%|███████   | 35182/50000 [11:47<10:12, 24.18it/s]"
     ]
    },
    {
     "output_type": "stream",
     "name": "stdout",
     "text": [
      "Evaluation at timestep 35182 returned a mean returns of 98.24246755712902\n",
      "Epsilon = 0.050000000000000044\n",
      "Replay Buffer count: 6689\n"
     ]
    },
    {
     "output_type": "stream",
     "name": "stderr",
     "text": [
      " 75%|███████▌  | 37596/50000 [13:33<09:05, 22.74it/s]"
     ]
    },
    {
     "output_type": "stream",
     "name": "stdout",
     "text": [
      "Evaluation at timestep 37596 returned a mean returns of 139.0685677009449\n",
      "Epsilon = 0.050000000000000044\n",
      "Replay Buffer count: 6910\n"
     ]
    },
    {
     "output_type": "stream",
     "name": "stderr",
     "text": [
      " 80%|████████  | 40137/50000 [15:25<06:37, 24.83it/s]"
     ]
    },
    {
     "output_type": "stream",
     "name": "stdout",
     "text": [
      "Evaluation at timestep 40137 returned a mean returns of 168.40174970124295\n",
      "Epsilon = 0.050000000000000044\n",
      "Replay Buffer count: 7069\n"
     ]
    },
    {
     "output_type": "stream",
     "name": "stderr",
     "text": [
      " 85%|████████▌ | 42576/50000 [17:29<06:08, 20.17it/s]"
     ]
    },
    {
     "output_type": "stream",
     "name": "stdout",
     "text": [
      "Evaluation at timestep 42576 returned a mean returns of 217.09711027325358\n",
      "Epsilon = 0.050000000000000044\n",
      "Replay Buffer count: 7261\n"
     ]
    },
    {
     "output_type": "stream",
     "name": "stderr",
     "text": [
      " 90%|█████████ | 45195/50000 [19:41<04:10, 19.22it/s]"
     ]
    },
    {
     "output_type": "stream",
     "name": "stdout",
     "text": [
      "Evaluation at timestep 45195 returned a mean returns of 219.5928295200918\n",
      "Epsilon = 0.050000000000000044\n",
      "Replay Buffer count: 7482\n"
     ]
    },
    {
     "output_type": "stream",
     "name": "stderr",
     "text": [
      " 95%|█████████▌| 47510/50000 [21:46<02:05, 19.81it/s]"
     ]
    },
    {
     "output_type": "stream",
     "name": "stdout",
     "text": [
      "Evaluation at timestep 47510 returned a mean returns of 76.70002952522319\n",
      "Epsilon = 0.050000000000000044\n",
      "Replay Buffer count: 7654\n"
     ]
    },
    {
     "output_type": "stream",
     "name": "stderr",
     "text": [
      "50162it [24:22, 34.30it/s]\n",
      "  1%|          | 428/50000 [00:00<00:11, 4228.74it/s]"
     ]
    },
    {
     "output_type": "stream",
     "name": "stdout",
     "text": [
      "Evaluation at timestep 50162 returned a mean returns of 92.43670520760698\n",
      "Epsilon = 0.050000000000000044\n",
      "Replay Buffer count: 7839\n",
      "\n",
      " Run: 8 \n",
      "\n"
     ]
    },
    {
     "output_type": "stream",
     "name": "stderr",
     "text": [
      "  5%|▌         | 2611/50000 [00:05<04:32, 174.05it/s] "
     ]
    },
    {
     "output_type": "stream",
     "name": "stdout",
     "text": [
      "Evaluation at timestep 2529 returned a mean returns of -50.39080134109437\n",
      "Epsilon = 0.8451500000000001\n",
      "Replay Buffer count: 822\n"
     ]
    },
    {
     "output_type": "stream",
     "name": "stderr",
     "text": [
      " 10%|█         | 5135/50000 [00:12<05:50, 127.83it/s]"
     ]
    },
    {
     "output_type": "stream",
     "name": "stdout",
     "text": [
      "Evaluation at timestep 5030 returned a mean returns of -289.18260675524255\n",
      "Epsilon = 0.6894133333333333\n",
      "Replay Buffer count: 1468\n"
     ]
    },
    {
     "output_type": "stream",
     "name": "stderr",
     "text": [
      " 15%|█▌        | 7706/50000 [00:27<07:39, 92.00it/s] "
     ]
    },
    {
     "output_type": "stream",
     "name": "stdout",
     "text": [
      "Evaluation at timestep 7587 returned a mean returns of 34.31203831368459\n",
      "Epsilon = 0.5317766666666667\n",
      "Replay Buffer count: 2125\n"
     ]
    },
    {
     "output_type": "stream",
     "name": "stderr",
     "text": [
      " 20%|██        | 10037/50000 [00:46<04:22, 152.10it/s]"
     ]
    },
    {
     "output_type": "stream",
     "name": "stdout",
     "text": [
      "Evaluation at timestep 10037 returned a mean returns of 6.582689297489149\n",
      "Epsilon = 0.37426666666666675\n",
      "Replay Buffer count: 2678\n"
     ]
    },
    {
     "output_type": "stream",
     "name": "stderr",
     "text": [
      " 26%|██▌       | 12850/50000 [01:13<06:17, 98.47it/s]"
     ]
    },
    {
     "output_type": "stream",
     "name": "stdout",
     "text": [
      "Evaluation at timestep 12850 returned a mean returns of -42.65719116085651\n",
      "Epsilon = 0.21783333333333332\n",
      "Replay Buffer count: 3300\n"
     ]
    },
    {
     "output_type": "stream",
     "name": "stderr",
     "text": [
      " 30%|███       | 15026/50000 [01:45<07:35, 76.71it/s]"
     ]
    },
    {
     "output_type": "stream",
     "name": "stdout",
     "text": [
      "Evaluation at timestep 15026 returned a mean returns of 6.111499324823281\n",
      "Epsilon = 0.08001999999999998\n",
      "Replay Buffer count: 3748\n"
     ]
    },
    {
     "output_type": "stream",
     "name": "stderr",
     "text": [
      " 35%|███▌      | 17702/50000 [02:29<08:15, 65.20it/s]"
     ]
    },
    {
     "output_type": "stream",
     "name": "stdout",
     "text": [
      "Evaluation at timestep 17702 returned a mean returns of -240.3119733974712\n",
      "Epsilon = 0.050000000000000044\n",
      "Replay Buffer count: 4194\n"
     ]
    },
    {
     "output_type": "stream",
     "name": "stderr",
     "text": [
      " 41%|████      | 20283/50000 [03:20<08:52, 55.76it/s]"
     ]
    },
    {
     "output_type": "stream",
     "name": "stdout",
     "text": [
      "Evaluation at timestep 20283 returned a mean returns of 131.17966953725838\n",
      "Epsilon = 0.050000000000000044\n",
      "Replay Buffer count: 4565\n"
     ]
    },
    {
     "output_type": "stream",
     "name": "stderr",
     "text": [
      " 45%|████▌     | 22674/50000 [04:12<09:18, 48.89it/s]"
     ]
    },
    {
     "output_type": "stream",
     "name": "stdout",
     "text": [
      "Evaluation at timestep 22674 returned a mean returns of -53.2332285146983\n",
      "Epsilon = 0.050000000000000044\n",
      "Replay Buffer count: 4934\n"
     ]
    },
    {
     "output_type": "stream",
     "name": "stderr",
     "text": [
      " 50%|█████     | 25061/50000 [05:15<10:24, 39.92it/s]"
     ]
    },
    {
     "output_type": "stream",
     "name": "stdout",
     "text": [
      "Evaluation at timestep 25061 returned a mean returns of 200.05851028198288\n",
      "Epsilon = 0.050000000000000044\n",
      "Replay Buffer count: 5318\n"
     ]
    },
    {
     "output_type": "stream",
     "name": "stderr",
     "text": [
      " 56%|█████▌    | 27927/50000 [06:37<10:00, 36.75it/s]"
     ]
    },
    {
     "output_type": "stream",
     "name": "stdout",
     "text": [
      "Evaluation at timestep 27927 returned a mean returns of 105.02246280751399\n",
      "Epsilon = 0.050000000000000044\n",
      "Replay Buffer count: 5726\n"
     ]
    },
    {
     "output_type": "stream",
     "name": "stderr",
     "text": [
      " 60%|██████    | 30106/50000 [07:52<10:07, 32.77it/s]"
     ]
    },
    {
     "output_type": "stream",
     "name": "stdout",
     "text": [
      "Evaluation at timestep 30106 returned a mean returns of 79.64359787355335\n",
      "Epsilon = 0.050000000000000044\n",
      "Replay Buffer count: 5935\n"
     ]
    },
    {
     "output_type": "stream",
     "name": "stderr",
     "text": [
      " 65%|██████▌   | 32504/50000 [09:16<09:19, 31.28it/s]"
     ]
    },
    {
     "output_type": "stream",
     "name": "stdout",
     "text": [
      "Evaluation at timestep 32504 returned a mean returns of 28.92843569349087\n",
      "Epsilon = 0.050000000000000044\n",
      "Replay Buffer count: 6146\n"
     ]
    },
    {
     "output_type": "stream",
     "name": "stderr",
     "text": [
      " 71%|███████   | 35290/50000 [11:03<08:47, 27.89it/s]"
     ]
    },
    {
     "output_type": "stream",
     "name": "stdout",
     "text": [
      "Evaluation at timestep 35290 returned a mean returns of 155.74880961471368\n",
      "Epsilon = 0.050000000000000044\n",
      "Replay Buffer count: 6375\n"
     ]
    },
    {
     "output_type": "stream",
     "name": "stderr",
     "text": [
      " 75%|███████▌  | 37737/50000 [12:40<07:26, 27.49it/s]"
     ]
    },
    {
     "output_type": "stream",
     "name": "stdout",
     "text": [
      "Evaluation at timestep 37737 returned a mean returns of 140.571498267623\n",
      "Epsilon = 0.050000000000000044\n",
      "Replay Buffer count: 6582\n"
     ]
    },
    {
     "output_type": "stream",
     "name": "stderr",
     "text": [
      " 81%|████████  | 40267/50000 [14:30<06:23, 25.38it/s]"
     ]
    },
    {
     "output_type": "stream",
     "name": "stdout",
     "text": [
      "Evaluation at timestep 40267 returned a mean returns of 90.4750753020847\n",
      "Epsilon = 0.050000000000000044\n",
      "Replay Buffer count: 6759\n"
     ]
    },
    {
     "output_type": "stream",
     "name": "stderr",
     "text": [
      " 86%|████████▌ | 42979/50000 [16:37<05:13, 22.37it/s]"
     ]
    },
    {
     "output_type": "stream",
     "name": "stdout",
     "text": [
      "Evaluation at timestep 42979 returned a mean returns of 142.6318894931808\n",
      "Epsilon = 0.050000000000000044\n",
      "Replay Buffer count: 6887\n"
     ]
    },
    {
     "output_type": "stream",
     "name": "stderr",
     "text": [
      " 91%|█████████ | 45284/50000 [18:18<03:29, 22.47it/s]"
     ]
    },
    {
     "output_type": "stream",
     "name": "stdout",
     "text": [
      "Evaluation at timestep 45284 returned a mean returns of 150.17361421133256\n",
      "Epsilon = 0.050000000000000044\n",
      "Replay Buffer count: 7132\n"
     ]
    },
    {
     "output_type": "stream",
     "name": "stderr",
     "text": [
      " 96%|█████████▌| 47773/50000 [20:28<01:50, 20.11it/s]"
     ]
    },
    {
     "output_type": "stream",
     "name": "stdout",
     "text": [
      "Evaluation at timestep 47773 returned a mean returns of 126.08126549936293\n",
      "Epsilon = 0.050000000000000044\n",
      "Replay Buffer count: 7248\n"
     ]
    },
    {
     "output_type": "stream",
     "name": "stderr",
     "text": [
      "50363it [22:40, 37.03it/s]\n",
      "  1%|          | 492/50000 [00:00<00:12, 3865.61it/s]"
     ]
    },
    {
     "output_type": "stream",
     "name": "stdout",
     "text": [
      "Evaluation at timestep 50363 returned a mean returns of 218.64029008970311\n",
      "Epsilon = 0.050000000000000044\n",
      "Replay Buffer count: 7412\n",
      "\n",
      " Run: 9 \n",
      "\n"
     ]
    },
    {
     "output_type": "stream",
     "name": "stderr",
     "text": [
      "  5%|▌         | 2590/50000 [00:04<00:37, 1275.59it/s]"
     ]
    },
    {
     "output_type": "stream",
     "name": "stdout",
     "text": [
      "Evaluation at timestep 2590 returned a mean returns of -191.17903925035301\n",
      "Epsilon = 0.8456566666666667\n",
      "Replay Buffer count: 880\n"
     ]
    },
    {
     "output_type": "stream",
     "name": "stderr",
     "text": [
      " 10%|█         | 5135/50000 [00:13<06:18, 118.61it/s]"
     ]
    },
    {
     "output_type": "stream",
     "name": "stdout",
     "text": [
      "Evaluation at timestep 5017 returned a mean returns of -168.18733737161028\n",
      "Epsilon = 0.6890333333333334\n",
      "Replay Buffer count: 1559\n"
     ]
    },
    {
     "output_type": "stream",
     "name": "stderr",
     "text": [
      " 16%|█▌        | 7897/50000 [00:25<04:53, 143.43it/s]"
     ]
    },
    {
     "output_type": "stream",
     "name": "stdout",
     "text": [
      "Evaluation at timestep 7796 returned a mean returns of -534.9313460532451\n",
      "Epsilon = 0.53792\n",
      "Replay Buffer count: 2251\n"
     ]
    },
    {
     "output_type": "stream",
     "name": "stderr",
     "text": [
      " 20%|██        | 10113/50000 [00:45<04:20, 153.17it/s]"
     ]
    },
    {
     "output_type": "stream",
     "name": "stdout",
     "text": [
      "Evaluation at timestep 10113 returned a mean returns of -43.52167887510885\n",
      "Epsilon = 0.3911766666666666\n",
      "Replay Buffer count: 2807\n"
     ]
    },
    {
     "output_type": "stream",
     "name": "stderr",
     "text": [
      " 25%|██▌       | 12680/50000 [01:11<06:10, 100.86it/s]"
     ]
    },
    {
     "output_type": "stream",
     "name": "stdout",
     "text": [
      "Evaluation at timestep 12680 returned a mean returns of -201.81065345993414\n",
      "Epsilon = 0.21612333333333333\n",
      "Replay Buffer count: 3362\n"
     ]
    },
    {
     "output_type": "stream",
     "name": "stderr",
     "text": [
      " 30%|███       | 15136/50000 [01:44<07:23, 78.64it/s]"
     ]
    },
    {
     "output_type": "stream",
     "name": "stdout",
     "text": [
      "Evaluation at timestep 15136 returned a mean returns of -129.10855921712948\n",
      "Epsilon = 0.05456000000000005\n",
      "Replay Buffer count: 3911\n"
     ]
    },
    {
     "output_type": "stream",
     "name": "stderr",
     "text": [
      " 36%|███▌      | 17793/50000 [02:34<10:15, 52.30it/s]"
     ]
    },
    {
     "output_type": "stream",
     "name": "stdout",
     "text": [
      "Evaluation at timestep 17793 returned a mean returns of 46.41458959549722\n",
      "Epsilon = 0.050000000000000044\n",
      "Replay Buffer count: 4487\n"
     ]
    },
    {
     "output_type": "stream",
     "name": "stderr",
     "text": [
      " 40%|████      | 20058/50000 [03:22<10:23, 48.01it/s]"
     ]
    },
    {
     "output_type": "stream",
     "name": "stdout",
     "text": [
      "Evaluation at timestep 20058 returned a mean returns of -5.839457601157948\n",
      "Epsilon = 0.050000000000000044\n",
      "Replay Buffer count: 4949\n"
     ]
    },
    {
     "output_type": "stream",
     "name": "stderr",
     "text": [
      " 45%|████▌     | 22700/50000 [04:31<11:29, 39.57it/s]"
     ]
    },
    {
     "output_type": "stream",
     "name": "stdout",
     "text": [
      "Evaluation at timestep 22700 returned a mean returns of 42.78777417419495\n",
      "Epsilon = 0.050000000000000044\n",
      "Replay Buffer count: 5417\n"
     ]
    },
    {
     "output_type": "stream",
     "name": "stderr",
     "text": [
      " 50%|█████     | 25181/50000 [05:49<12:44, 32.46it/s]"
     ]
    },
    {
     "output_type": "stream",
     "name": "stdout",
     "text": [
      "Evaluation at timestep 25181 returned a mean returns of 76.91519376395365\n",
      "Epsilon = 0.050000000000000044\n",
      "Replay Buffer count: 5745\n"
     ]
    },
    {
     "output_type": "stream",
     "name": "stderr",
     "text": [
      " 55%|█████▌    | 27523/50000 [07:01<10:30, 35.68it/s]"
     ]
    },
    {
     "output_type": "stream",
     "name": "stdout",
     "text": [
      "Evaluation at timestep 27523 returned a mean returns of 106.79775530912933\n",
      "Epsilon = 0.050000000000000044\n",
      "Replay Buffer count: 5993\n"
     ]
    },
    {
     "output_type": "stream",
     "name": "stderr",
     "text": [
      " 60%|██████    | 30193/50000 [08:39<11:41, 28.22it/s]"
     ]
    },
    {
     "output_type": "stream",
     "name": "stdout",
     "text": [
      "Evaluation at timestep 30193 returned a mean returns of 30.656801017956383\n",
      "Epsilon = 0.050000000000000044\n",
      "Replay Buffer count: 6258\n"
     ]
    },
    {
     "output_type": "stream",
     "name": "stderr",
     "text": [
      " 65%|██████▌   | 32550/50000 [10:12<12:37, 23.05it/s]"
     ]
    },
    {
     "output_type": "stream",
     "name": "stdout",
     "text": [
      "Evaluation at timestep 32550 returned a mean returns of 29.146412949883462\n",
      "Epsilon = 0.050000000000000044\n",
      "Replay Buffer count: 6534\n"
     ]
    },
    {
     "output_type": "stream",
     "name": "stderr",
     "text": [
      " 70%|███████   | 35181/50000 [12:00<10:49, 22.81it/s]"
     ]
    },
    {
     "output_type": "stream",
     "name": "stdout",
     "text": [
      "Evaluation at timestep 35181 returned a mean returns of 124.65020977335249\n",
      "Epsilon = 0.050000000000000044\n",
      "Replay Buffer count: 6792\n"
     ]
    },
    {
     "output_type": "stream",
     "name": "stderr",
     "text": [
      " 76%|███████▌  | 37790/50000 [13:58<09:14, 22.02it/s]"
     ]
    },
    {
     "output_type": "stream",
     "name": "stdout",
     "text": [
      "Evaluation at timestep 37790 returned a mean returns of 87.46675899019655\n",
      "Epsilon = 0.050000000000000044\n",
      "Replay Buffer count: 7061\n"
     ]
    },
    {
     "output_type": "stream",
     "name": "stderr",
     "text": [
      " 81%|████████  | 40375/50000 [16:02<07:57, 20.15it/s]"
     ]
    },
    {
     "output_type": "stream",
     "name": "stdout",
     "text": [
      "Evaluation at timestep 40375 returned a mean returns of 158.25468004447382\n",
      "Epsilon = 0.050000000000000044\n",
      "Replay Buffer count: 7226\n"
     ]
    },
    {
     "output_type": "stream",
     "name": "stderr",
     "text": [
      " 85%|████████▌ | 42748/50000 [18:01<06:20, 19.06it/s]"
     ]
    },
    {
     "output_type": "stream",
     "name": "stdout",
     "text": [
      "Evaluation at timestep 42748 returned a mean returns of 104.58065341236897\n",
      "Epsilon = 0.050000000000000044\n",
      "Replay Buffer count: 7411\n"
     ]
    },
    {
     "output_type": "stream",
     "name": "stderr",
     "text": [
      " 90%|█████████ | 45102/50000 [19:58<03:45, 21.75it/s]"
     ]
    },
    {
     "output_type": "stream",
     "name": "stdout",
     "text": [
      "Evaluation at timestep 45102 returned a mean returns of 182.32480764748627\n",
      "Epsilon = 0.050000000000000044\n",
      "Replay Buffer count: 7622\n"
     ]
    },
    {
     "output_type": "stream",
     "name": "stderr",
     "text": [
      " 95%|█████████▌| 47657/50000 [22:21<02:04, 18.88it/s]"
     ]
    },
    {
     "output_type": "stream",
     "name": "stdout",
     "text": [
      "Evaluation at timestep 47657 returned a mean returns of 188.68761315485\n",
      "Epsilon = 0.050000000000000044\n",
      "Replay Buffer count: 7758\n"
     ]
    },
    {
     "output_type": "stream",
     "name": "stderr",
     "text": [
      "50242it [24:48, 33.76it/s]\n",
      "  1%|          | 339/50000 [00:00<00:14, 3380.93it/s]"
     ]
    },
    {
     "output_type": "stream",
     "name": "stdout",
     "text": [
      "Evaluation at timestep 50242 returned a mean returns of 71.2963947108969\n",
      "Epsilon = 0.050000000000000044\n",
      "Replay Buffer count: 7939\n",
      "\n",
      " Run: 10 \n",
      "\n"
     ]
    },
    {
     "output_type": "stream",
     "name": "stderr",
     "text": [
      "  5%|▌         | 2594/50000 [00:06<05:23, 146.46it/s] "
     ]
    },
    {
     "output_type": "stream",
     "name": "stdout",
     "text": [
      "Evaluation at timestep 2519 returned a mean returns of -120.83780587278767\n",
      "Epsilon = 0.8476833333333333\n",
      "Replay Buffer count: 878\n"
     ]
    },
    {
     "output_type": "stream",
     "name": "stderr",
     "text": [
      " 10%|█         | 5114/50000 [00:14<01:34, 473.67it/s]"
     ]
    },
    {
     "output_type": "stream",
     "name": "stdout",
     "text": [
      "Evaluation at timestep 5114 returned a mean returns of -150.2167975535956\n",
      "Epsilon = 0.6870700000000001\n",
      "Replay Buffer count: 1621\n"
     ]
    },
    {
     "output_type": "stream",
     "name": "stderr",
     "text": [
      " 15%|█▌        | 7632/50000 [00:29<02:56, 240.67it/s]"
     ]
    },
    {
     "output_type": "stream",
     "name": "stdout",
     "text": [
      "Evaluation at timestep 7632 returned a mean returns of -98.49881645539861\n",
      "Epsilon = 0.52576\n",
      "Replay Buffer count: 2229\n"
     ]
    },
    {
     "output_type": "stream",
     "name": "stderr",
     "text": [
      " 20%|██        | 10225/50000 [00:51<04:51, 136.67it/s]"
     ]
    },
    {
     "output_type": "stream",
     "name": "stdout",
     "text": [
      "Evaluation at timestep 10225 returned a mean returns of 14.498442607615164\n",
      "Epsilon = 0.38408333333333333\n",
      "Replay Buffer count: 2732\n"
     ]
    },
    {
     "output_type": "stream",
     "name": "stderr",
     "text": [
      " 26%|██▌       | 12865/50000 [01:20<06:03, 102.17it/s]"
     ]
    },
    {
     "output_type": "stream",
     "name": "stdout",
     "text": [
      "Evaluation at timestep 12865 returned a mean returns of 53.69813310366698\n",
      "Epsilon = 0.21194333333333337\n",
      "Replay Buffer count: 3280\n"
     ]
    },
    {
     "output_type": "stream",
     "name": "stderr",
     "text": [
      " 30%|███       | 15166/50000 [01:55<07:54, 73.41it/s]"
     ]
    },
    {
     "output_type": "stream",
     "name": "stdout",
     "text": [
      "Evaluation at timestep 15166 returned a mean returns of 25.130975173191533\n",
      "Epsilon = 0.0711533333333334\n",
      "Replay Buffer count: 3667\n"
     ]
    },
    {
     "output_type": "stream",
     "name": "stderr",
     "text": [
      " 35%|███▌      | 17743/50000 [02:32<07:09, 75.10it/s]"
     ]
    },
    {
     "output_type": "stream",
     "name": "stdout",
     "text": [
      "Evaluation at timestep 17743 returned a mean returns of -27.61730670920694\n",
      "Epsilon = 0.050000000000000044\n",
      "Replay Buffer count: 4092\n"
     ]
    },
    {
     "output_type": "stream",
     "name": "stderr",
     "text": [
      " 40%|████      | 20020/50000 [03:20<09:45, 51.20it/s]"
     ]
    },
    {
     "output_type": "stream",
     "name": "stdout",
     "text": [
      "Evaluation at timestep 20020 returned a mean returns of 41.781073002594326\n",
      "Epsilon = 0.050000000000000044\n",
      "Replay Buffer count: 4543\n"
     ]
    },
    {
     "output_type": "stream",
     "name": "stderr",
     "text": [
      " 45%|████▌     | 22645/50000 [04:17<10:09, 44.87it/s]"
     ]
    },
    {
     "output_type": "stream",
     "name": "stdout",
     "text": [
      "Evaluation at timestep 22645 returned a mean returns of 72.74973466014102\n",
      "Epsilon = 0.050000000000000044\n",
      "Replay Buffer count: 4935\n"
     ]
    },
    {
     "output_type": "stream",
     "name": "stderr",
     "text": [
      " 51%|█████     | 25378/50000 [05:32<11:07, 36.88it/s]"
     ]
    },
    {
     "output_type": "stream",
     "name": "stdout",
     "text": [
      "Evaluation at timestep 25378 returned a mean returns of 72.28064660879586\n",
      "Epsilon = 0.050000000000000044\n",
      "Replay Buffer count: 5382\n"
     ]
    },
    {
     "output_type": "stream",
     "name": "stderr",
     "text": [
      " 55%|█████▌    | 27655/50000 [06:41<10:34, 35.22it/s]"
     ]
    },
    {
     "output_type": "stream",
     "name": "stdout",
     "text": [
      "Evaluation at timestep 27655 returned a mean returns of 98.77675111599204\n",
      "Epsilon = 0.050000000000000044\n",
      "Replay Buffer count: 5633\n"
     ]
    },
    {
     "output_type": "stream",
     "name": "stderr",
     "text": [
      " 60%|██████    | 30065/50000 [07:58<10:12, 32.55it/s]"
     ]
    },
    {
     "output_type": "stream",
     "name": "stdout",
     "text": [
      "Evaluation at timestep 30065 returned a mean returns of 18.182535737410667\n",
      "Epsilon = 0.050000000000000044\n",
      "Replay Buffer count: 5888\n"
     ]
    },
    {
     "output_type": "stream",
     "name": "stderr",
     "text": [
      " 66%|██████▌   | 32756/50000 [09:36<10:39, 26.99it/s]"
     ]
    },
    {
     "output_type": "stream",
     "name": "stdout",
     "text": [
      "Evaluation at timestep 32756 returned a mean returns of 94.40438093746442\n",
      "Epsilon = 0.050000000000000044\n",
      "Replay Buffer count: 6174\n"
     ]
    },
    {
     "output_type": "stream",
     "name": "stderr",
     "text": [
      " 70%|███████   | 35151/50000 [11:09<09:58, 24.79it/s]"
     ]
    },
    {
     "output_type": "stream",
     "name": "stdout",
     "text": [
      "Evaluation at timestep 35151 returned a mean returns of 159.95938931388972\n",
      "Epsilon = 0.050000000000000044\n",
      "Replay Buffer count: 6396\n"
     ]
    },
    {
     "output_type": "stream",
     "name": "stderr",
     "text": [
      " 75%|███████▌  | 37616/50000 [12:48<08:11, 25.17it/s]"
     ]
    },
    {
     "output_type": "stream",
     "name": "stdout",
     "text": [
      "Evaluation at timestep 37616 returned a mean returns of 205.46645579029695\n",
      "Epsilon = 0.050000000000000044\n",
      "Replay Buffer count: 6562\n"
     ]
    },
    {
     "output_type": "stream",
     "name": "stderr",
     "text": [
      " 80%|████████  | 40039/50000 [14:30<06:49, 24.30it/s]"
     ]
    },
    {
     "output_type": "stream",
     "name": "stdout",
     "text": [
      "Evaluation at timestep 40039 returned a mean returns of 119.71004003319335\n",
      "Epsilon = 0.050000000000000044\n",
      "Replay Buffer count: 6746\n"
     ]
    },
    {
     "output_type": "stream",
     "name": "stderr",
     "text": [
      " 85%|████████▌ | 42723/50000 [16:24<04:48, 25.21it/s]"
     ]
    },
    {
     "output_type": "stream",
     "name": "stdout",
     "text": [
      "Evaluation at timestep 42723 returned a mean returns of 125.16773336595163\n",
      "Epsilon = 0.050000000000000044\n",
      "Replay Buffer count: 6932\n"
     ]
    },
    {
     "output_type": "stream",
     "name": "stderr",
     "text": [
      " 90%|█████████ | 45230/50000 [18:28<03:40, 21.60it/s]"
     ]
    },
    {
     "output_type": "stream",
     "name": "stdout",
     "text": [
      "Evaluation at timestep 45230 returned a mean returns of 158.40533659003597\n",
      "Epsilon = 0.050000000000000044\n",
      "Replay Buffer count: 7088\n"
     ]
    },
    {
     "output_type": "stream",
     "name": "stderr",
     "text": [
      " 95%|█████████▌| 47601/50000 [20:25<02:01, 19.79it/s]"
     ]
    },
    {
     "output_type": "stream",
     "name": "stdout",
     "text": [
      "Evaluation at timestep 47601 returned a mean returns of 48.984313937882234\n",
      "Epsilon = 0.050000000000000044\n",
      "Replay Buffer count: 7258\n"
     ]
    },
    {
     "output_type": "stream",
     "name": "stderr",
     "text": [
      "50242it [22:38, 36.98it/s]\n",
      "  1%|          | 433/50000 [00:00<00:11, 4167.15it/s]"
     ]
    },
    {
     "output_type": "stream",
     "name": "stdout",
     "text": [
      "Evaluation at timestep 50242 returned a mean returns of 114.68489325895933\n",
      "Epsilon = 0.050000000000000044\n",
      "Replay Buffer count: 7444\n",
      "\n",
      " Run: 11 \n",
      "\n"
     ]
    },
    {
     "output_type": "stream",
     "name": "stderr",
     "text": [
      "  5%|▌         | 2500/50000 [00:04<00:40, 1176.91it/s]"
     ]
    },
    {
     "output_type": "stream",
     "name": "stdout",
     "text": [
      "Evaluation at timestep 2500 returned a mean returns of -294.02071701902025\n",
      "Epsilon = 0.8473033333333333\n",
      "Replay Buffer count: 918\n"
     ]
    },
    {
     "output_type": "stream",
     "name": "stderr",
     "text": [
      " 10%|█         | 5096/50000 [00:15<08:33, 87.39it/s] "
     ]
    },
    {
     "output_type": "stream",
     "name": "stdout",
     "text": [
      "Evaluation at timestep 5006 returned a mean returns of -65.96229234731182\n",
      "Epsilon = 0.6897933333333333\n",
      "Replay Buffer count: 1556\n"
     ]
    },
    {
     "output_type": "stream",
     "name": "stderr",
     "text": [
      " 15%|█▌        | 7605/50000 [00:30<03:15, 217.39it/s]"
     ]
    },
    {
     "output_type": "stream",
     "name": "stdout",
     "text": [
      "Evaluation at timestep 7605 returned a mean returns of -22.473344171209536\n",
      "Epsilon = 0.5275333333333334\n",
      "Replay Buffer count: 2158\n"
     ]
    },
    {
     "output_type": "stream",
     "name": "stderr",
     "text": [
      " 20%|██        | 10014/50000 [00:51<04:44, 140.31it/s]"
     ]
    },
    {
     "output_type": "stream",
     "name": "stdout",
     "text": [
      "Evaluation at timestep 10014 returned a mean returns of 5.086463317078981\n",
      "Epsilon = 0.38060000000000005\n",
      "Replay Buffer count: 2715\n"
     ]
    },
    {
     "output_type": "stream",
     "name": "stderr",
     "text": [
      " 25%|██▌       | 12630/50000 [01:21<06:34, 94.81it/s]"
     ]
    },
    {
     "output_type": "stream",
     "name": "stdout",
     "text": [
      "Evaluation at timestep 12630 returned a mean returns of -56.78548813602405\n",
      "Epsilon = 0.21150000000000002\n",
      "Replay Buffer count: 3381\n"
     ]
    },
    {
     "output_type": "stream",
     "name": "stderr",
     "text": [
      " 31%|███       | 15422/50000 [02:05<08:13, 70.00it/s]"
     ]
    },
    {
     "output_type": "stream",
     "name": "stdout",
     "text": [
      "Evaluation at timestep 15422 returned a mean returns of -72.03325870600906\n",
      "Epsilon = 0.054306666666666614\n",
      "Replay Buffer count: 3804\n"
     ]
    },
    {
     "output_type": "stream",
     "name": "stderr",
     "text": [
      " 36%|███▌      | 17853/50000 [02:50<08:36, 62.24it/s]"
     ]
    },
    {
     "output_type": "stream",
     "name": "stdout",
     "text": [
      "Evaluation at timestep 17853 returned a mean returns of 24.05488723968302\n",
      "Epsilon = 0.050000000000000044\n",
      "Replay Buffer count: 4076\n"
     ]
    },
    {
     "output_type": "stream",
     "name": "stderr",
     "text": [
      " 40%|████      | 20012/50000 [03:36<09:41, 51.58it/s]"
     ]
    },
    {
     "output_type": "stream",
     "name": "stdout",
     "text": [
      "Evaluation at timestep 20012 returned a mean returns of 106.22875435419418\n",
      "Epsilon = 0.050000000000000044\n",
      "Replay Buffer count: 4502\n"
     ]
    },
    {
     "output_type": "stream",
     "name": "stderr",
     "text": [
      " 45%|████▌     | 22537/50000 [04:35<10:06, 45.27it/s]"
     ]
    },
    {
     "output_type": "stream",
     "name": "stdout",
     "text": [
      "Evaluation at timestep 22537 returned a mean returns of 133.0567064551012\n",
      "Epsilon = 0.050000000000000044\n",
      "Replay Buffer count: 4840\n"
     ]
    },
    {
     "output_type": "stream",
     "name": "stderr",
     "text": [
      " 50%|█████     | 25110/50000 [05:34<08:51, 46.80it/s]"
     ]
    },
    {
     "output_type": "stream",
     "name": "stdout",
     "text": [
      "Evaluation at timestep 25110 returned a mean returns of 47.240144051802076\n",
      "Epsilon = 0.050000000000000044\n",
      "Replay Buffer count: 5213\n"
     ]
    },
    {
     "output_type": "stream",
     "name": "stderr",
     "text": [
      " 55%|█████▌    | 27681/50000 [06:47<09:42, 38.34it/s]"
     ]
    },
    {
     "output_type": "stream",
     "name": "stdout",
     "text": [
      "Evaluation at timestep 27681 returned a mean returns of 105.53119747683087\n",
      "Epsilon = 0.050000000000000044\n",
      "Replay Buffer count: 5525\n"
     ]
    },
    {
     "output_type": "stream",
     "name": "stderr",
     "text": [
      " 60%|██████    | 30025/50000 [08:02<09:39, 34.49it/s]"
     ]
    },
    {
     "output_type": "stream",
     "name": "stdout",
     "text": [
      "Evaluation at timestep 30025 returned a mean returns of 109.91300068836375\n",
      "Epsilon = 0.050000000000000044\n",
      "Replay Buffer count: 5662\n"
     ]
    },
    {
     "output_type": "stream",
     "name": "stderr",
     "text": [
      " 65%|██████▌   | 32557/50000 [09:27<10:10, 28.58it/s]"
     ]
    },
    {
     "output_type": "stream",
     "name": "stdout",
     "text": [
      "Evaluation at timestep 32557 returned a mean returns of 188.86304757871724\n",
      "Epsilon = 0.050000000000000044\n",
      "Replay Buffer count: 6000\n"
     ]
    },
    {
     "output_type": "stream",
     "name": "stderr",
     "text": [
      " 70%|███████   | 35071/50000 [10:52<07:31, 33.04it/s]"
     ]
    },
    {
     "output_type": "stream",
     "name": "stdout",
     "text": [
      "Evaluation at timestep 35071 returned a mean returns of 99.40226621898822\n",
      "Epsilon = 0.050000000000000044\n",
      "Replay Buffer count: 6152\n"
     ]
    },
    {
     "output_type": "stream",
     "name": "stderr",
     "text": [
      " 76%|███████▌  | 37999/50000 [12:44<07:26, 26.86it/s]"
     ]
    },
    {
     "output_type": "stream",
     "name": "stdout",
     "text": [
      "Evaluation at timestep 37999 returned a mean returns of 113.47015991869124\n",
      "Epsilon = 0.050000000000000044\n",
      "Replay Buffer count: 6355\n"
     ]
    },
    {
     "output_type": "stream",
     "name": "stderr",
     "text": [
      " 81%|████████  | 40305/50000 [14:10<05:36, 28.84it/s]"
     ]
    },
    {
     "output_type": "stream",
     "name": "stdout",
     "text": [
      "Evaluation at timestep 40305 returned a mean returns of 69.22241474571824\n",
      "Epsilon = 0.050000000000000044\n",
      "Replay Buffer count: 6530\n"
     ]
    },
    {
     "output_type": "stream",
     "name": "stderr",
     "text": [
      " 86%|████████▌ | 42907/50000 [16:00<04:16, 27.70it/s]"
     ]
    },
    {
     "output_type": "stream",
     "name": "stdout",
     "text": [
      "Evaluation at timestep 42907 returned a mean returns of 151.29378428047409\n",
      "Epsilon = 0.050000000000000044\n",
      "Replay Buffer count: 6787\n"
     ]
    },
    {
     "output_type": "stream",
     "name": "stderr",
     "text": [
      " 90%|█████████ | 45102/50000 [17:40<03:19, 24.58it/s]"
     ]
    },
    {
     "output_type": "stream",
     "name": "stdout",
     "text": [
      "Evaluation at timestep 45102 returned a mean returns of 133.4277269274316\n",
      "Epsilon = 0.050000000000000044\n",
      "Replay Buffer count: 6944\n"
     ]
    },
    {
     "output_type": "stream",
     "name": "stderr",
     "text": [
      " 96%|█████████▌| 47954/50000 [19:58<01:36, 21.21it/s]"
     ]
    },
    {
     "output_type": "stream",
     "name": "stdout",
     "text": [
      "Evaluation at timestep 47954 returned a mean returns of 110.9214778921075\n",
      "Epsilon = 0.050000000000000044\n",
      "Replay Buffer count: 7081\n"
     ]
    },
    {
     "output_type": "stream",
     "name": "stderr",
     "text": [
      "50209it [21:45, 38.45it/s]"
     ]
    },
    {
     "output_type": "stream",
     "name": "stdout",
     "text": [
      "Evaluation at timestep 50209 returned a mean returns of 102.44194615791693\n",
      "Epsilon = 0.050000000000000044\n",
      "Replay Buffer count: 7254\n"
     ]
    },
    {
     "output_type": "stream",
     "name": "stderr",
     "text": [
      "\n"
     ]
    }
   ],
   "metadata": {
    "tags": []
   }
  },
  {
   "cell_type": "code",
   "execution_count": 7,
   "source": [
    "with open(f'{environment}_eval_{models[j]}.csv', 'ab') as eval:\n",
    "    for i in range(n_seeds):\n",
    "        np.savetxt(eval, [returns[i]], delimiter=',')"
   ],
   "outputs": [],
   "metadata": {}
  },
  {
   "cell_type": "code",
   "execution_count": 8,
   "source": [
    "with open(f'{environment}_train_{models[j]}.csv', 'ab') as train:\n",
    "    for i in range(n_seeds):\n",
    "        np.savetxt(train, [train_returns[i]], delimiter=',')\n",
    "        np.savetxt(train, [train_times[i]], delimiter=',')"
   ],
   "outputs": [],
   "metadata": {}
  },
  {
   "cell_type": "code",
   "execution_count": 10,
   "source": [
    "## Sample Efficiency Evaluation\n",
    "\n",
    "n_eps = []\n",
    "n_steps = []\n",
    "not_solved = []\n",
    "n_seeds=10\n",
    "\n",
    "j=4\n",
    "for i in range(n_seeds):\n",
    "    print(f\"\\n Run: {i+1} \\n\")\n",
    "    s, e, n = solve(env, \n",
    "            CONFIGS[j], \n",
    "            fa=function_approximators[j], \n",
    "            agent = agents[j],\n",
    "            target_return=100,\n",
    "            op=operator.ge, \n",
    "            render=RENDER,\n",
    "            online=onlines[j],\n",
    "            threshold=0.25)\n",
    "    env.close()\n",
    "    n_eps.append(e)\n",
    "    n_steps.append(s)\n",
    "    not_solved.append(n)"
   ],
   "outputs": [
    {
     "output_type": "stream",
     "name": "stdout",
     "text": [
      "\n",
      " Run: 1 \n",
      "\n",
      "Ep. timesteps: 500\n",
      "Total timesteps: 10455\n",
      "Total episodes: 78\n",
      "Evaluation mean return: 114.72874752385272\n",
      "\n",
      " Run: 2 \n",
      "\n",
      "Ep. timesteps: 500\n",
      "Total timesteps: 6306\n",
      "Total episodes: 54\n",
      "Evaluation mean return: 143.54222720984495\n",
      "\n",
      " Run: 3 \n",
      "\n",
      "Ep. timesteps: 494\n",
      "Total timesteps: 11736\n",
      "Total episodes: 72\n",
      "Evaluation mean return: 159.6750638685724\n",
      "\n",
      " Run: 4 \n",
      "\n",
      "Ep. timesteps: 500\n",
      "Total timesteps: 16944\n",
      "Total episodes: 93\n",
      "Evaluation mean return: 175.46025593824072\n",
      "\n",
      " Run: 5 \n",
      "\n",
      "Ep. timesteps: 387\n",
      "Total timesteps: 9434\n",
      "Total episodes: 74\n",
      "Evaluation mean return: 279.08728930953407\n",
      "\n",
      " Run: 6 \n",
      "\n",
      "Ep. timesteps: 244\n",
      "Total timesteps: 14255\n",
      "Total episodes: 87\n",
      "Evaluation mean return: 302.6887018206717\n",
      "\n",
      " Run: 7 \n",
      "\n",
      "Ep. timesteps: 500\n",
      "Total timesteps: 14544\n",
      "Total episodes: 81\n",
      "Evaluation mean return: 130.73198234143658\n",
      "\n",
      " Run: 8 \n",
      "\n",
      "Ep. timesteps: 384\n",
      "Total timesteps: 15448\n",
      "Total episodes: 89\n",
      "Evaluation mean return: 200.9778050945896\n",
      "\n",
      " Run: 9 \n",
      "\n",
      "Ep. timesteps: 452\n",
      "Total timesteps: 9004\n",
      "Total episodes: 68\n",
      "Evaluation mean return: 253.31903114885287\n",
      "\n",
      " Run: 10 \n",
      "\n",
      "Ep. timesteps: 319\n",
      "Total timesteps: 25827\n",
      "Total episodes: 112\n",
      "Evaluation mean return: 306.9790779530725\n"
     ]
    }
   ],
   "metadata": {}
  },
  {
   "cell_type": "code",
   "execution_count": 11,
   "source": [
    "with open(f'{environment}_se_{models[j]}.csv', 'ab') as se:\n",
    "    np.savetxt(se, [n_eps], delimiter=',')\n",
    "    np.savetxt(se, [n_steps], delimiter=',')\n",
    "    np.savetxt(se, [not_solved], delimiter=',')"
   ],
   "outputs": [],
   "metadata": {}
  },
  {
   "cell_type": "code",
   "execution_count": 22,
   "source": [
    "mean_eps = np.mean(n_eps)\n",
    "std_eps = np.std(n_eps)\n",
    "print(f\"Average n_eps: {mean_eps}\")\n",
    "print(f\"Std n_eps: {std_eps}\")\n",
    "print(f\"St.error n_eps: {std_eps/np.sqrt(n_seeds)}\")\n",
    "\n",
    "mean_steps = np.mean(n_steps)\n",
    "std_steps = np.std(n_steps)\n",
    "print(f\"Average n_steps: {mean_steps}0\")\n",
    "print(f\"Std n_steps: {std_steps}\")\n",
    "print(f\"St.error n_steps: {std_steps/np.sqrt(n_seeds)}\")\n",
    "\n",
    "print(f\"Not solved: {np.sum(not_solved)} runs\")"
   ],
   "outputs": [
    {
     "output_type": "stream",
     "name": "stdout",
     "text": [
      "Average n_eps: 21.633333333333333\n",
      "Std n_eps: 27.45721924902245\n",
      "St.error n_eps: 5.0129794496848845\n",
      "Average n_steps: 900.60\n",
      "Std n_steps: 1383.9435826651315\n",
      "St.error n_steps: 252.67237284673604\n",
      "Not solved: 3 runs\n"
     ]
    }
   ],
   "metadata": {}
  },
  {
   "cell_type": "code",
   "execution_count": 27,
   "source": [
    "## Training time\n",
    "\n",
    "times = []\n",
    "for j in range(5,8):\n",
    "        time = train_time(env, \n",
    "                CONFIGS[j], \n",
    "                fa=function_approximators[j], \n",
    "                agent = agents[j],\n",
    "                online=onlines[j],\n",
    "                threshold=0.2)\n",
    "        env.close()\n",
    "        times.append(time)\n",
    "\n",
    "print(time)"
   ],
   "outputs": [
    {
     "output_type": "stream",
     "name": "stderr",
     "text": [
      "50013it [09:16, 89.90it/s]\n",
      "  1%|          | 347/50000 [00:00<00:16, 2995.31it/s]"
     ]
    },
    {
     "output_type": "stream",
     "name": "stdout",
     "text": [
      "-189.0375427386612\n"
     ]
    },
    {
     "output_type": "stream",
     "name": "stderr",
     "text": [
      "50030it [43:20, 19.24it/s]\n",
      "  0%|          | 0/50000 [00:00<?, ?it/s]"
     ]
    },
    {
     "output_type": "stream",
     "name": "stdout",
     "text": [
      "-65.36838185707568\n"
     ]
    },
    {
     "output_type": "stream",
     "name": "stderr",
     "text": [
      "50078it [1:09:02, 12.09it/s]"
     ]
    },
    {
     "output_type": "stream",
     "name": "stdout",
     "text": [
      "-205.56159420668013\n",
      "4142.282765388489\n"
     ]
    },
    {
     "output_type": "stream",
     "name": "stderr",
     "text": [
      "\n"
     ]
    }
   ],
   "metadata": {}
  },
  {
   "cell_type": "code",
   "execution_count": 28,
   "source": [
    "with open(f'{environment}_times.csv', 'ab') as t:\n",
    "    np.savetxt(t, [times], delimiter=',')"
   ],
   "outputs": [],
   "metadata": {}
  },
  {
   "cell_type": "code",
   "execution_count": null,
   "source": [],
   "outputs": [],
   "metadata": {}
  }
 ]
}