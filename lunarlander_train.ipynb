{
 "metadata": {
  "language_info": {
   "codemirror_mode": {
    "name": "ipython",
    "version": 3
   },
   "file_extension": ".py",
   "mimetype": "text/x-python",
   "name": "python",
   "nbconvert_exporter": "python",
   "pygments_lexer": "ipython3",
   "version": "3.8.8"
  },
  "orig_nbformat": 2,
  "kernelspec": {
   "name": "python3",
   "display_name": "Python 3.8.8 64-bit ('rl_vfa_venv': venv)"
  },
  "interpreter": {
   "hash": "22a4fa19595f02a13987d52fdee973c5ab514be50202bb6cec211f6ae6538c08"
  }
 },
 "nbformat": 4,
 "nbformat_minor": 2,
 "cells": [
  {
   "cell_type": "code",
   "execution_count": 1,
   "source": [
    "## Imports\n",
    "\n",
    "import gym \n",
    "import numpy as np\n",
    "\n",
    "from function_approximators.function_approximators import NeuralNetwork, LinearModel, DecisionTree, RandomForest, SupportVectorRegressor, KNeighboursRegressor, GaussianProcess, OnlineGaussianProcess\n",
    "from sklearn.gaussian_process.kernels import RBF\n",
    "from sklearn.metrics.pairwise import rbf_kernel\n",
    "\n",
    "from utils.train_utils import train, solve, train_time\n",
    "\n",
    "from agents.ad_agents import DQNAgent, LinearAgent, FQIAgent, OnlineGaussianProccessAgent\n",
    "import operator\n"
   ],
   "outputs": [],
   "metadata": {}
  },
  {
   "cell_type": "code",
   "execution_count": 2,
   "source": [
    "## Environment\n",
    "\n",
    "function_approximators = [NeuralNetwork, LinearModel, DecisionTree, RandomForest, SupportVectorRegressor, KNeighboursRegressor, GaussianProcess, OnlineGaussianProcess]\n",
    "\n",
    "agents = [DQNAgent, LinearAgent, *[FQIAgent]*5, OnlineGaussianProccessAgent]\n",
    "\n",
    "RENDER = False\n",
    "env = gym.make(\"LunarLander-v2\")\n",
    "environment = \"lunarlander\""
   ],
   "outputs": [],
   "metadata": {}
  },
  {
   "cell_type": "code",
   "execution_count": 19,
   "source": [
    "# DQN Config\n",
    "CONFIG_DQN = {\n",
    "    \"episode_length\": 500,\n",
    "    \"max_timesteps\": 50000,\n",
    "    \"max_time\": 30 * 60,\n",
    "    \"eval_freq\": 2500, \n",
    "    \"eval_episodes\": 10,\n",
    "    \"learning_rate\": 0.001,\n",
    "    \"hidden_size\": (256,256),\n",
    "    \"target_update_freq\": 100,\n",
    "    \"batch_size\": 64,\n",
    "    \"gamma\": 0.99,\n",
    "    \"buffer_capacity\": int(1e6),\n",
    "    \"plot_loss\": False,\n",
    "    \"epsilon\": 1,\n",
    "    \"max_deduct\": 0.95,\n",
    "    \"decay\": 0.5,\n",
    "    \"lr_step_size\": 1000,\n",
    "    \"lr_gamma\": 0.97,\n",
    "    \"max_steps\": 500,\n",
    "    \"non_param\": False,\n",
    "}\n",
    "\n",
    "# Linear Config\n",
    "CONFIG_LINEAR = {\n",
    "    \"episode_length\": 500,\n",
    "    \"max_timesteps\": 50000,\n",
    "    \"max_time\": 30 * 60,\n",
    "    \"eval_freq\": 2500, \n",
    "    \"eval_episodes\": 5,\n",
    "    \"learning_rate\": 0.02,\n",
    "    \"target_update_freq\": 50,\n",
    "    \"batch_size\": 128,\n",
    "    \"gamma\": 0.99,\n",
    "    \"buffer_capacity\": int(1e5),\n",
    "    \"plot_loss\": False,\n",
    "    \"epsilon\": 1,\n",
    "    \"max_steps\": 500,\n",
    "    \"poly_degree\": 5,\n",
    "    \"max_deduct\": 0.93,\n",
    "    \"decay\": 0.4,\n",
    "    \"lr_step_size\": 1000,\n",
    "    \"lr_gamma\": 0.99,\n",
    "    \"non_param\": False,\n",
    "}\n",
    "\n",
    "# Decision Tree Config\n",
    "CONFIG_DT = {\n",
    "    \"episode_length\": 500,\n",
    "    \"max_timesteps\": 50000,\n",
    "    \"max_time\": 30 * 60,\n",
    "    \"eval_freq\": 2500, \n",
    "    \"eval_episodes\": 5,\n",
    "    \"model_save_freq\": 2500,\n",
    "    \"model_save_capacity\": 20,\n",
    "    \"update_freq\": 1,\n",
    "    \"batch_size\": 128,\n",
    "    \"gamma\": 0.99,\n",
    "    \"buffer_capacity\": int(1e6),\n",
    "    \"epsilon\": 1,\n",
    "    \"max_deduct\": 0.9,\n",
    "    \"decay\": 0.4,\n",
    "    \"max_steps\": 500,\n",
    "    \"non_param\": True,\n",
    "    \"model_params\": {\"criterion\":\"mse\",\"max_depth\": 20, \"min_samples_split\": 20, \"min_samples_leaf\": 5},\n",
    "    \"feature_names\": [\"Cart Position\", \"Cart Velocity\", \"Pole Angle\", \"Pole Angular Velocity\", \"Action: Push Left\", \"Action: Push Right\"],\n",
    "    \"plot_name\": \"dt_depth=8\",\n",
    "}\n",
    "\n",
    "# Random Forest Config\n",
    "CONFIG_RF = {\n",
    "    \"episode_length\": 500,\n",
    "    \"max_timesteps\": 50000,\n",
    "    \"max_time\": 30 * 1000,\n",
    "    \"eval_freq\": 2500, \n",
    "    \"eval_episodes\": 5,\n",
    "    \"model_save_freq\": 1000000,\n",
    "    \"model_save_capacity\": 10,\n",
    "    \"update_freq\": 10,\n",
    "    \"batch_size\": 128,\n",
    "    \"gamma\": 0.99,\n",
    "    \"buffer_capacity\": int(1e6),\n",
    "    \"epsilon\": 1,\n",
    "    \"max_deduct\": 0.9,\n",
    "    \"decay\": 0.4,\n",
    "    \"max_steps\": 500,\n",
    "    \"non_param\": True,\n",
    "    \"model_params\": {\"n_estimators\": 10,\"max_depth\": 20, \"min_samples_split\": 20, \"min_samples_leaf\": 5},\n",
    "}\n",
    "\n",
    "# Support Vector Regressor Config\n",
    "CONFIG_SVR = {\n",
    "    \"episode_length\": 500,\n",
    "    \"max_timesteps\": 50000,\n",
    "    \"max_time\": 30 * 1000,\n",
    "    \"eval_freq\": 2500, \n",
    "    \"eval_episodes\": 5,\n",
    "    \"model_save_freq\": 2500,\n",
    "    \"model_save_capacity\": 4,\n",
    "    \"update_freq\": 100,\n",
    "    \"batch_size\": 128,\n",
    "    \"gamma\": 0.99,\n",
    "    \"buffer_capacity\": int(1e6),\n",
    "    \"epsilon\": 1,\n",
    "    \"max_deduct\": 0.95,\n",
    "    \"decay\": 0.5,\n",
    "    \"max_steps\": 500,\n",
    "    \"non_param\": True,\n",
    "    \"model_params\": {\"kernel\":\"rbf\", \"degree\": 2, \"C\": 1},\n",
    "}\n",
    "\n",
    "\n",
    "# K-Neighbors Regressor Config\n",
    "CONFIG_KNR = {\n",
    "    \"episode_length\": 500,\n",
    "    \"max_timesteps\": 50000,\n",
    "    \"max_time\": 30 * 1000,\n",
    "    \"eval_freq\": 2500, \n",
    "    \"eval_episodes\": 5,\n",
    "    \"model_save_freq\": 100000,\n",
    "    \"model_save_capacity\": 20,\n",
    "    \"update_freq\": 100,\n",
    "    \"batch_size\": 128,\n",
    "    \"gamma\": 0.99,\n",
    "    \"buffer_capacity\": int(1e6),\n",
    "    \"epsilon\": 1,\n",
    "    \"max_deduct\": 0.93,\n",
    "    \"decay\": 0.4,\n",
    "    \"max_steps\": 500,\n",
    "    \"non_param\": True,\n",
    "    \"model_params\": {\"n_neighbors\":10, \"weights\": \"distance\", \"algorithm\": \"auto\", \"leaf_size\": 30},\n",
    "}\n",
    "\n",
    "# Gaussian Process Config\n",
    "CONFIG_GP = {\n",
    "    \"episode_length\": 500,\n",
    "    \"max_timesteps\": 50000,\n",
    "    \"max_time\": 30 * 1000,\n",
    "    \"eval_freq\": 2500, \n",
    "    \"eval_episodes\": 5,\n",
    "    \"model_save_freq\": 100000,\n",
    "    \"model_save_capacity\": 20,\n",
    "    \"update_freq\": 100,\n",
    "    \"batch_size\": 128,\n",
    "    \"gamma\": 0.99,\n",
    "    \"buffer_capacity\": int(1e6),\n",
    "    \"epsilon\": 1,\n",
    "    \"max_deduct\": 0.9,\n",
    "    \"decay\": 0.4,\n",
    "    \"max_steps\": 500,\n",
    "    \"non_param\": True,\n",
    "    \"model_params\": {\"alpha\": 1e-10, \"normalize_y\": False, \"kernel\":  RBF(length_scale=0.3, length_scale_bounds=\"fixed\")},\n",
    "}\n",
    "\n",
    "# Online Gaussian Process Config\n",
    "CONFIG_GP_Online = {\n",
    "    \"episode_length\": 500,\n",
    "    \"max_timesteps\": 50000,\n",
    "    \"max_time\": 30 * 1000,\n",
    "    \"eval_freq\": 2500, \n",
    "    \"eval_episodes\": 5,\n",
    "    \"gamma\": 0.99,\n",
    "    \"buffer_capacity\": int(1e6),\n",
    "    \"batch_size\": 32,\n",
    "    \"epsilon\": 1,\n",
    "    \"max_deduct\": 0.93,\n",
    "    \"decay\": 0.4,\n",
    "    \"max_steps\": 500,\n",
    "    \"non_param\": True,\n",
    "    \"model_params\": {\"sigma_0\": 0.3, \"init\": 0, \"kernel\":  rbf_kernel, \"epsilon_tol\": 0.075, \"basis_limit\": 1000},\n",
    "}\n",
    "\n",
    "CONFIGS = [CONFIG_DQN, CONFIG_LINEAR, CONFIG_DT, CONFIG_RF, CONFIG_SVR, CONFIG_KNR, CONFIG_GP, CONFIG_GP_Online]\n",
    "onlines = [False, False, False, False, False, False, False, True]\n",
    "models = [\"Neural Network\", \"Linear Model\", \"Decision Tree\", \"Random Forest\", \"Support Vectors\", \"K-Neighbours\", \"Gaussian Process\", \"Gaussian Process Online\"]"
   ],
   "outputs": [],
   "metadata": {}
  },
  {
   "cell_type": "code",
   "execution_count": 20,
   "source": [
    "## Performance Evaluation\n",
    "\n",
    "returns = []\n",
    "train_returns = []\n",
    "train_times = []\n",
    "n_seeds=1\n",
    "\n",
    "j=1\n",
    "for i in range(n_seeds):\n",
    "    print(f\"\\n Run: {i+1} \\n\")\n",
    "    r, _, t, times = train(env, \n",
    "            CONFIGS[j], \n",
    "            fa=function_approximators[j], \n",
    "            agent = agents[j], \n",
    "            render=RENDER,\n",
    "            online=onlines[j],\n",
    "            threshold = -1)\n",
    "    env.close()\n",
    "    returns.append(r)\n",
    "    train_returns.append(t)\n",
    "    train_times.append(times)\n",
    "    \n"
   ],
   "outputs": [
    {
     "output_type": "stream",
     "name": "stderr",
     "text": [
      "  0%|          | 0/50000 [00:00<?, ?it/s]"
     ]
    },
    {
     "output_type": "stream",
     "name": "stdout",
     "text": [
      "\n",
      " Run: 1 \n",
      "\n"
     ]
    },
    {
     "output_type": "stream",
     "name": "stderr",
     "text": [
      "  5%|▌         | 2561/50000 [00:06<02:22, 333.41it/s]"
     ]
    },
    {
     "output_type": "stream",
     "name": "stdout",
     "text": [
      "Evaluation at timestep 2561 returned a mean returns of -193.74900585277987\n",
      "Epsilon = 0.8861215\n",
      "Learning rate = 0.019602\n"
     ]
    },
    {
     "output_type": "stream",
     "name": "stderr",
     "text": [
      " 10%|█         | 5082/50000 [00:16<03:30, 213.00it/s]"
     ]
    },
    {
     "output_type": "stream",
     "name": "stdout",
     "text": [
      "Evaluation at timestep 5082 returned a mean returns of -307.0128512726079\n",
      "Epsilon = 0.7695460000000001\n",
      "Learning rate = 0.0192119202\n"
     ]
    },
    {
     "output_type": "stream",
     "name": "stderr",
     "text": [
      " 15%|█▌        | 7726/50000 [00:32<04:40, 150.97it/s]"
     ]
    },
    {
     "output_type": "stream",
     "name": "stdout",
     "text": [
      "Evaluation at timestep 7726 returned a mean returns of -199.8197748004903\n",
      "Epsilon = 0.663991\n",
      "Learning rate = 0.0186413069581398\n"
     ]
    },
    {
     "output_type": "stream",
     "name": "stderr",
     "text": [
      " 20%|██        | 10024/50000 [00:50<05:25, 122.81it/s]"
     ]
    },
    {
     "output_type": "stream",
     "name": "stdout",
     "text": [
      "Evaluation at timestep 10024 returned a mean returns of -254.56827290741367\n",
      "Epsilon = 0.538999\n",
      "Learning rate = 0.018270344949672817\n"
     ]
    },
    {
     "output_type": "stream",
     "name": "stderr",
     "text": [
      " 25%|██▌       | 12517/50000 [01:14<06:14, 100.22it/s]"
     ]
    },
    {
     "output_type": "stream",
     "name": "stdout",
     "text": [
      "Evaluation at timestep 12517 returned a mean returns of -177.63307326962072\n",
      "Epsilon = 0.42465549999999996\n",
      "Learning rate = 0.017727697434322585\n"
     ]
    },
    {
     "output_type": "stream",
     "name": "stderr",
     "text": [
      " 30%|███       | 15116/50000 [01:44<07:03, 82.45it/s]"
     ]
    },
    {
     "output_type": "stream",
     "name": "stdout",
     "text": [
      "Evaluation at timestep 15116 returned a mean returns of -240.00749895576507\n",
      "Epsilon = 0.320356\n",
      "Learning rate = 0.017374916255379565\n"
     ]
    },
    {
     "output_type": "stream",
     "name": "stderr",
     "text": [
      " 35%|███▌      | 17603/50000 [02:18<07:54, 68.24it/s]"
     ]
    },
    {
     "output_type": "stream",
     "name": "stdout",
     "text": [
      "Evaluation at timestep 17603 returned a mean returns of -228.9121310113592\n",
      "Epsilon = 0.18685450000000003\n",
      "Learning rate = 0.01685886386767854\n"
     ]
    },
    {
     "output_type": "stream",
     "name": "stderr",
     "text": [
      " 40%|████      | 20071/50000 [02:58<08:27, 58.93it/s]"
     ]
    },
    {
     "output_type": "stream",
     "name": "stdout",
     "text": [
      "Evaluation at timestep 20071 returned a mean returns of -208.166058541025\n",
      "Epsilon = 0.07330150000000002\n",
      "Learning rate = 0.016523372476711734\n"
     ]
    },
    {
     "output_type": "stream",
     "name": "stderr",
     "text": [
      " 45%|████▌     | 22702/50000 [03:47<08:47, 51.72it/s]"
     ]
    },
    {
     "output_type": "stream",
     "name": "stdout",
     "text": [
      "Evaluation at timestep 22702 returned a mean returns of -177.8238783996338\n",
      "Epsilon = 0.06999999999999995\n",
      "Learning rate = 0.01603261179078092\n"
     ]
    },
    {
     "output_type": "stream",
     "name": "stderr",
     "text": [
      " 50%|█████     | 25028/50000 [04:38<09:07, 45.58it/s]"
     ]
    },
    {
     "output_type": "stream",
     "name": "stdout",
     "text": [
      "Evaluation at timestep 25028 returned a mean returns of -200.46933459998124\n",
      "Epsilon = 0.06999999999999995\n",
      "Learning rate = 0.015713562816144378\n"
     ]
    },
    {
     "output_type": "stream",
     "name": "stderr",
     "text": [
      " 55%|█████▌    | 27647/50000 [05:39<08:49, 42.25it/s]"
     ]
    },
    {
     "output_type": "stream",
     "name": "stdout",
     "text": [
      "Evaluation at timestep 27647 returned a mean returns of -124.4960262984064\n",
      "Epsilon = 0.06999999999999995\n",
      "Learning rate = 0.015246854286942073\n"
     ]
    },
    {
     "output_type": "stream",
     "name": "stderr",
     "text": [
      " 60%|██████    | 30107/50000 [06:41<08:36, 38.49it/s]"
     ]
    },
    {
     "output_type": "stream",
     "name": "stdout",
     "text": [
      "Evaluation at timestep 30107 returned a mean returns of -240.0672110111686\n",
      "Epsilon = 0.06999999999999995\n",
      "Learning rate = 0.014943441886631926\n"
     ]
    },
    {
     "output_type": "stream",
     "name": "stderr",
     "text": [
      " 65%|██████▌   | 32596/50000 [07:51<08:14, 35.19it/s]"
     ]
    },
    {
     "output_type": "stream",
     "name": "stdout",
     "text": [
      "Evaluation at timestep 32596 returned a mean returns of -53.153044245737526\n",
      "Epsilon = 0.06999999999999995\n",
      "Learning rate = 0.014499606719157072\n"
     ]
    },
    {
     "output_type": "stream",
     "name": "stderr",
     "text": [
      " 70%|███████   | 35218/50000 [09:11<07:38, 32.22it/s]"
     ]
    },
    {
     "output_type": "stream",
     "name": "stdout",
     "text": [
      "Evaluation at timestep 35218 returned a mean returns of -124.82935929419997\n",
      "Epsilon = 0.06999999999999995\n",
      "Learning rate = 0.014068953899991387\n"
     ]
    },
    {
     "output_type": "stream",
     "name": "stderr",
     "text": [
      " 75%|███████▌  | 37505/50000 [10:26<06:52, 30.30it/s]"
     ]
    },
    {
     "output_type": "stream",
     "name": "stdout",
     "text": [
      "Evaluation at timestep 37505 returned a mean returns of -209.02042000227226\n",
      "Epsilon = 0.06999999999999995\n",
      "Learning rate = 0.01378898171738156\n"
     ]
    },
    {
     "output_type": "stream",
     "name": "stderr",
     "text": [
      " 80%|████████  | 40106/50000 [11:56<05:50, 28.25it/s]"
     ]
    },
    {
     "output_type": "stream",
     "name": "stdout",
     "text": [
      "Evaluation at timestep 40106 returned a mean returns of -213.64718822794583\n",
      "Epsilon = 0.06999999999999995\n",
      "Learning rate = 0.013514580981205667\n"
     ]
    },
    {
     "output_type": "stream",
     "name": "stderr",
     "text": [
      " 85%|████████▌ | 42673/50000 [13:32<04:37, 26.44it/s]"
     ]
    },
    {
     "output_type": "stream",
     "name": "stdout",
     "text": [
      "Evaluation at timestep 42673 returned a mean returns of -59.97615000305696\n",
      "Epsilon = 0.06999999999999995\n",
      "Learning rate = 0.013113184411482876\n"
     ]
    },
    {
     "output_type": "stream",
     "name": "stderr",
     "text": [
      " 90%|█████████ | 45082/50000 [15:07<03:17, 24.93it/s]"
     ]
    },
    {
     "output_type": "stream",
     "name": "stdout",
     "text": [
      "Evaluation at timestep 45082 returned a mean returns of -99.39427571611037\n",
      "Epsilon = 0.06999999999999995\n",
      "Learning rate = 0.012852232041694365\n"
     ]
    },
    {
     "output_type": "stream",
     "name": "stderr",
     "text": [
      " 95%|█████████▌| 47571/50000 [16:57<01:55, 21.06it/s]"
     ]
    },
    {
     "output_type": "stream",
     "name": "stdout",
     "text": [
      "Evaluation at timestep 47571 returned a mean returns of -115.89953280248886\n",
      "Epsilon = 0.06999999999999995\n",
      "Learning rate = 0.012470507897824\n"
     ]
    },
    {
     "output_type": "stream",
     "name": "stderr",
     "text": [
      "50054it [18:50, 44.28it/s]"
     ]
    },
    {
     "output_type": "stream",
     "name": "stdout",
     "text": [
      "Evaluation at timestep 50054 returned a mean returns of -166.4983724606181\n",
      "Epsilon = 0.06999999999999995\n",
      "Learning rate = 0.012222344790657301\n"
     ]
    },
    {
     "output_type": "stream",
     "name": "stderr",
     "text": [
      "\n"
     ]
    }
   ],
   "metadata": {
    "tags": []
   }
  },
  {
   "cell_type": "code",
   "execution_count": 21,
   "source": [
    "with open(f'{environment}_eval_{models[j]}.csv', 'ab') as eval:\n",
    "    for i in range(n_seeds):\n",
    "        np.savetxt(eval, [returns[i]], delimiter=',')"
   ],
   "outputs": [],
   "metadata": {}
  },
  {
   "cell_type": "code",
   "execution_count": 22,
   "source": [
    "with open(f'{environment}_train_{models[j]}.csv', 'ab') as train:\n",
    "    for i in range(n_seeds):\n",
    "        np.savetxt(train, [train_returns[i]], delimiter=',')\n",
    "        np.savetxt(train, [train_times[i]], delimiter=',')"
   ],
   "outputs": [],
   "metadata": {}
  },
  {
   "cell_type": "code",
   "execution_count": 20,
   "source": [
    "## Sample Efficiency Evaluation\n",
    "\n",
    "n_eps = []\n",
    "n_steps = []\n",
    "not_solved = []\n",
    "n_seeds=30\n",
    "\n",
    "j=7\n",
    "for i in range(n_seeds):\n",
    "    print(f\"\\n Run: {i+1} \\n\")\n",
    "    s, e, n = solve(env, \n",
    "            CONFIGS[j], \n",
    "            fa=function_approximators[j], \n",
    "            agent = agents[j],\n",
    "            target_return=-6,\n",
    "            op=operator.ge, \n",
    "            render=RENDER,\n",
    "            online=onlines[j])\n",
    "    env.close()\n",
    "    n_eps.append(e)\n",
    "    n_steps.append(s)\n",
    "    not_solved.append(n)"
   ],
   "outputs": [
    {
     "output_type": "stream",
     "name": "stdout",
     "text": [
      "\n",
      " Run: 1 \n",
      "\n",
      "Ep. timesteps: 6\n",
      "Total timesteps: 762\n",
      "Total episodes: 22\n",
      "Evaluation mean return: -5.999999999999999\n",
      "\n",
      " Run: 2 \n",
      "\n",
      "Ep. timesteps: 6\n",
      "Total timesteps: 728\n",
      "Total episodes: 19\n",
      "Evaluation mean return: -5.999999999999999\n",
      "\n",
      " Run: 3 \n",
      "\n",
      "Ep. timesteps: 6\n",
      "Total timesteps: 282\n",
      "Total episodes: 7\n",
      "Evaluation mean return: -5.999999999999999\n",
      "\n",
      " Run: 4 \n",
      "\n",
      "Ep. timesteps: 6\n",
      "Total timesteps: 425\n",
      "Total episodes: 10\n",
      "Evaluation mean return: -5.999999999999999\n",
      "\n",
      " Run: 5 \n",
      "\n",
      "Ep. timesteps: 6\n",
      "Total timesteps: 282\n",
      "Total episodes: 10\n",
      "Evaluation mean return: -5.999999999999999\n",
      "\n",
      " Run: 6 \n",
      "\n",
      "Ep. timesteps: 6\n",
      "Total timesteps: 710\n",
      "Total episodes: 18\n",
      "Evaluation mean return: -5.999999999999999\n",
      "\n",
      " Run: 7 \n",
      "\n",
      "Ep. timesteps: 6\n",
      "Total timesteps: 1075\n",
      "Total episodes: 25\n",
      "Evaluation mean return: -5.999999999999999\n",
      "\n",
      " Run: 8 \n",
      "\n",
      "Ep. timesteps: 6\n",
      "Total timesteps: 521\n",
      "Total episodes: 19\n",
      "Evaluation mean return: -5.999999999999999\n",
      "\n",
      " Run: 9 \n",
      "\n",
      "Ep. timesteps: 6\n",
      "Total timesteps: 412\n",
      "Total episodes: 12\n",
      "Evaluation mean return: -5.999999999999999\n",
      "\n",
      " Run: 10 \n",
      "\n",
      "Ep. timesteps: 6\n",
      "Total timesteps: 400\n",
      "Total episodes: 12\n",
      "Evaluation mean return: -5.999999999999999\n",
      "\n",
      " Run: 11 \n",
      "\n",
      "Ep. timesteps: 6\n",
      "Total timesteps: 651\n",
      "Total episodes: 18\n",
      "Evaluation mean return: -5.999999999999999\n",
      "\n",
      " Run: 12 \n",
      "\n",
      "Ep. timesteps: 6\n",
      "Total timesteps: 482\n",
      "Total episodes: 15\n",
      "Evaluation mean return: -5.999999999999999\n",
      "\n",
      " Run: 13 \n",
      "\n",
      "\n",
      " Run: 14 \n",
      "\n",
      "Ep. timesteps: 6\n",
      "Total timesteps: 356\n",
      "Total episodes: 11\n",
      "Evaluation mean return: -5.999999999999999\n",
      "\n",
      " Run: 15 \n",
      "\n",
      "Ep. timesteps: 6\n",
      "Total timesteps: 200\n",
      "Total episodes: 4\n",
      "Evaluation mean return: -5.999999999999999\n",
      "\n",
      " Run: 16 \n",
      "\n",
      "Ep. timesteps: 6\n",
      "Total timesteps: 211\n",
      "Total episodes: 6\n",
      "Evaluation mean return: -5.999999999999999\n",
      "\n",
      " Run: 17 \n",
      "\n",
      "Ep. timesteps: 6\n",
      "Total timesteps: 228\n",
      "Total episodes: 5\n",
      "Evaluation mean return: -5.999999999999999\n",
      "\n",
      " Run: 18 \n",
      "\n",
      "Ep. timesteps: 6\n",
      "Total timesteps: 267\n",
      "Total episodes: 9\n",
      "Evaluation mean return: -5.999999999999999\n",
      "\n",
      " Run: 19 \n",
      "\n",
      "Ep. timesteps: 6\n",
      "Total timesteps: 453\n",
      "Total episodes: 14\n",
      "Evaluation mean return: -5.999999999999999\n",
      "\n",
      " Run: 20 \n",
      "\n",
      "Ep. timesteps: 6\n",
      "Total timesteps: 484\n",
      "Total episodes: 12\n",
      "Evaluation mean return: -5.999999999999999\n",
      "\n",
      " Run: 21 \n",
      "\n",
      "Ep. timesteps: 6\n",
      "Total timesteps: 277\n",
      "Total episodes: 8\n",
      "Evaluation mean return: -5.999999999999999\n",
      "\n",
      " Run: 22 \n",
      "\n",
      "Ep. timesteps: 6\n",
      "Total timesteps: 482\n",
      "Total episodes: 12\n",
      "Evaluation mean return: -5.999999999999999\n",
      "\n",
      " Run: 23 \n",
      "\n",
      "Ep. timesteps: 6\n",
      "Total timesteps: 348\n",
      "Total episodes: 13\n",
      "Evaluation mean return: -5.999999999999999\n",
      "\n",
      " Run: 24 \n",
      "\n",
      "\n",
      " Run: 25 \n",
      "\n",
      "\n",
      " Run: 26 \n",
      "\n",
      "Ep. timesteps: 6\n",
      "Total timesteps: 264\n",
      "Total episodes: 7\n",
      "Evaluation mean return: -5.999999999999999\n",
      "\n",
      " Run: 27 \n",
      "\n",
      "Ep. timesteps: 6\n",
      "Total timesteps: 298\n",
      "Total episodes: 11\n",
      "Evaluation mean return: -5.999999999999999\n",
      "\n",
      " Run: 28 \n",
      "\n",
      "Ep. timesteps: 6\n",
      "Total timesteps: 526\n",
      "Total episodes: 18\n",
      "Evaluation mean return: -5.999999999999999\n",
      "\n",
      " Run: 29 \n",
      "\n",
      "Ep. timesteps: 6\n",
      "Total timesteps: 448\n",
      "Total episodes: 14\n",
      "Evaluation mean return: -5.999999999999999\n",
      "\n",
      " Run: 30 \n",
      "\n",
      "Ep. timesteps: 6\n",
      "Total timesteps: 404\n",
      "Total episodes: 10\n",
      "Evaluation mean return: -5.999999999999999\n"
     ]
    }
   ],
   "metadata": {}
  },
  {
   "cell_type": "code",
   "execution_count": 21,
   "source": [
    "with open(f'{environment}_se_{models[j]}.csv', 'ab') as se:\n",
    "    np.savetxt(se, [n_eps], delimiter=',')\n",
    "    np.savetxt(se, [n_steps], delimiter=',')\n",
    "    np.savetxt(se, [not_solved], delimiter=',')"
   ],
   "outputs": [],
   "metadata": {}
  },
  {
   "cell_type": "code",
   "execution_count": 22,
   "source": [
    "mean_eps = np.mean(n_eps)\n",
    "std_eps = np.std(n_eps)\n",
    "print(f\"Average n_eps: {mean_eps}\")\n",
    "print(f\"Std n_eps: {std_eps}\")\n",
    "print(f\"St.error n_eps: {std_eps/np.sqrt(n_seeds)}\")\n",
    "\n",
    "mean_steps = np.mean(n_steps)\n",
    "std_steps = np.std(n_steps)\n",
    "print(f\"Average n_steps: {mean_steps}0\")\n",
    "print(f\"Std n_steps: {std_steps}\")\n",
    "print(f\"St.error n_steps: {std_steps/np.sqrt(n_seeds)}\")\n",
    "\n",
    "print(f\"Not solved: {np.sum(not_solved)} runs\")"
   ],
   "outputs": [
    {
     "output_type": "stream",
     "name": "stdout",
     "text": [
      "Average n_eps: 21.633333333333333\n",
      "Std n_eps: 27.45721924902245\n",
      "St.error n_eps: 5.0129794496848845\n",
      "Average n_steps: 900.60\n",
      "Std n_steps: 1383.9435826651315\n",
      "St.error n_steps: 252.67237284673604\n",
      "Not solved: 3 runs\n"
     ]
    }
   ],
   "metadata": {}
  },
  {
   "cell_type": "code",
   "execution_count": 23,
   "source": [
    "## Training time\n",
    "\n",
    "times = []\n",
    "for j in range(8):\n",
    "        time = train_time(env, \n",
    "                CONFIGS[j], \n",
    "                fa=function_approximators[j], \n",
    "                agent = agents[j],\n",
    "                online=onlines[j])\n",
    "        env.close()\n",
    "        times.append(time)\n",
    "\n",
    "print(time)"
   ],
   "outputs": [
    {
     "output_type": "stream",
     "name": "stderr",
     "text": [
      "5005it [00:06, 732.22it/s]                          \n",
      "  3%|▎         | 173/5000 [00:00<00:02, 1637.78it/s]-6\n",
      "5006it [00:03, 1297.35it/s]                          \n",
      " 11%|█▏        | 566/5000 [00:00<00:01, 3382.90it/s]-8\n",
      "100%|██████████| 5000/5000 [00:37<00:00, 134.49it/s]\n",
      " 11%|█         | 549/5000 [00:00<00:01, 3684.31it/s]-6\n",
      "5007it [02:02, 40.97it/s]\n",
      "  0%|          | 0/5000 [00:00<?, ?it/s]-8\n",
      "5001it [03:33, 23.42it/s]\n",
      "  0%|          | 0/5000 [00:00<?, ?it/s]-6\n",
      "5003it [09:31,  8.75it/s]\n",
      " 11%|█         | 531/5000 [00:00<00:01, 2983.59it/s]-6\n",
      "100%|██████████| 5000/5000 [04:40<00:00, 17.83it/s]\n",
      "  1%|          | 28/5000 [00:00<00:20, 246.46it/s]-6\n",
      "5004it [00:56, 89.35it/s]                          -6\n",
      "56.0056312084198\n",
      "\n"
     ]
    }
   ],
   "metadata": {}
  },
  {
   "cell_type": "code",
   "execution_count": 24,
   "source": [
    "with open(f'{environment}_times.csv', 'ab') as t:\n",
    "    np.savetxt(t, [times], delimiter=',')"
   ],
   "outputs": [],
   "metadata": {}
  },
  {
   "cell_type": "code",
   "execution_count": null,
   "source": [],
   "outputs": [],
   "metadata": {}
  }
 ]
}