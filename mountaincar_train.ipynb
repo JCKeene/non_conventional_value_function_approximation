{
 "metadata": {
  "language_info": {
   "codemirror_mode": {
    "name": "ipython",
    "version": 3
   },
   "file_extension": ".py",
   "mimetype": "text/x-python",
   "name": "python",
   "nbconvert_exporter": "python",
   "pygments_lexer": "ipython3",
   "version": "3.8.10"
  },
  "orig_nbformat": 2,
  "kernelspec": {
   "name": "python3",
   "display_name": "Python 3.8.10 64-bit"
  },
  "interpreter": {
   "hash": "916dbcbb3f70747c44a77c7bcd40155683ae19c65e1c03b4aa3499c5328201f1"
  }
 },
 "nbformat": 4,
 "nbformat_minor": 2,
 "cells": [
  {
   "cell_type": "code",
   "execution_count": 1,
   "source": [
    "## Imports\n",
    "\n",
    "import numpy as np\n",
    "from custom_envs.mountain_car import MountainCarEnv\n",
    "\n",
    "from function_approximators.function_approximators import NeuralNetwork, LinearModel, DecisionTree, RandomForest, SupportVectorRegressor, KNeighboursRegressor, GaussianProcess, OnlineGaussianProcess\n",
    "from sklearn.gaussian_process.kernels import RBF\n",
    "from sklearn.metrics.pairwise import rbf_kernel\n",
    "\n",
    "from utils.train_utils_mc import train, solve, train_time\n",
    "\n",
    "from agents.ad_agents import DQNAgent, LinearAgent, FQIAgent, OnlineGaussianProccessAgent\n",
    "\n",
    "import operator\n"
   ],
   "outputs": [],
   "metadata": {}
  },
  {
   "cell_type": "code",
   "execution_count": 2,
   "source": [
    "## Environment\n",
    "\n",
    "function_approximators = [NeuralNetwork, LinearModel, DecisionTree, RandomForest, SupportVectorRegressor, KNeighboursRegressor, GaussianProcess, OnlineGaussianProcess]\n",
    "\n",
    "agents = [DQNAgent, LinearAgent, *[FQIAgent]*5, OnlineGaussianProccessAgent]\n",
    "\n",
    "RENDER = False\n",
    "env = MountainCarEnv()"
   ],
   "outputs": [],
   "metadata": {}
  },
  {
   "cell_type": "code",
   "execution_count": 6,
   "source": [
    "# DQN Config\n",
    "CONFIG_DQN = {\n",
    "    \"episode_length\": 200,\n",
    "    \"max_timesteps\": 50000,\n",
    "    \"max_time\": 30 * 60,\n",
    "    \"eval_freq\": 2500, \n",
    "    \"eval_episodes\": 1,\n",
    "    \"learning_rate\": 0.005,\n",
    "    \"hidden_size\": (16,16),\n",
    "    \"target_update_freq\": 100,\n",
    "    \"batch_size\": 32,\n",
    "    \"gamma\": 0.99,\n",
    "    \"buffer_capacity\": int(1e6),\n",
    "    \"plot_loss\": False,\n",
    "    \"epsilon\": 1,\n",
    "    \"max_deduct\": 0.95,\n",
    "    \"decay\": 0.4,\n",
    "    \"lr_step_size\": 1000,\n",
    "    \"lr_gamma\": 0.99,\n",
    "    \"max_steps\": 200,\n",
    "    \"non_param\": False,\n",
    "}\n",
    "\n",
    "# Linear Config\n",
    "CONFIG_LINEAR = {\n",
    "    \"episode_length\": 200,\n",
    "    \"max_timesteps\": 50000,\n",
    "    \"max_time\": 30 * 60,\n",
    "    \"eval_freq\": 2500, \n",
    "    \"eval_episodes\": 10,\n",
    "    \"learning_rate\": 0.03,\n",
    "    \"target_update_freq\": 200,\n",
    "    \"batch_size\": 64,\n",
    "    \"gamma\": 0.99,\n",
    "    \"buffer_capacity\": int(1e7),\n",
    "    \"plot_loss\": False,\n",
    "    \"epsilon\": 1,\n",
    "    \"max_steps\": 200,\n",
    "    \"poly_degree\": 2,\n",
    "    \"max_deduct\": 0.97,\n",
    "    \"decay\": 0.5,\n",
    "    \"lr_step_size\": 1000,\n",
    "    \"lr_gamma\": 0.99,\n",
    "    \"non_param\": False,\n",
    "}\n",
    "\n",
    "# Decision Tree Config\n",
    "CONFIG_DT = {\n",
    "    \"episode_length\": 200,\n",
    "    \"max_timesteps\": 50000,\n",
    "    \"max_time\": 30 * 60,\n",
    "    \"eval_freq\": 2500, \n",
    "    \"eval_episodes\": 1,\n",
    "    \"model_save_freq\": 100000,\n",
    "    \"model_save_capacity\": 1,\n",
    "    \"update_freq\": 1,\n",
    "    \"batch_size\": 1024,\n",
    "    \"gamma\": 0.99,\n",
    "    \"buffer_capacity\": int(1e5),\n",
    "    \"epsilon\": 1,\n",
    "    \"max_deduct\": 0.95,\n",
    "    \"decay\": 0.5,\n",
    "    \"max_steps\": 200,\n",
    "    \"non_param\": True,\n",
    "    \"model_params\": {\"criterion\":\"mse\",\"max_depth\": 10, \"min_samples_split\": 20, \"min_samples_leaf\": 5},\n",
    "    \"feature_names\": [\"Cart Position\", \"Cart Velocity\", \"Pole Angle\", \"Pole Angular Velocity\", \"Action: Push Left\", \"Action: Push Right\"],\n",
    "    \"plot_name\": \"dt_depth=8\",\n",
    "}\n",
    "\n",
    "# Random Forest Config\n",
    "CONFIG_RF = {\n",
    "    \"episode_length\": 200,\n",
    "    \"max_timesteps\": 50000,\n",
    "    \"max_time\": 30 * 60,\n",
    "    \"eval_freq\": 2500, \n",
    "    \"eval_episodes\": 1,\n",
    "    \"model_save_freq\": 2500,\n",
    "    \"model_save_capacity\": 20,\n",
    "    \"update_freq\": 5,\n",
    "    \"batch_size\": 512,\n",
    "    \"gamma\": 0.99,\n",
    "    \"buffer_capacity\": int(1e6),\n",
    "    \"epsilon\": 1,\n",
    "    \"max_deduct\": 0.95,\n",
    "    \"decay\": 0.5,\n",
    "    \"max_steps\": 200,\n",
    "    \"non_param\": True,\n",
    "    \"model_params\": {\"n_estimators\": 5,\"max_depth\": 5, \"min_samples_split\": 20, \"min_samples_leaf\": 5},\n",
    "}\n",
    "\n",
    "# Support Vector Regressor Config\n",
    "CONFIG_SVR = {\n",
    "    \"episode_length\": 200,\n",
    "    \"max_timesteps\": 50000,\n",
    "    \"max_time\": 30 * 60,\n",
    "    \"eval_freq\": 2500, \n",
    "    \"eval_episodes\": 1,\n",
    "    \"model_save_freq\": 100000,\n",
    "    \"model_save_capacity\": 1,\n",
    "    \"update_freq\": 1,\n",
    "    \"batch_size\": 512,\n",
    "    \"gamma\": 0.99,\n",
    "    \"buffer_capacity\": int(1e4),\n",
    "    \"epsilon\": 1,\n",
    "    \"max_deduct\": 0.95,\n",
    "    \"decay\": 0.4,\n",
    "    \"max_steps\": 200,\n",
    "    \"non_param\": True,\n",
    "    \"model_params\": {\"kernel\":\"rbf\", \"degree\": 2, \"C\": 1},\n",
    "}\n",
    "\n",
    "\n",
    "# K-Neighbors Regressor Config\n",
    "CONFIG_KNR = {\n",
    "    \"episode_length\": 200,\n",
    "    \"max_timesteps\": 50000,\n",
    "    \"max_time\": 30 * 60,\n",
    "    \"eval_freq\": 2500, \n",
    "    \"eval_episodes\": 1,\n",
    "    \"model_save_freq\": 2500,\n",
    "    \"model_save_capacity\": 20,\n",
    "    \"update_freq\": 1,\n",
    "    \"batch_size\": 256,\n",
    "    \"gamma\": 0.99,\n",
    "    \"buffer_capacity\": int(1e6),\n",
    "    \"epsilon\": 1,\n",
    "    \"max_deduct\": 0.95,\n",
    "    \"decay\": 0.4,\n",
    "    \"max_steps\": 200,\n",
    "    \"non_param\": True,\n",
    "    \"model_params\": {\"n_neighbors\":7, \"weights\": \"distance\", \"algorithm\": \"auto\", \"leaf_size\": 30},\n",
    "}\n",
    "\n",
    "# Gaussian Process Config\n",
    "CONFIG_GP = {\n",
    "    \"episode_length\": 200,\n",
    "    \"max_timesteps\": 20000,\n",
    "    \"max_time\": 30 * 60,\n",
    "    \"eval_freq\": 1000, \n",
    "    \"eval_episodes\": 5,\n",
    "    \"model_save_freq\": 1000,\n",
    "    \"model_save_capacity\": 20,\n",
    "    \"update_freq\": 10,\n",
    "    \"batch_size\": 512,\n",
    "    \"gamma\": 0.99,\n",
    "    \"buffer_capacity\": int(1e6),\n",
    "    \"epsilon\": 1,\n",
    "    \"max_deduct\": 0.95,\n",
    "    \"decay\": 0.3,\n",
    "    \"max_steps\": 200,\n",
    "    \"non_param\": True,\n",
    "    \"model_params\": {\"alpha\": 1e-10, \"normalize_y\": False, \"kernel\":  RBF(length_scale=0.08, length_scale_bounds=\"fixed\")},\n",
    "}\n",
    "\n",
    "# Online Gaussian Process Config\n",
    "CONFIG_GP_Online = {\n",
    "    \"episode_length\": 200,\n",
    "    \"max_timesteps\": 50000,\n",
    "    \"max_time\": 30 * 60,\n",
    "    \"eval_freq\": 2500, \n",
    "    \"eval_episodes\": 1,\n",
    "    \"gamma\": 0.99,\n",
    "    \"buffer_capacity\": int(1e6),\n",
    "    \"batch_size\": 32,\n",
    "    \"epsilon\": 1,\n",
    "    \"max_deduct\": 0.95,\n",
    "    \"decay\": 0.3,\n",
    "    \"max_steps\": 200,\n",
    "    \"non_param\": True,\n",
    "    \"model_params\": {\"sigma_0\": 0.5, \"init\": -100, \"kernel\":  rbf_kernel, \"epsilon_tol\": 0.05, \"basis_limit\": 1000},\n",
    "}\n",
    "\n",
    "CONFIGS = [CONFIG_DQN, CONFIG_LINEAR, CONFIG_DT, CONFIG_RF, CONFIG_SVR, CONFIG_KNR, CONFIG_GP, CONFIG_GP_Online]\n",
    "onlines = [False, False, False, False, False, False, False, True]\n",
    "models = [\"Neural Network\", \"Linear Model\", \"Decision Tree\", \"Random Forest\", \"Support Vectors\", \"K-Neighbours\", \"Gaussian Process\", \"Gaussian Process Online\"]"
   ],
   "outputs": [],
   "metadata": {}
  },
  {
   "cell_type": "code",
   "execution_count": 7,
   "source": [
    "## Performance Evaluation\n",
    "\n",
    "returns = []\n",
    "train_returns = []\n",
    "train_times = []\n",
    "n_seeds=1\n",
    "\n",
    "j=0\n",
    "for i in range(n_seeds):\n",
    "    print(f\"\\n Run: {i+1} \\n\")\n",
    "    r, _, t, times = train(env, \n",
    "            CONFIGS[j], \n",
    "            fa=function_approximators[j], \n",
    "            agent = agents[j], \n",
    "            render=RENDER,\n",
    "            online=onlines[j],\n",
    "            threshold=-1)\n",
    "    env.close()\n",
    "    returns.append(r)\n",
    "    train_returns.append(t)\n",
    "    train_times.append(times)\n",
    "    \n"
   ],
   "outputs": [
    {
     "output_type": "stream",
     "name": "stdout",
     "text": [
      "\n",
      " Run: 1 \n",
      "\n"
     ]
    },
    {
     "output_type": "stream",
     "name": "stderr",
     "text": [
      "  6%|▌         | 2800/50000 [00:01<00:33, 1416.97it/s]"
     ]
    },
    {
     "output_type": "stream",
     "name": "stdout",
     "text": [
      "Evaluation at timestep 2600 returned a mean returns of -200.0\n",
      "Epsilon = 0.886\n",
      "Learning rate = 0.0049005\n"
     ]
    },
    {
     "output_type": "stream",
     "name": "stderr",
     "text": [
      " 10%|█         | 5200/50000 [00:03<00:32, 1397.19it/s]"
     ]
    },
    {
     "output_type": "stream",
     "name": "stdout",
     "text": [
      "Evaluation at timestep 5000 returned a mean returns of -200.0\n",
      "Epsilon = 0.772\n",
      "Learning rate = 0.00480298005\n"
     ]
    },
    {
     "output_type": "stream",
     "name": "stderr",
     "text": [
      " 16%|█▌        | 7800/50000 [00:05<00:32, 1313.64it/s]"
     ]
    },
    {
     "output_type": "stream",
     "name": "stdout",
     "text": [
      "Evaluation at timestep 7600 returned a mean returns of -200.0\n",
      "Epsilon = 0.6485000000000001\n",
      "Learning rate = 0.00466032673953495\n"
     ]
    },
    {
     "output_type": "stream",
     "name": "stderr",
     "text": [
      " 20%|██        | 10200/50000 [00:07<00:29, 1342.77it/s]"
     ]
    },
    {
     "output_type": "stream",
     "name": "stdout",
     "text": [
      "Evaluation at timestep 10000 returned a mean returns of -200.0\n",
      "Epsilon = 0.5345\n",
      "Learning rate = 0.004567586237418204\n"
     ]
    },
    {
     "output_type": "stream",
     "name": "stderr",
     "text": [
      " 26%|██▌       | 12800/50000 [00:08<00:28, 1313.25it/s]"
     ]
    },
    {
     "output_type": "stream",
     "name": "stdout",
     "text": [
      "Evaluation at timestep 12600 returned a mean returns of -200.0\n",
      "Epsilon = 0.41100000000000003\n",
      "Learning rate = 0.004431924358580646\n"
     ]
    },
    {
     "output_type": "stream",
     "name": "stderr",
     "text": [
      " 30%|███       | 15200/50000 [00:10<00:26, 1326.53it/s]"
     ]
    },
    {
     "output_type": "stream",
     "name": "stdout",
     "text": [
      "Evaluation at timestep 15000 returned a mean returns of -200.0\n",
      "Epsilon = 0.29700000000000004\n",
      "Learning rate = 0.004343729063844891\n"
     ]
    },
    {
     "output_type": "stream",
     "name": "stderr",
     "text": [
      " 36%|███▌      | 17800/50000 [00:12<00:23, 1353.05it/s]"
     ]
    },
    {
     "output_type": "stream",
     "name": "stdout",
     "text": [
      "Evaluation at timestep 17600 returned a mean returns of -200.0\n",
      "Epsilon = 0.1735\n",
      "Learning rate = 0.004214715966919635\n"
     ]
    },
    {
     "output_type": "stream",
     "name": "stderr",
     "text": [
      " 40%|████      | 20200/50000 [00:14<00:22, 1340.79it/s]"
     ]
    },
    {
     "output_type": "stream",
     "name": "stdout",
     "text": [
      "Evaluation at timestep 20000 returned a mean returns of -200.0\n",
      "Epsilon = 0.0595\n",
      "Learning rate = 0.0041308431191779335\n"
     ]
    },
    {
     "output_type": "stream",
     "name": "stderr",
     "text": [
      " 46%|████▌     | 22800/50000 [00:16<00:20, 1338.36it/s]"
     ]
    },
    {
     "output_type": "stream",
     "name": "stdout",
     "text": [
      "Evaluation at timestep 22600 returned a mean returns of -200.0\n",
      "Epsilon = 0.050000000000000044\n",
      "Learning rate = 0.00400815294769523\n"
     ]
    },
    {
     "output_type": "stream",
     "name": "stderr",
     "text": [
      " 50%|█████     | 25200/50000 [00:17<00:18, 1325.57it/s]"
     ]
    },
    {
     "output_type": "stream",
     "name": "stdout",
     "text": [
      "Evaluation at timestep 25000 returned a mean returns of -200.0\n",
      "Epsilon = 0.050000000000000044\n",
      "Learning rate = 0.0039283907040360945\n"
     ]
    },
    {
     "output_type": "stream",
     "name": "stderr",
     "text": [
      " 56%|█████▌    | 27800/50000 [00:19<00:16, 1322.01it/s]"
     ]
    },
    {
     "output_type": "stream",
     "name": "stdout",
     "text": [
      "Evaluation at timestep 27600 returned a mean returns of -200.0\n",
      "Epsilon = 0.050000000000000044\n",
      "Learning rate = 0.0038117135717355183\n"
     ]
    },
    {
     "output_type": "stream",
     "name": "stderr",
     "text": [
      " 60%|██████    | 30200/50000 [00:21<00:14, 1320.41it/s]"
     ]
    },
    {
     "output_type": "stream",
     "name": "stdout",
     "text": [
      "Evaluation at timestep 30000 returned a mean returns of -200.0\n",
      "Epsilon = 0.050000000000000044\n",
      "Learning rate = 0.0037358604716579815\n"
     ]
    },
    {
     "output_type": "stream",
     "name": "stderr",
     "text": [
      " 66%|██████▌   | 32800/50000 [00:23<00:13, 1322.49it/s]"
     ]
    },
    {
     "output_type": "stream",
     "name": "stdout",
     "text": [
      "Evaluation at timestep 32600 returned a mean returns of -200.0\n",
      "Epsilon = 0.050000000000000044\n",
      "Learning rate = 0.003624901679789268\n"
     ]
    },
    {
     "output_type": "stream",
     "name": "stderr",
     "text": [
      " 70%|███████   | 35200/50000 [00:25<00:11, 1313.70it/s]"
     ]
    },
    {
     "output_type": "stream",
     "name": "stdout",
     "text": [
      "Evaluation at timestep 35000 returned a mean returns of -200.0\n",
      "Epsilon = 0.050000000000000044\n",
      "Learning rate = 0.0035527661363614614\n"
     ]
    },
    {
     "output_type": "stream",
     "name": "stderr",
     "text": [
      " 76%|███████▌  | 37800/50000 [00:27<00:09, 1331.54it/s]"
     ]
    },
    {
     "output_type": "stream",
     "name": "stdout",
     "text": [
      "Evaluation at timestep 37600 returned a mean returns of -200.0\n",
      "Epsilon = 0.050000000000000044\n",
      "Learning rate = 0.00344724542934539\n"
     ]
    },
    {
     "output_type": "stream",
     "name": "stderr",
     "text": [
      " 80%|████████  | 40200/50000 [00:28<00:07, 1279.11it/s]"
     ]
    },
    {
     "output_type": "stream",
     "name": "stdout",
     "text": [
      "Evaluation at timestep 40000 returned a mean returns of -200.0\n",
      "Epsilon = 0.050000000000000044\n",
      "Learning rate = 0.0033786452453014168\n"
     ]
    },
    {
     "output_type": "stream",
     "name": "stderr",
     "text": [
      " 86%|████████▌ | 42800/50000 [00:30<00:05, 1374.09it/s]"
     ]
    },
    {
     "output_type": "stream",
     "name": "stdout",
     "text": [
      "Evaluation at timestep 42600 returned a mean returns of -200.0\n",
      "Epsilon = 0.050000000000000044\n",
      "Learning rate = 0.003278296102870719\n"
     ]
    },
    {
     "output_type": "stream",
     "name": "stderr",
     "text": [
      " 90%|█████████ | 45200/50000 [00:32<00:03, 1281.43it/s]"
     ]
    },
    {
     "output_type": "stream",
     "name": "stdout",
     "text": [
      "Evaluation at timestep 45000 returned a mean returns of -200.0\n",
      "Epsilon = 0.050000000000000044\n",
      "Learning rate = 0.003213058010423591\n"
     ]
    },
    {
     "output_type": "stream",
     "name": "stderr",
     "text": [
      " 96%|█████████▌| 47800/50000 [00:34<00:01, 1289.44it/s]"
     ]
    },
    {
     "output_type": "stream",
     "name": "stdout",
     "text": [
      "Evaluation at timestep 47600 returned a mean returns of -200.0\n",
      "Epsilon = 0.050000000000000044\n",
      "Learning rate = 0.003117626974456\n"
     ]
    },
    {
     "output_type": "stream",
     "name": "stderr",
     "text": [
      "100%|██████████| 50000/50000 [00:35<00:00, 1391.69it/s]"
     ]
    },
    {
     "output_type": "stream",
     "name": "stdout",
     "text": [
      "Evaluation at timestep 50000 returned a mean returns of -200.0\n",
      "Epsilon = 0.050000000000000044\n",
      "Learning rate = 0.0030555861976643253\n"
     ]
    },
    {
     "output_type": "stream",
     "name": "stderr",
     "text": [
      "\n"
     ]
    }
   ],
   "metadata": {
    "tags": []
   }
  },
  {
   "cell_type": "code",
   "execution_count": 8,
   "source": [
    "train_returns\n"
   ],
   "outputs": [
    {
     "output_type": "execute_result",
     "data": {
      "text/plain": [
       "[array([-200., -200., -200., -200., -200., -200., -200., -200., -200.,\n",
       "        -200., -200., -200., -200., -200., -200., -200., -200., -200.,\n",
       "        -200., -200., -200., -200., -200., -200., -200., -200., -200.,\n",
       "        -200., -200., -200., -200., -200., -200., -200., -200., -200.,\n",
       "        -200., -200., -200., -200., -200., -200., -200., -200., -200.,\n",
       "        -200., -200., -200., -200., -200., -200., -200., -200., -200.,\n",
       "        -200., -200., -200., -200., -200., -200., -200., -200., -200.,\n",
       "        -200., -200., -200., -200., -200., -200., -200., -200., -200.,\n",
       "        -200., -200., -200., -200., -200., -200., -200., -200., -200.,\n",
       "        -200., -200., -200., -200., -200., -200., -200., -200., -200.,\n",
       "        -200., -200., -200., -200., -200., -200., -200., -200., -200.,\n",
       "        -200., -200., -200., -200., -200., -200., -200., -200., -200.,\n",
       "        -200., -200., -200., -200., -200., -200., -200., -200., -200.,\n",
       "        -200., -200., -200., -200., -200., -200., -200., -200., -200.,\n",
       "        -200., -200., -200., -200., -200., -200., -200., -200., -200.,\n",
       "        -200., -200., -200., -200., -200., -200., -200., -200., -200.,\n",
       "        -200., -200., -200., -200., -200., -200., -200., -200., -200.,\n",
       "        -200., -200., -200., -200., -200., -200., -200., -200., -200.,\n",
       "        -200., -200., -200., -200., -200., -200., -200., -200., -200.,\n",
       "        -200., -200., -200., -200., -200., -200., -200., -200., -200.,\n",
       "        -200., -200., -200., -200., -200., -200., -200., -200., -200.,\n",
       "        -200., -200., -200., -200., -200., -200., -200., -200., -200.,\n",
       "        -200., -200., -200., -200., -200., -200., -200., -200., -200.,\n",
       "        -200., -200., -200., -200., -200., -200., -200., -200., -200.,\n",
       "        -200., -200., -200., -200., -200., -200., -200., -200., -200.,\n",
       "        -200., -200., -200., -200., -200., -200., -200., -200., -200.,\n",
       "        -200., -200., -200., -200., -200., -200., -200., -200., -200.,\n",
       "        -200., -200., -200., -200., -200., -200., -200.])]"
      ]
     },
     "metadata": {},
     "execution_count": 8
    }
   ],
   "metadata": {}
  },
  {
   "cell_type": "code",
   "execution_count": 5,
   "source": [
    "with open(f'simplegrid_eval_{models[j]}.csv', 'ab') as eval:\n",
    "    for i in range(n_seeds):\n",
    "        np.savetxt(eval, [returns[i]], delimiter=',')"
   ],
   "outputs": [],
   "metadata": {}
  },
  {
   "cell_type": "code",
   "execution_count": 6,
   "source": [
    "with open(f'simplegrid_train_{models[j]}.csv', 'ab') as train:\n",
    "    for i in range(n_seeds):\n",
    "        np.savetxt(train, [train_returns[i]], delimiter=',')\n",
    "        np.savetxt(train, [train_times[i]], delimiter=',')"
   ],
   "outputs": [],
   "metadata": {}
  },
  {
   "cell_type": "code",
   "execution_count": 20,
   "source": [
    "## Sample Efficiency Evaluation\n",
    "\n",
    "n_eps = []\n",
    "n_steps = []\n",
    "not_solved = []\n",
    "n_seeds=30\n",
    "\n",
    "j=7\n",
    "for i in range(n_seeds):\n",
    "    print(f\"\\n Run: {i+1} \\n\")\n",
    "    s, e, n = solve(env, \n",
    "            CONFIGS[j], \n",
    "            fa=function_approximators[j], \n",
    "            agent = agents[j],\n",
    "            target_return=-6,\n",
    "            op=operator.ge, \n",
    "            render=RENDER,\n",
    "            online=onlines[j])\n",
    "    env.close()\n",
    "    n_eps.append(e)\n",
    "    n_steps.append(s)\n",
    "    not_solved.append(n)"
   ],
   "outputs": [
    {
     "output_type": "stream",
     "name": "stdout",
     "text": [
      "\n",
      " Run: 1 \n",
      "\n",
      "Ep. timesteps: 6\n",
      "Total timesteps: 762\n",
      "Total episodes: 22\n",
      "Evaluation mean return: -5.999999999999999\n",
      "\n",
      " Run: 2 \n",
      "\n",
      "Ep. timesteps: 6\n",
      "Total timesteps: 728\n",
      "Total episodes: 19\n",
      "Evaluation mean return: -5.999999999999999\n",
      "\n",
      " Run: 3 \n",
      "\n",
      "Ep. timesteps: 6\n",
      "Total timesteps: 282\n",
      "Total episodes: 7\n",
      "Evaluation mean return: -5.999999999999999\n",
      "\n",
      " Run: 4 \n",
      "\n",
      "Ep. timesteps: 6\n",
      "Total timesteps: 425\n",
      "Total episodes: 10\n",
      "Evaluation mean return: -5.999999999999999\n",
      "\n",
      " Run: 5 \n",
      "\n",
      "Ep. timesteps: 6\n",
      "Total timesteps: 282\n",
      "Total episodes: 10\n",
      "Evaluation mean return: -5.999999999999999\n",
      "\n",
      " Run: 6 \n",
      "\n",
      "Ep. timesteps: 6\n",
      "Total timesteps: 710\n",
      "Total episodes: 18\n",
      "Evaluation mean return: -5.999999999999999\n",
      "\n",
      " Run: 7 \n",
      "\n",
      "Ep. timesteps: 6\n",
      "Total timesteps: 1075\n",
      "Total episodes: 25\n",
      "Evaluation mean return: -5.999999999999999\n",
      "\n",
      " Run: 8 \n",
      "\n",
      "Ep. timesteps: 6\n",
      "Total timesteps: 521\n",
      "Total episodes: 19\n",
      "Evaluation mean return: -5.999999999999999\n",
      "\n",
      " Run: 9 \n",
      "\n",
      "Ep. timesteps: 6\n",
      "Total timesteps: 412\n",
      "Total episodes: 12\n",
      "Evaluation mean return: -5.999999999999999\n",
      "\n",
      " Run: 10 \n",
      "\n",
      "Ep. timesteps: 6\n",
      "Total timesteps: 400\n",
      "Total episodes: 12\n",
      "Evaluation mean return: -5.999999999999999\n",
      "\n",
      " Run: 11 \n",
      "\n",
      "Ep. timesteps: 6\n",
      "Total timesteps: 651\n",
      "Total episodes: 18\n",
      "Evaluation mean return: -5.999999999999999\n",
      "\n",
      " Run: 12 \n",
      "\n",
      "Ep. timesteps: 6\n",
      "Total timesteps: 482\n",
      "Total episodes: 15\n",
      "Evaluation mean return: -5.999999999999999\n",
      "\n",
      " Run: 13 \n",
      "\n",
      "\n",
      " Run: 14 \n",
      "\n",
      "Ep. timesteps: 6\n",
      "Total timesteps: 356\n",
      "Total episodes: 11\n",
      "Evaluation mean return: -5.999999999999999\n",
      "\n",
      " Run: 15 \n",
      "\n",
      "Ep. timesteps: 6\n",
      "Total timesteps: 200\n",
      "Total episodes: 4\n",
      "Evaluation mean return: -5.999999999999999\n",
      "\n",
      " Run: 16 \n",
      "\n",
      "Ep. timesteps: 6\n",
      "Total timesteps: 211\n",
      "Total episodes: 6\n",
      "Evaluation mean return: -5.999999999999999\n",
      "\n",
      " Run: 17 \n",
      "\n",
      "Ep. timesteps: 6\n",
      "Total timesteps: 228\n",
      "Total episodes: 5\n",
      "Evaluation mean return: -5.999999999999999\n",
      "\n",
      " Run: 18 \n",
      "\n",
      "Ep. timesteps: 6\n",
      "Total timesteps: 267\n",
      "Total episodes: 9\n",
      "Evaluation mean return: -5.999999999999999\n",
      "\n",
      " Run: 19 \n",
      "\n",
      "Ep. timesteps: 6\n",
      "Total timesteps: 453\n",
      "Total episodes: 14\n",
      "Evaluation mean return: -5.999999999999999\n",
      "\n",
      " Run: 20 \n",
      "\n",
      "Ep. timesteps: 6\n",
      "Total timesteps: 484\n",
      "Total episodes: 12\n",
      "Evaluation mean return: -5.999999999999999\n",
      "\n",
      " Run: 21 \n",
      "\n",
      "Ep. timesteps: 6\n",
      "Total timesteps: 277\n",
      "Total episodes: 8\n",
      "Evaluation mean return: -5.999999999999999\n",
      "\n",
      " Run: 22 \n",
      "\n",
      "Ep. timesteps: 6\n",
      "Total timesteps: 482\n",
      "Total episodes: 12\n",
      "Evaluation mean return: -5.999999999999999\n",
      "\n",
      " Run: 23 \n",
      "\n",
      "Ep. timesteps: 6\n",
      "Total timesteps: 348\n",
      "Total episodes: 13\n",
      "Evaluation mean return: -5.999999999999999\n",
      "\n",
      " Run: 24 \n",
      "\n",
      "\n",
      " Run: 25 \n",
      "\n",
      "\n",
      " Run: 26 \n",
      "\n",
      "Ep. timesteps: 6\n",
      "Total timesteps: 264\n",
      "Total episodes: 7\n",
      "Evaluation mean return: -5.999999999999999\n",
      "\n",
      " Run: 27 \n",
      "\n",
      "Ep. timesteps: 6\n",
      "Total timesteps: 298\n",
      "Total episodes: 11\n",
      "Evaluation mean return: -5.999999999999999\n",
      "\n",
      " Run: 28 \n",
      "\n",
      "Ep. timesteps: 6\n",
      "Total timesteps: 526\n",
      "Total episodes: 18\n",
      "Evaluation mean return: -5.999999999999999\n",
      "\n",
      " Run: 29 \n",
      "\n",
      "Ep. timesteps: 6\n",
      "Total timesteps: 448\n",
      "Total episodes: 14\n",
      "Evaluation mean return: -5.999999999999999\n",
      "\n",
      " Run: 30 \n",
      "\n",
      "Ep. timesteps: 6\n",
      "Total timesteps: 404\n",
      "Total episodes: 10\n",
      "Evaluation mean return: -5.999999999999999\n"
     ]
    }
   ],
   "metadata": {}
  },
  {
   "cell_type": "code",
   "execution_count": 21,
   "source": [
    "with open(f'simplegrid_se-6_{models[j]}.csv', 'ab') as se:\n",
    "    np.savetxt(se, [n_eps], delimiter=',')\n",
    "    np.savetxt(se, [n_steps], delimiter=',')\n",
    "    np.savetxt(se, [not_solved], delimiter=',')"
   ],
   "outputs": [],
   "metadata": {}
  },
  {
   "cell_type": "code",
   "execution_count": 22,
   "source": [
    "mean_eps = np.mean(n_eps)\n",
    "std_eps = np.std(n_eps)\n",
    "print(f\"Average n_eps: {mean_eps}\")\n",
    "print(f\"Std n_eps: {std_eps}\")\n",
    "print(f\"St.error n_eps: {std_eps/np.sqrt(n_seeds)}\")\n",
    "\n",
    "mean_steps = np.mean(n_steps)\n",
    "std_steps = np.std(n_steps)\n",
    "print(f\"Average n_steps: {mean_steps}0\")\n",
    "print(f\"Std n_steps: {std_steps}\")\n",
    "print(f\"St.error n_steps: {std_steps/np.sqrt(n_seeds)}\")\n",
    "\n",
    "print(f\"Not solved: {np.sum(not_solved)} runs\")"
   ],
   "outputs": [
    {
     "output_type": "stream",
     "name": "stdout",
     "text": [
      "Average n_eps: 21.633333333333333\n",
      "Std n_eps: 27.45721924902245\n",
      "St.error n_eps: 5.0129794496848845\n",
      "Average n_steps: 900.60\n",
      "Std n_steps: 1383.9435826651315\n",
      "St.error n_steps: 252.67237284673604\n",
      "Not solved: 3 runs\n"
     ]
    }
   ],
   "metadata": {}
  },
  {
   "cell_type": "code",
   "execution_count": 23,
   "source": [
    "## Training time\n",
    "\n",
    "times = []\n",
    "for j in range(8):\n",
    "        time = train_time(env, \n",
    "                CONFIGS[j], \n",
    "                fa=function_approximators[j], \n",
    "                agent = agents[j],\n",
    "                online=onlines[j])\n",
    "        env.close()\n",
    "        times.append(time)\n",
    "\n",
    "print(time)"
   ],
   "outputs": [
    {
     "output_type": "stream",
     "name": "stderr",
     "text": [
      "5005it [00:06, 732.22it/s]                          \n",
      "  3%|▎         | 173/5000 [00:00<00:02, 1637.78it/s]-6\n",
      "5006it [00:03, 1297.35it/s]                          \n",
      " 11%|█▏        | 566/5000 [00:00<00:01, 3382.90it/s]-8\n",
      "100%|██████████| 5000/5000 [00:37<00:00, 134.49it/s]\n",
      " 11%|█         | 549/5000 [00:00<00:01, 3684.31it/s]-6\n",
      "5007it [02:02, 40.97it/s]\n",
      "  0%|          | 0/5000 [00:00<?, ?it/s]-8\n",
      "5001it [03:33, 23.42it/s]\n",
      "  0%|          | 0/5000 [00:00<?, ?it/s]-6\n",
      "5003it [09:31,  8.75it/s]\n",
      " 11%|█         | 531/5000 [00:00<00:01, 2983.59it/s]-6\n",
      "100%|██████████| 5000/5000 [04:40<00:00, 17.83it/s]\n",
      "  1%|          | 28/5000 [00:00<00:20, 246.46it/s]-6\n",
      "5004it [00:56, 89.35it/s]                          -6\n",
      "56.0056312084198\n",
      "\n"
     ]
    }
   ],
   "metadata": {}
  },
  {
   "cell_type": "code",
   "execution_count": 24,
   "source": [
    "with open(f'simplegrid_times.csv', 'ab') as t:\n",
    "    np.savetxt(t, [times], delimiter=',')"
   ],
   "outputs": [],
   "metadata": {}
  },
  {
   "cell_type": "code",
   "execution_count": null,
   "source": [],
   "outputs": [],
   "metadata": {}
  }
 ]
}